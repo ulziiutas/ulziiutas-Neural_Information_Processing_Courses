{
 "cells": [
  {
   "cell_type": "markdown",
   "metadata": {},
   "source": [
    "_Neural Data Analysis_\n",
    "\n",
    "Lecturer: Prof. Dr. Philipp Berens, Dr. Alexander Ecker\n",
    "\n",
    "Tutors: Sarah Strauss, Santiago Cadena\n",
    "\n",
    "Summer term 2019\n",
    "\n",
    "Due date: 2019-04-30, 9am\n",
    "\n",
    "Student names: Guillem Boada, Ulzii-Utas\n",
    "\n",
    "# Exercise sheet 2\n",
    "\n",
    "If needed, download the data files ```nda_ex_1_*.npy``` from ILIAS and save it in the subfolder ```../data/```. Use a subset of the data for testing and debugging. But be careful not to make it too small, since the algorithm may fail to detect small clusters in this case. "
   ]
  },
  {
   "cell_type": "code",
   "execution_count": 1,
   "metadata": {},
   "outputs": [],
   "source": [
    "import pandas as pd\n",
    "import seaborn as sns\n",
    "import matplotlib.pyplot as plt\n",
    "import matplotlib as mpl\n",
    "import numpy as np\n",
    "from scipy import signal\n",
    "from sklearn.cluster import KMeans\n",
    "import scipy as sp\n",
    "from scipy.io import loadmat\n",
    "import copy\n",
    "from scipy import linalg\n",
    "import statistics\n",
    "import math\n",
    "from numpy.linalg import inv\n",
    "from numpy import matmul, transpose, dot\n",
    "from numba import jit, cuda, vectorize\n",
    "from scipy.stats import multivariate_normal\n",
    "import time\n",
    "\n",
    "sns.set_style('whitegrid')\n",
    "%matplotlib inline"
   ]
  },
  {
   "cell_type": "code",
   "execution_count": 2,
   "metadata": {},
   "outputs": [],
   "source": [
    "from numba import cuda"
   ]
  },
  {
   "cell_type": "markdown",
   "metadata": {},
   "source": [
    "## Load data"
   ]
  },
  {
   "cell_type": "code",
   "execution_count": 3,
   "metadata": {},
   "outputs": [],
   "source": [
    "# replace by path to your solutions\n",
    "b = np.load('../data/nda_ex_1_features.npy')\n",
    "s = np.load('../data/nda_ex_1_spiketimes.npy')\n",
    "w = np.load('../data/nda_ex_1_waveforms.npy')\n"
   ]
  },
  {
   "cell_type": "markdown",
   "metadata": {},
   "source": [
    "## Task 1: Generate toy data\n",
    "\n",
    "Sample 1000 data points from a two dimensional mixture of Gaussian model with three clusters  and the following parameters:\n",
    "\n",
    "$\\mu_1 = \\begin{bmatrix}0\\\\0\\end{bmatrix}, \\Sigma_1 = \\begin{bmatrix}1 & 0\\\\0 & 1\\end{bmatrix}, \\pi_1=0.3$\n",
    "\n",
    "$\\mu_2 = \\begin{bmatrix}5\\\\1\\end{bmatrix}, \\Sigma_2 = \\begin{bmatrix}2 & 1\\\\1 & 2\\end{bmatrix}, \\pi_2=0.5$\n",
    "\n",
    "$\\mu_3 = \\begin{bmatrix}0\\\\4\\end{bmatrix}, \\Sigma_3 = \\begin{bmatrix}1 & -0.5\\\\-0.5 & 1\\end{bmatrix}, \\pi_3=0.2$\n",
    "\n",
    "Plot the sampled data points and indicate in color the cluster each point came from. Plot the cluster means as well.\n",
    "\n",
    "*Grading: 1 pts*\n"
   ]
  },
  {
   "cell_type": "code",
   "execution_count": 4,
   "metadata": {},
   "outputs": [],
   "source": [
    "def sampleData(N, m, S, p):\n",
    "#    Generate N samples from a Mixture of Gaussian distribution with\n",
    "#    means m, covariances S and priors p. The function returns the sampled\n",
    "#    datapoints x as well as an indicator for the cluster the point \n",
    "#    originated from. The number of samples is rounded to the nearest integer.\n",
    "#\n",
    "#    m     #components x #dim\n",
    "#    S     #dim x #dim x #components\n",
    "#    p     #components\n",
    "#\n",
    "#    x     N x #dim\n",
    "#    ind   N\n",
    "    \n",
    "#   initialize the x and ind\n",
    "    x = np.zeros([N, 2]);\n",
    "    ind = np.zeros(N);\n",
    "    \n",
    "    dist_uni = np.random.uniform(0, 1, N);\n",
    "        \n",
    "    for i in range(N):\n",
    "        \n",
    "        if dist_uni[i] < p[0]:\n",
    "            \n",
    "            ind[i] = (0);            \n",
    "            x[i, :] = np.random.multivariate_normal(m[0, :], S[:, :, 0], 1);\n",
    "            \n",
    "        elif dist_uni[i] < p[0] + p[1]:\n",
    "            \n",
    "            ind[i] = (1);\n",
    "            x[i, :] = np.random.multivariate_normal(m[1, :], S[:, :, 1], 1);\n",
    "            \n",
    "        else:            \n",
    "            \n",
    "            ind[i] = (2);\n",
    "            x[i, :] = np.random.multivariate_normal(m[2, :], S[:, :, 2], 1);\n",
    "    \n",
    "    return (x,ind)    \n"
   ]
  },
  {
   "cell_type": "markdown",
   "metadata": {},
   "source": [
    "Specify parameters of Gaussians and run function"
   ]
  },
  {
   "cell_type": "markdown",
   "metadata": {},
   "source": [
    "Plot the toy dataset"
   ]
  },
  {
   "cell_type": "code",
   "execution_count": 5,
   "metadata": {},
   "outputs": [],
   "source": [
    "N = 1000\n",
    "m = np.array([[0, 0], [5, 1], [0, 4]])\n",
    "S1 = np.array([[1, 0], [0, 1]])\n",
    "S2 = np.array([[2, 1], [1, 2]])\n",
    "S3 = np.array([[1, -.5], [-.5, 1]])\n",
    "S = np.concatenate((S1[:,:,np.newaxis],\n",
    "                    S2[:,:,np.newaxis],\n",
    "                    S3[:,:,np.newaxis]), axis=2)\n",
    "p = np.array([.3, .5, .2])\n",
    "\n",
    "x, ind = sampleData(N, m, S, p)\n"
   ]
  },
  {
   "cell_type": "code",
   "execution_count": 6,
   "metadata": {},
   "outputs": [
    {
     "data": {
      "text/plain": [
       "(-4, 10)"
      ]
     },
     "execution_count": 6,
     "metadata": {},
     "output_type": "execute_result"
    },
    {
     "data": {
      "image/png": "[encoded data removed]",
      "text/plain": [
       "<Figure size 432x432 with 1 Axes>"
      ]
     },
     "metadata": {
      "needs_background": "light"
     },
     "output_type": "display_data"
    }
   ],
   "source": [
    "plt.figure(figsize=(6, 6))\n",
    "\n",
    "ax = plt.subplot(1,1,1, aspect='equal')\n",
    "plt.plot(x[ind==0,0],x[ind==0,1],'.k', markersize=3) \n",
    "plt.plot(x[ind==1,0],x[ind==1,1],'.r', markersize=3) \n",
    "plt.plot(x[ind==2,0],x[ind==2,1],'.b', markersize=3)\n",
    "\n",
    "plt.plot(np.mean(x[ind==0,0]),np.mean(x[ind==0,1]),'*k', markersize=12) \n",
    "plt.plot(np.mean(x[ind==1,0]),np.mean(x[ind==1,1]),'*r', markersize=12) \n",
    "plt.plot(np.mean(x[ind==2,0]),np.mean(x[ind==2,1]),'*b', markersize=12)\n",
    "\n",
    "plt.xlim((-4,10))\n",
    "plt.ylim((-4,10))\n"
   ]
  },
  {
   "cell_type": "markdown",
   "metadata": {},
   "source": [
    "## Task 2: Implement a Gaussian mixture model\n",
    "\n",
    "Implement the EM algorithm to fit a Gaussian mixture model in `mog()`.  Sort the data points by inferring their class labels from your mixture model (by using maximum a-posteriori classification). Fix the seed of the random number generator to ensure deterministic and reproducible behavior. Test it on the toy dataset specifying the correct number of clusters and make sure the code works correctly. Plot the data points from the toy dataset and indicate in color the cluster each point was assigned to by your model. How does the assignment compare to ground truth? If you run the algorithm multiple times, you will notice that some solutions provide suboptimal clustering solutions - depending on your initialization strategy.  \n",
    "\n",
    "*Grading: 4 pts*\n"
   ]
  },
  {
   "cell_type": "code",
   "execution_count": 7,
   "metadata": {},
   "outputs": [],
   "source": [
    "@jit(nopython=True)\n",
    "def mog(x, k, m, S, p, y):\n",
    "# Fit Mixture of Gaussian model\n",
    "#   ind, m, S, p = mog(x,k) fits a Mixture of Gaussian model to the data in\n",
    "#   x using k components. The output ind contains the MAP assignments of the\n",
    "#   datapoints in x to the found clusters. The outputs m, S, p contain\n",
    "#   the model parameters.\n",
    "#\n",
    "#   x:     N by D\n",
    "#\n",
    "#   ind:   N by 1\n",
    "#   m:     k by D\n",
    "#   S:     D by D by k\n",
    "#   p:     k by 1\n",
    "\n",
    "    # fill in your code here\n",
    "    N = len(x[:, 0]);\n",
    "    feature = len(x[0]);\n",
    "    \n",
    "    iteration = 100;\n",
    "    iter_count = 0;\n",
    "    \n",
    "    threshold = 1e-30;\n",
    "    log_likelihood_old = 0;\n",
    "    log_likelihood_new = 1;\n",
    "    \n",
    "    matmul_arr = np.zeros(features);\n",
    "    feature_arr_ = np.zeros(features);\n",
    "    feature_2d_arr_ = np.zeros((features, features));\n",
    "    ind = np.zeros(N);\n",
    "    arr = np.zeros(k);\n",
    "    \n",
    "    while iter_count < iteration and np.abs(log_likelihood_old - log_likelihood_new) > threshold:\n",
    "\n",
    "#         Expectation Step\n",
    "        \n",
    "        for j in range(N):           \n",
    "            sum_tmp = 0;\n",
    "            for i in range(k): \n",
    "#                 x - mean\n",
    "                minus = x[j] - m[i];\n",
    "                \n",
    "#                 inverse of covariance\n",
    "                S_inverse = inv(S[:, :, i]);\n",
    "                    \n",
    "#                 matrix multiplication of inverse of covariance and x - mean\n",
    "                for l in range(feature):\n",
    "                    tmp_val = 0;\n",
    "                    for o in range(feature):\n",
    "                        tmp_val += minus[o]*S_inverse[l][o];\n",
    "                    matmul_arr[l] = tmp_val;\n",
    "                    \n",
    "#                 matrix multiplication of previos step with transpose of x - mean\n",
    "                matmul_tmp = 0;\n",
    "                for l in range(feature):\n",
    "                    matmul_tmp += matmul_arr[l] * minus[l];  \n",
    "                    \n",
    "                exp_tmp = np.exp(-0.5 * matmul_tmp);\n",
    "                posterior = (p[i] / (2 * math.pi * np.sqrt(np.linalg.det(S[:, :, i])))) * exp_tmp;\n",
    "                sum_tmp += posterior;\n",
    "                y[j][i] = posterior;\n",
    "                \n",
    "            for i in range(k):\n",
    "                y[j][i] = y[j][i] /sum_tmp; \n",
    "                \n",
    "        N_k = np.zeros(k);\n",
    "        \n",
    "#         Maximization step \n",
    "#         finding Nk\n",
    "        for i in range(k):\n",
    "            for j in range(N):\n",
    "                N_k[i] += y[j][i];\n",
    "                \n",
    "#         calculating p\n",
    "        for i in range(k):\n",
    "            p[i] = N_k[i] / N;                \n",
    "                \n",
    "        for i in range(k):   \n",
    "            for l in range(feature):\n",
    "                feature_arr_[l] = 0;\n",
    "            \n",
    "#             posterior at n * data at n                \n",
    "            for j in range(N):\n",
    "                for l in range(feature):\n",
    "                    feature_arr_[l] += y[j][i] * x[j][l];                   \n",
    "                    \n",
    "#             Normalize to get mean for each feature\n",
    "            for l in range(feature):            \n",
    "                m[i][l] = feature_arr_[l]/N_k[i];\n",
    "                    \n",
    "            for l in range(feature):\n",
    "                for o in range(feature):\n",
    "                    feature_2d_arr_[l][o] = 0;\n",
    "                                \n",
    "#             posterior at n * (x - mean) * transpose(x - mean)\n",
    "                                        \n",
    "            for j in range(N):                      \n",
    "                tmp_arr = x[j] - m[i];                  \n",
    "                for l in range(feature):\n",
    "                    for o in range(feature):\n",
    "                        feature_2d_arr_[l][o] += y[j][i] * (tmp_arr[l] * tmp_arr[o]);\n",
    "                        \n",
    "#             Normalize to get covariance\n",
    "            for l in range(feature):\n",
    "                for o in range(feature):\n",
    "                    S[l, o, i] = feature_2d_arr_[l][o]/N_k[i];\n",
    "            \n",
    "        iter_count += 1; \n",
    "        \n",
    "        log_likelihood_old = log_likelihood_new;        \n",
    "        log_likelihood_new = 0;\n",
    "        \n",
    "        for j in range(N): \n",
    "            \n",
    "            log_sum = 0;\n",
    "            \n",
    "            for i in range(k):\n",
    "#                 x - mean\n",
    "                minus = x[j] - m[i];\n",
    "                                    \n",
    "#                 inverse of covariance\n",
    "                S_inverse = inv(S[:, :, i]);\n",
    "                \n",
    "#                 matrix multiplication of inverse of covariance and x - mean\n",
    "                for l in range(feature):\n",
    "                    tmp_val = 0;\n",
    "                    for o in range(feature):\n",
    "                        tmp_val += minus[o]*S_inverse[l][o];\n",
    "                        \n",
    "                    matmul_arr[l] = tmp_val;\n",
    "                    \n",
    "                matmul_tmp = 0;\n",
    "                \n",
    "#                 matrix multiplication of previos step with transpose of x - mean\n",
    "                for l in range(feature):\n",
    "                    matmul_tmp += matmul_arr[l] * minus[l];\n",
    "                \n",
    "                exp_tmp = np.exp(-0.5 * matmul_tmp);\n",
    "                posterior = (p[i] / (2 * math.pi * np.sqrt(np.linalg.det(S[:, :, i])))) * exp_tmp;\n",
    "                \n",
    "                log_sum += math.log(posterior);\n",
    "                \n",
    "#                 sum everyting to get LL\n",
    "            log_likelihood_new += log_sum;\n",
    "    \n",
    "    for j in range(N): \n",
    "        for i in range(k):\n",
    "            arr[i] = y[j][i];\n",
    "        ind[j] = np.argmax(arr);\n",
    "                \n",
    "    return (ind, m, S, p)"
   ]
  },
  {
   "cell_type": "code",
   "execution_count": 8,
   "metadata": {},
   "outputs": [],
   "source": [
    "# @jit(nopython=True)\n",
    "def mog_opti(x, k, m, S, p, y):\n",
    "# Fit Mixture of Gaussian model\n",
    "#   ind, m, S, p = mog(x,k) fits a Mixture of Gaussian model to the data in\n",
    "#   x using k components. The output ind contains the MAP assignments of the\n",
    "#   datapoints in x to the found clusters. The outputs m, S, p contain\n",
    "#   the model parameters.\n",
    "#\n",
    "#   x:     N by D\n",
    "#\n",
    "#   ind:   N by 1\n",
    "#   m:     k by D\n",
    "#   S:     D by D by k\n",
    "#   p:     k by 1\n",
    "\n",
    "    # fill in your code here\n",
    "    N = len(x[:, 0]);\n",
    "    feature = len(x[0]);\n",
    "    \n",
    "    iteration = 100;\n",
    "    iter_count = 0;\n",
    "    \n",
    "    threshold = 1e-30;\n",
    "    log_likelihood_old = 0;\n",
    "    log_likelihood_new = 1;\n",
    "    \n",
    "    \n",
    "#      and np.abs(log_likelihood_old - log_likelihood_new) > threshold\n",
    "    while iter_count < iteration and np.abs(log_likelihood_old - log_likelihood_new) > threshold:\n",
    "\n",
    "#         Expectation Step   \n",
    "        y_sum = np.zeros(N);\n",
    "#         x_transpose = x.transpose();\n",
    "        \n",
    "        for i in range(k): \n",
    "#           x - mean\n",
    "            tmp_arr_e_subtract = np.subtract(x.transpose(), m[i].reshape(len(m[i]), 1));\n",
    "            tmp_arr_e_dot = tmp_arr_e_subtract.copy();\n",
    "            \n",
    "#           inverse of covariance\n",
    "            S_inverse = inv(S[:, :, i]);\n",
    "            \n",
    "#           (x - mean) * covariance\n",
    "            for l in range(feature):\n",
    "                tmp_arr_e_dot[l] = np.sum(np.multiply(tmp_arr_e_subtract,S_inverse[:,l:l+1]), axis=0);\n",
    "                \n",
    "#           (x - mean) * covariance * (x-mean)\n",
    "            tmp_arr_e = np.zeros(N);\n",
    "            tmp_arr_e = np.sum(np.multiply(tmp_arr_e_subtract,tmp_arr_e_dot), axis=0);  \n",
    "#           power to e        \n",
    "            tmp_arr_e = np.exp(np.multiply(-0.5, tmp_arr_e));\n",
    "            tmp_arr_e = np.multiply(p[i] / (2 * math.pi * np.sqrt(np.linalg.det(S[:, :, i]))), tmp_arr_e);\n",
    "                        \n",
    "            y_sum = tmp_arr_e + y_sum;\n",
    "\n",
    "            y[:,i] = tmp_arr_e.copy();\n",
    "            \n",
    "        y = np.divide(y,y_sum.reshape(len(y_sum), 1));\n",
    "        \n",
    "#         calculating log likelihood\n",
    "        if iter_count != 0:\n",
    "            log_likelihood_old = log_likelihood_new;        \n",
    "            log_likelihood_new = 0;        \n",
    "            y_sum = np.log(y_sum);\n",
    "            log_likelihood_new = np.sum(y_sum);\n",
    "            if np.abs(log_likelihood_old - log_likelihood_new) < threshold:\n",
    "                break;    \n",
    "                \n",
    "        N_k = np.zeros(k);\n",
    "        \n",
    "#         Maximization step \n",
    "#         finding Nk\n",
    "        t_y = y.transpose();\n",
    "        for i in range(k):\n",
    "            N_k[i] = np.sum(t_y[i]);\n",
    "                \n",
    "#         calculating p\n",
    "        for i in range(k):\n",
    "            p[i] = N_k[i] / N;                \n",
    "                    \n",
    "#         for each k find mean and covariance\n",
    "        \n",
    "        for i in range(k):                           \n",
    "            for l in range(feature):\n",
    "                m[i][l] = np.dot(t_y[i], x.transpose()[l])/N_k[i];   \n",
    "                \n",
    "            tmp_arr_multiply = np.subtract(x.transpose(), m[i].reshape(len(m[i]), 1));                  \n",
    "            \n",
    "            \n",
    "            matrix_multiply_nn = np.zeros((features, len(x[:,0])));\n",
    "            matrix_multiply_nn[0:feature,:] = np.multiply(tmp_arr_multiply,tmp_arr_multiply);\n",
    "            \n",
    "            for l in range(feature):\n",
    "                for j in range(l + 1, feature):     \n",
    "                    S[l, j, i] = np.dot(np.multiply(tmp_arr_multiply[l],tmp_arr_multiply[j]), t_y[i])/N_k[i];                              \n",
    "                    S[j, l, i] = S[l, j, i];\n",
    "                    \n",
    "            for l in range(feature):\n",
    "                S[l, l, i] = np.dot(matrix_multiply_nn[l], t_y[i])/N_k[i];\n",
    "            \n",
    "            \n",
    "        iter_count += 1; \n",
    "    \n",
    "    t_y = y.transpose();\n",
    "    \n",
    "    return (t_y, m, S, p)\n"
   ]
  },
  {
   "cell_type": "markdown",
   "metadata": {},
   "source": [
    "Run Mixture of Gaussian on toy data"
   ]
  },
  {
   "cell_type": "code",
   "execution_count": 9,
   "metadata": {},
   "outputs": [
    {
     "name": "stdout",
     "output_type": "stream",
     "text": [
      "0.07878947257995605\n"
     ]
    }
   ],
   "source": [
    "start = time.time()\n",
    "\n",
    "k = 3;\n",
    "features = len(x[0]);\n",
    "m = np.zeros((features,k));\n",
    "S = np.zeros((features,features,k));\n",
    "p = np.zeros(k);\n",
    "\n",
    "kmeans = KMeans(n_clusters=k).fit(x);\n",
    "m = kmeans.cluster_centers_;\n",
    "labels = kmeans.labels_;\n",
    "\n",
    "for i in range(k):                \n",
    "    S[:, :, i] = np.cov(x, rowvar = False);\n",
    "    p[i] = sum(item == i for item in labels) / N;\n",
    "    \n",
    "y = np.zeros([N, k], dtype=np.float64);\n",
    "\n",
    "t_y, m, S, p = mog_opti(x, k, m, S, p, y);\n",
    "ind2 = np.argmax(t_y, axis = 0);\n",
    "# ind2, m, S, p = mog(x, k, m, S, p, y);\n",
    "\n",
    "end = time.time()\n",
    "print(end - start)"
   ]
  },
  {
   "cell_type": "markdown",
   "metadata": {},
   "source": [
    "Plot toy data with cluster assignments and compare to original labels"
   ]
  },
  {
   "cell_type": "code",
   "execution_count": 10,
   "metadata": {},
   "outputs": [
    {
     "data": {
      "text/plain": [
       "Text(0.5, 1.0, 'MoG labels')"
      ]
     },
     "execution_count": 10,
     "metadata": {},
     "output_type": "execute_result"
    },
    {
     "data": {
      "image/png": "[encoded data removed]",
      "text/plain": [
       "<Figure size 864x432 with 2 Axes>"
      ]
     },
     "metadata": {
      "needs_background": "light"
     },
     "output_type": "display_data"
    }
   ],
   "source": [
    "plt.figure(figsize=(12, 6))\n",
    "\n",
    "ax = plt.subplot(1,2,1, aspect='equal')\n",
    "plt.plot(x[ind==0,0],x[ind==0,1],'.k', markersize=3) \n",
    "plt.plot(x[ind==1,0],x[ind==1,1],'.r', markersize=3) \n",
    "plt.plot(x[ind==2,0],x[ind==2,1],'.b', markersize=3)\n",
    "plt.plot(np.mean(x[ind==0,0]),np.mean(x[ind==0,1]),'*k', markersize=16) \n",
    "plt.plot(np.mean(x[ind==1,0]),np.mean(x[ind==1,1]),'*r', markersize=16) \n",
    "plt.plot(np.mean(x[ind==2,0]),np.mean(x[ind==2,1]),'*b', markersize=16)\n",
    "\n",
    "plt.xlim((-4,10))\n",
    "plt.ylim((-4,10))\n",
    "plt.title('True labels')\n",
    "\n",
    "ax = plt.subplot(1,2,2, aspect='equal')\n",
    "plt.plot(x[ind2==0,0],x[ind2==0,1],'.k', markersize=3) \n",
    "plt.plot(x[ind2==1,0],x[ind2==1,1],'.r', markersize=3) \n",
    "plt.plot(x[ind2==2,0],x[ind2==2,1],'.b', markersize=3)\n",
    "plt.plot(np.mean(x[ind2==0,0]),np.mean(x[ind2==0,1]),'*k', markersize=16) \n",
    "plt.plot(np.mean(x[ind2==1,0]),np.mean(x[ind2==1,1]),'*r', markersize=16) \n",
    "plt.plot(np.mean(x[ind2==2,0]),np.mean(x[ind2==2,1]),'*b', markersize=16)\n",
    "\n",
    "\n",
    "plt.xlim((-4,10))\n",
    "plt.ylim((-4,10))\n",
    "plt.title('MoG labels')\n",
    "\n"
   ]
  },
  {
   "cell_type": "markdown",
   "metadata": {},
   "source": [
    "## Task 3: Model complexity\n",
    "A priori we do not how many neurons we recorded. Extend your algorithm with an automatic procedure to select the appropriate number of mixture components (clusters). Base your decision on the Bayesian Information Criterion:\n",
    "\n",
    "$BIC = -2L+P \\log N,$\n",
    "\n",
    "where $L$ is the log-likelihood of the data under the best model, $P$ is the number of parameters of the model and $N$ is the number of data points. You want to minimize the quantity. Plot the BIC as a function of mixture components. What is the optimal number of clusters on the toy dataset?\n",
    "\n",
    "You can also use the BIC to make your algorithm robust against suboptimal solutions due to local minima. Start the algorithm multiple times and pick the best solutions for extra points. You will notice that this depends a lot on which initialization strategy you use.\n",
    "\n",
    "*Grading: 2 pts + 1 extra pt*\n",
    "\n"
   ]
  },
  {
   "cell_type": "code",
   "execution_count": 11,
   "metadata": {},
   "outputs": [],
   "source": [
    "def mog_bic(x, m, S, p):\n",
    "# Compute the BIC for a fitted Mixture of Gaussian model\n",
    "#   bic, LL = mog_bic(x,k) computes the the Bayesian Information \n",
    "#   Criterion value and the log-likelihood of the fitted model.\n",
    "#\n",
    "#   x:     N by D\n",
    "#   m:     k by D\n",
    "#   S:     D by D by k\n",
    "\n",
    "#   bic:   1 by 1\n",
    "#   LL:    1 by 1\n",
    "\n",
    "# fill in your code here\n",
    "    K = len(S[0,0,:]);\n",
    "    D = len(S[:,0,0]);\n",
    "    \n",
    "#     For each Gaussian you have:\n",
    "#     1. A Symmetric full DxD covariance matrix giving (D*D - D)/2 + D parameters ((D*D - D)/2 \n",
    "#     is the number of off-diagonal elements and D is the number of diagonal elements)\n",
    "#     2. A D dimensional mean vector giving D parameters\n",
    "#     3. A mixing weight giving another parameter\n",
    "\n",
    "#     This results in Df = (D*D - D)/2 + 2D + 1 for each gaussian.\n",
    "#     Given you have K components, you have (K*Df)-1 parameters. Because the mixing weights must \n",
    "#     sum to 1, you only need to find K-1 of them. The Kth weight can be calculated by subtracting \n",
    "#     the sum of the (K-1) weights from 1.\n",
    "\n",
    "#     found the formula from the following stackexchange post\n",
    "#     https://stats.stackexchange.com/questions/229293/the-number-of-parameters-in-gaussian-mixture-model\n",
    "\n",
    "    P = ((D*D - D)/2 +2*D + 1)*K - 1;\n",
    "    p_x = 0;\n",
    "    \n",
    "    for i in range(K):        \n",
    "        p_x += p[i] * multivariate_normal(m[i], S[:, :, i]).pdf(x);\n",
    "        \n",
    "    LL = np.sum(np.log(p_x));\n",
    "       \n",
    "    \n",
    "    bic = -2 * LL + P * math.log(len(x[:,0]));\n",
    "    \n",
    "    return (bic, LL)\n",
    "    "
   ]
  },
  {
   "cell_type": "markdown",
   "metadata": {},
   "source": [
    "Fit and compute the BIC for mixture models with different numbers of clusters (e.g., between 2 and 6)."
   ]
  },
  {
   "cell_type": "code",
   "execution_count": 12,
   "metadata": {},
   "outputs": [
    {
     "name": "stdout",
     "output_type": "stream",
     "text": [
      "2.207096815109253\n"
     ]
    }
   ],
   "source": [
    "K = [2, 3, 4, 5, 6]\n",
    "BIC = np.zeros((3,len(K)))\n",
    "LL = np.zeros((3,len(K)))\n",
    "\n",
    "# run mog and BIC multiple times here\n",
    "start = time.time()\n",
    "for i in range(len(K)):\n",
    "    for l in range(3):\n",
    "        \n",
    "        k = K[i];\n",
    "        features = len(x[0]);\n",
    "        m = np.zeros((features,k));\n",
    "        S = np.zeros((features,features,k));\n",
    "        p = np.zeros(k);\n",
    "\n",
    "        kmeans = KMeans(n_clusters=k).fit(x);\n",
    "        m = kmeans.cluster_centers_;\n",
    "        labels = kmeans.labels_;\n",
    "\n",
    "        for o in range(k):                \n",
    "            S[:, :, o] = np.cov(x, rowvar = False);\n",
    "            p[o] = sum(item == o for item in labels) / N;\n",
    "\n",
    "        y = np.zeros([N, k], dtype=np.float64);\n",
    "\n",
    "        ind_, m, S, p = mog_opti(x, k, m, S, p, y);\n",
    "#         ind_, m, S, p = mog(x, k, m, S, p, y);\n",
    "        BIC[l][i], LL[l][i] = mog_bic(x, m, S, p);\n",
    "end = time.time()\n",
    "print(end - start)"
   ]
  },
  {
   "cell_type": "code",
   "execution_count": 13,
   "metadata": {},
   "outputs": [
    {
     "data": {
      "text/plain": [
       "(1, 7)"
      ]
     },
     "execution_count": 13,
     "metadata": {},
     "output_type": "execute_result"
    },
    {
     "data": {
      "image/png": "[encoded data removed]",
      "text/plain": [
       "<Figure size 360x288 with 1 Axes>"
      ]
     },
     "metadata": {
      "needs_background": "light"
     },
     "output_type": "display_data"
    }
   ],
   "source": [
    "plt.figure(figsize=(5, 4))\n",
    "\n",
    "plt.plot(K,np.min(BIC,axis=0),'s')\n",
    "plt.xlabel('Number of clusters')\n",
    "plt.ylabel('BIC')\n",
    "plt.xticks(K)\n",
    "plt.xlim((1,7))"
   ]
  },
  {
   "cell_type": "markdown",
   "metadata": {},
   "source": [
    "## Task 4: Spike sorting using Mixture of Gaussian \n",
    "Run the full algorithm on your set of extracted features (including model complexity selection). Plot the BIC as a function of the number of mixture components on the real data. For the best model, make scatter plots of the first PCs on all four channels (6 plots). Color-code each data point according to its class label in the model with the optimal number of clusters. In addition, indicate the position (mean) of the clusters in your plot. \n",
    "\n",
    "*Grading: 3 pts*\n"
   ]
  },
  {
   "cell_type": "code",
   "execution_count": 14,
   "metadata": {},
   "outputs": [
    {
     "name": "stdout",
     "output_type": "stream",
     "text": [
      "716.213344335556\n"
     ]
    }
   ],
   "source": [
    "K = np.arange(2,20)\n",
    "BIC = np.zeros(len(K))\n",
    "LL = np.zeros(len(K))\n",
    "N = len(b[:,0]);\n",
    "\n",
    "start = time.time()\n",
    "for i in range(len(K)):\n",
    "    \n",
    "    k = K[i];\n",
    "    features = len(b[0]);\n",
    "    m = np.zeros((features,k));\n",
    "    S = np.zeros((features,features,k));\n",
    "    p = np.zeros(k);\n",
    "\n",
    "    kmeans = KMeans(n_clusters=k).fit(b);\n",
    "    m = kmeans.cluster_centers_;\n",
    "    labels = kmeans.labels_;\n",
    "\n",
    "    for o in range(k):                \n",
    "        S[:, :, o] = np.cov(b, rowvar = False);\n",
    "        p[o] = sum(item == o for item in labels) / N;\n",
    "\n",
    "    y = np.zeros([N, k], dtype=np.float64);\n",
    "\n",
    "    ind_, m, S, p = mog_opti(b, k, m, S, p, y);\n",
    "    BIC[i], LL[i] = mog_bic(b, m, S, p);\n",
    "\n",
    "end = time.time()\n",
    "print(end - start)\n",
    "  "
   ]
  },
  {
   "cell_type": "markdown",
   "metadata": {},
   "source": [
    "Plot BIC"
   ]
  },
  {
   "cell_type": "code",
   "execution_count": null,
   "metadata": {},
   "outputs": [],
   "source": [
    "plt.figure(figsize=(5, 4))\n",
    "plt.plot(K,BIC,'s')\n",
    "plt.xlabel('Number of clusters')\n",
    "plt.ylabel('BIC')\n",
    "plt.xticks(K)\n",
    "plt.xlim((2,20))"
   ]
  },
  {
   "cell_type": "markdown",
   "metadata": {},
   "source": [
    "Refit model with lowest BIC and plot data points"
   ]
  },
  {
   "cell_type": "code",
   "execution_count": null,
   "metadata": {},
   "outputs": [],
   "source": [
    "start = time.time()\n",
    "k = K[np.argmin(BIC)]\n",
    "features = len(b[0]);\n",
    "m = np.zeros((features,k));\n",
    "S = np.zeros((features,features,k));\n",
    "p = np.zeros(k);\n",
    "\n",
    "kmeans = KMeans(n_clusters=k).fit(b);\n",
    "m = kmeans.cluster_centers_;\n",
    "labels = kmeans.labels_;\n",
    "\n",
    "for o in range(k):                \n",
    "    S[:, :, o] = np.cov(b, rowvar = False);\n",
    "    p[o] = sum(item == o for item in labels) / N;\n",
    "\n",
    "y = np.zeros([N, k], dtype=np.float64);\n",
    "\n",
    "t_y, m, S, p = mog_opti(b, k, m, S, p, y);\n",
    "a = np.argmax(t_y, axis = 0);\n",
    "\n",
    "end = time.time()\n",
    "print(end - start)"
   ]
  },
  {
   "cell_type": "code",
   "execution_count": null,
   "metadata": {},
   "outputs": [],
   "source": [
    "plt.figure(figsize=(10, 6))\n",
    "plt.suptitle('Scatter plots',fontsize=20)\n",
    "\n",
    "idx = [0, 3, 6, 9]\n",
    "p = 1\n",
    "labels = ['Ch1','Ch2','Ch3','Ch4']\n",
    "for i in np.arange(0,4):\n",
    "    for j in np.arange(i+1,4):\n",
    "        ax = plt.subplot(2,3,p, aspect='equal')\n",
    "        for l in range(k):\n",
    "            plt.plot(b[a==l,idx[i]],b[a==l,idx[j]],'.', markersize=.7)\n",
    "        plt.xlabel(labels[i])\n",
    "        plt.ylabel(labels[j])\n",
    "        plt.xlim((-1500,1500))\n",
    "        plt.ylim((-1500,1500))\n",
    "        ax.set_xticks([])\n",
    "        ax.set_yticks([])\n",
    "        p = p+1"
   ]
  },
  {
   "cell_type": "code",
   "execution_count": 94,
   "metadata": {},
   "outputs": [],
   "source": [
    "np.save('../data/nda_ex_2_means',m)\n",
    "np.save('../data/nda_ex_2_covs',S)\n",
    "np.save('../data/nda_ex_2_pis',p)\n",
    "np.save('../data/nda_ex_2_labels',a)"
   ]
  },
  {
   "cell_type": "code",
   "execution_count": null,
   "metadata": {},
   "outputs": [],
   "source": []
  }
 ],
 "metadata": {
  "anaconda-cloud": {},
  "kernelspec": {
   "display_name": "Python 3",
   "language": "python",
   "name": "python3"
  },
  "language_info": {
   "codemirror_mode": {
    "name": "ipython",
    "version": 3
   },
   "file_extension": ".py",
   "mimetype": "text/x-python",
   "name": "python",
   "nbconvert_exporter": "python",
   "pygments_lexer": "ipython3",
   "version": "3.6.8"
  },
  "nteract": {
   "version": "0.13.0"
  }
 },
 "nbformat": 4,
 "nbformat_minor": 1
}
