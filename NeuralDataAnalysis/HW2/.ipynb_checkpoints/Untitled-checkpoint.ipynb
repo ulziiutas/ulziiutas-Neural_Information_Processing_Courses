{
 "cells": [
  {
   "cell_type": "code",
   "execution_count": 135,
   "metadata": {},
   "outputs": [],
   "source": [
    "import numpy as np\n",
    "from timeit import default_timer as timer\n",
    "from numba import vectorize, jit, cuda\n",
    "import time"
   ]
  },
  {
   "cell_type": "code",
   "execution_count": 110,
   "metadata": {},
   "outputs": [],
   "source": [
    "@numba.jit\n",
    "def clamp(x, xmin, xmax):\n",
    "    if x < xmin:\n",
    "        return xmin\n",
    "    elif x > xmax:\n",
    "        return xmax\n",
    "    else:\n",
    "        return x\n",
    "    \n",
    "@numba.cuda.jit\n",
    "def clamp_array(x, xmin, xmax, out):\n",
    "    # Assuming 1D array\n",
    "    start = numba.cuda.grid(1)\n",
    "    stride = numba.cuda.gridsize(1)\n",
    "    \n",
    "    for i in range(start, x.shape[0], stride):\n",
    "        out[i] = clamp(x[i], xmin, xmax)  # call \"CPU\" function here\n",
    "\n"
   ]
  },
  {
   "cell_type": "code",
   "execution_count": 111,
   "metadata": {},
   "outputs": [
    {
     "name": "stdout",
     "output_type": "stream",
     "text": [
      "[-1. -1. -1. -1. -1. -1. -1. -1. -1. -1.]\n",
      "[0.01001001 0.03003003 0.05005005 0.07007007 0.09009009 0.11011011\n",
      " 0.13013013 0.15015015 0.17017017 0.19019019]\n",
      "[1. 1. 1. 1. 1. 1. 1. 1. 1. 1.]\n"
     ]
    }
   ],
   "source": [
    "x = np.linspace(-10, 10, 1000)\n",
    "out_device = numba.cuda.device_array_like(x)\n",
    "clamp_array[64, 64](x, -1, 1, out_device)\n",
    "\n",
    "out = out_device.copy_to_host()\n",
    "print(out[:10])\n",
    "print(out[500:510])\n",
    "print(out[-10:])"
   ]
  },
  {
   "cell_type": "code",
   "execution_count": 161,
   "metadata": {},
   "outputs": [],
   "source": [
    "SQRT_TWOPI = np.float32(math.sqrt(2 * math.pi))\n",
    "\n",
    "@numba.vectorize(['float32(float32, float32, float32)'], target='cuda')\n",
    "def gaussian(x, x0, sigma):\n",
    "    return math.exp(-((x - x0) / sigma)**2 / 2) / SQRT_TWOPI / sigma\n",
    "\n",
    "def gaussianno(x, x0, sigma):\n",
    "    return np.exp(-((x - x0) / sigma)**2 / 2) / SQRT_TWOPI / sigma\n",
    "\n",
    "@jit(nopython = True)\n",
    "def gaussianjit(x, x0, sigma):\n",
    "    return np.exp(-((x - x0) / sigma)**2 / 2) / SQRT_TWOPI / sigma"
   ]
  },
  {
   "cell_type": "code",
   "execution_count": 159,
   "metadata": {},
   "outputs": [
    {
     "name": "stdout",
     "output_type": "stream",
     "text": [
      "152.97770643234253\n",
      "291.8466238975525\n"
     ]
    }
   ],
   "source": [
    "x = np.linspace(-3, 3, 100000000, dtype=np.float32)\n",
    "\n",
    "start = time.time()\n",
    "for i in range(100):\n",
    "    g = gaussian(x, 0, 1)  # 1D result\n",
    "    x2d = x.reshape((10000,10000))\n",
    "    g2d = gaussian(x2d, 0, 1) # 2D result\n",
    "\n",
    "end = time.time()\n",
    "print(end - start)\n",
    "\n",
    "start = time.time()\n",
    "for i in range(100):\n",
    "    g2 = gaussianno(x, 0, 1)  # 1D result\n",
    "    x2d2 = x.reshape((10000,10000))\n",
    "    g2d2 = gaussianno(x2d2, 0, 1) # 2D result\n",
    "\n",
    "end = time.time()\n",
    "print(end - start)\n"
   ]
  },
  {
   "cell_type": "code",
   "execution_count": 162,
   "metadata": {},
   "outputs": [
    {
     "name": "stdout",
     "output_type": "stream",
     "text": [
      "197.19673657417297\n"
     ]
    }
   ],
   "source": [
    "start = time.time()\n",
    "for i in range(100):\n",
    "    g2 = gaussianno(x, 0, 1)  # 1D result\n",
    "    x2d2 = x.reshape((10000,10000))\n",
    "    g2d2 = gaussianjit(x2d2, 0, 1) # 2D result\n",
    "\n",
    "end = time.time()\n",
    "print(end - start)"
   ]
  },
  {
   "cell_type": "code",
   "execution_count": 115,
   "metadata": {},
   "outputs": [],
   "source": [
    "@numba.cuda.jit\n",
    "def gpu_cos(x, out):\n",
    "    # Assuming 1D array\n",
    "    start = numba.cuda.grid(1)\n",
    "    stride = numba.cuda.gridsize(1)\n",
    "    \n",
    "    for i in range(start, x.shape[0], stride):\n",
    "        out[i] = math.cos(x[i])\n",
    "        \n",
    "def do_cos(x):\n",
    "    out = numba.cuda.device_array_like(x)\n",
    "    gpu_cos[64, 64](x, out)\n",
    "    return out.copy_to_host()"
   ]
  },
  {
   "cell_type": "code",
   "execution_count": 116,
   "metadata": {},
   "outputs": [],
   "source": [
    "# check if works locally first\n",
    "test_x = np.random.uniform(-10, 10, 1000).astype(np.float32)\n",
    "result = do_cos(test_x)\n",
    "np.testing.assert_allclose(result, np.cos(test_x), rtol=1e-6)"
   ]
  },
  {
   "cell_type": "code",
   "execution_count": null,
   "metadata": {},
   "outputs": [],
   "source": []
  }
 ],
 "metadata": {
  "kernelspec": {
   "display_name": "Python 3",
   "language": "python",
   "name": "python3"
  },
  "language_info": {
   "codemirror_mode": {
    "name": "ipython",
    "version": 3
   },
   "file_extension": ".py",
   "mimetype": "text/x-python",
   "name": "python",
   "nbconvert_exporter": "python",
   "pygments_lexer": "ipython3",
   "version": "3.6.8"
  }
 },
 "nbformat": 4,
 "nbformat_minor": 2
}
