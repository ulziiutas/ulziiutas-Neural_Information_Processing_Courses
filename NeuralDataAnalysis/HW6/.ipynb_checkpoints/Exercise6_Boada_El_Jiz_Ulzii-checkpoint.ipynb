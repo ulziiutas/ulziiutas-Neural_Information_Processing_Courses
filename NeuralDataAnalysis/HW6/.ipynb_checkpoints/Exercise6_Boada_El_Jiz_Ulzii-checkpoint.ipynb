{
 "cells": [
  {
   "cell_type": "markdown",
   "metadata": {},
   "source": [
    "_Neural Data Analysis_\n",
    "\n",
    "Lecturer: Prof. Dr. Philipp Berens, Dr. Alexander Ecker\n",
    "\n",
    "Tutors: Sarah Strauss, Santiago Cadena\n",
    "\n",
    "Summer term 2019\n",
    "\n",
    "Due date: 2019-06-04, 9am\n",
    "\n",
    "Name: Guillem Boada-Gardenyes, Peter El-Jiz, Ulzii-Utas Narantsatsralt\n",
    "\n",
    "# Exercise sheet 6\n",
    "\n"
   ]
  },
  {
   "cell_type": "code",
   "execution_count": 1,
   "metadata": {},
   "outputs": [],
   "source": [
    "import pandas as pd\n",
    "import seaborn as sns\n",
    "import matplotlib.pyplot as plt\n",
    "import matplotlib as mpl\n",
    "import numpy as np\n",
    "from numba import jit, cuda, vectorize\n",
    "from scipy import special\n",
    "\n",
    "mpl.rc(\"savefig\", dpi=72)\n",
    "\n",
    "import itertools\n",
    "\n",
    "sns.set_style('whitegrid')\n",
    "%matplotlib inline"
   ]
  },
  {
   "cell_type": "markdown",
   "metadata": {},
   "source": [
    "## Task: Implement entropy estimators\n",
    "\n",
    "\n"
   ]
  },
  {
   "cell_type": "markdown",
   "metadata": {},
   "source": [
    "### General framework\n",
    "\n",
    "Entropy is defined as \n",
    "\n",
    "$$\n",
    "H[p] = -\\sum_x p_x \\log p_x\n",
    "$$\n",
    "\n",
    "where $p_x = p(x=X)$. Here we assume that $X$ is a discrete random variable and that there are finitely many states $K$ that $X$ can take.\n",
    "\n",
    "We are interested in the entropy of discrete random variables, because of its relationship with mutual information:\n",
    "\n",
    "$$\n",
    "I[X|Y] = H[X] - H[X|Y]\n",
    "$$\n",
    "\n",
    "If we can estimate the entropy well, we can estimate the mutual information well. An application in neuroscience would be estimating the mutual information between a spike train modeled as a sequence of $1$s and $0$s (e.g. $(0,1,0,1,1)$) and a discrete set of stimuli.\n",
    "\n",
    "Note that a multivariate binary distribution modeling a spike train can always be mapped to a discrete univariate distribution, $\\mathbb{Z}_2 \\longrightarrow \\mathbb{Z_+}$, by interpreting each binary state $z \\in \\mathbb{Z}_2$ as its corresponding binary number and computing $f(z) = \\sum_i 2^{i} z_i$.\n",
    "\n",
    "As discussed in the lecture, the problem is that one always underestimates the true entropy of a distribution from samples. In this exercise you are meant to implement different estimators for discrete entropy and evaluate them on different discrete distributions:\n",
    "\n",
    "* Uniform distribution: $p(x=X) = \\frac{1}{K}$\n",
    "\n",
    "* \"Zipf's law\"- distribution: $p(x=X) = \\frac{1}{Z x} $, where $Z = \\sum_k 1/k$\n",
    "\n",
    "There is a really good series of blog posts about discrete entropy estimation to be found [here](http://www.nowozin.net/sebastian/blog/estimating-discrete-entropy-part-1.html), [here](http://www.nowozin.net/sebastian/blog/estimating-discrete-entropy-part-2.html) and [here](http://www.nowozin.net/sebastian/blog/estimating-discrete-entropy-part-3.html). \n",
    "\n",
    "Make sure you use binary logarithms throughout.\n"
   ]
  },
  {
   "cell_type": "markdown",
   "metadata": {},
   "source": [
    "### Implementation of the estimators\n",
    "\n",
    "Implement the\n",
    "\n",
    "* maximum likelihood estimator (1 pt)\n",
    "* miller-maddow corrected estimator (1 pt)\n",
    "* jack-knife corrected estimator (2 pt)\n",
    "* coverage adjusted estimator (1 pt).\n",
    "\n",
    "When implementing the jack-knife estimator, you may want to restrict the amount of resampling for performance reasons e.g. to 1000, even if more samples are available. By definition, $0\\log0=0$. Adapt the interfaces as needed for your implementation.\n",
    "\n",
    "In addition, implement or use one of the following more advanced estimators (1+3 pts, extra points if you use your own implementation):\n",
    "\n",
    "* [JVHW estimator](https://arxiv.org/abs/1406.6956) with code on [github](https://github.com/EEthinker/JVHW_Entropy_Estimators/tree/master/Python)\n",
    "* [Unseen estimator](http://papers.nips.cc/paper/5170-estimating-the-unseen-improved-estimators-for-entropy-and-other-properties) (includes Matlab code in Supplementary)\n",
    "* [Best Upper Bounds estimator](http://www.mitpressjournals.org/doi/abs/10.1162/089976603321780272) (Matlab code available on Ilias)\n",
    "\n",
    "For this part, you are allowed to use an existing implementation as well.\n"
   ]
  },
  {
   "cell_type": "code",
   "execution_count": 2,
   "metadata": {},
   "outputs": [],
   "source": [
    "@jit\n",
    "def entropy_mle(phat):\n",
    "    '''\n",
    "    Maximum likelihood or plug-in estimator of discrete entropy\n",
    "    \n",
    "    phat:    estimate of the distribution / histogram\n",
    "    H:       entropy estimate\n",
    "    '''\n",
    "    \n",
    "    phat = phat[phat != 0];\n",
    "    H = -np.sum(phat*np.log2(phat));\n",
    "    \n",
    "    \n",
    "    return H"
   ]
  },
  {
   "cell_type": "code",
   "execution_count": 3,
   "metadata": {},
   "outputs": [],
   "source": [
    "@jit\n",
    "def entropy_mm(phat, n):\n",
    "    '''\n",
    "    Miller-Maddow corrected estimator of discrete entropy\n",
    "    \n",
    "    phat:    estimate of the distribution / histogram\n",
    "    n:       sample size\n",
    "    H:       entropy estimate\n",
    "    '''\n",
    "    \n",
    "    dhat = np.count_nonzero(phat > 0);\n",
    "    \n",
    "    phat = phat[phat != 0];\n",
    "    H = -np.sum(phat*np.log2(phat));\n",
    "    \n",
    "    H = H + (dhat - 1)/(2*n);\n",
    "    \n",
    "    return H"
   ]
  },
  {
   "cell_type": "code",
   "execution_count": 4,
   "metadata": {},
   "outputs": [],
   "source": [
    "@jit\n",
    "def entropy_jk(x, edges):\n",
    "    '''\n",
    "    Jack-knife corrected estimator of discrete entropy   \n",
    "    \n",
    "    '''\n",
    "\n",
    "    n = len(x);\n",
    "    H_dot = 0;\n",
    "    \n",
    "    for i in range(n):\n",
    "        boolean_index = np.ones(n, dtype=bool);\n",
    "        boolean_index[i] = False;\n",
    "        \n",
    "        phat = np.histogram(x[boolean_index],edges)[0]\n",
    "        phat = phat / (n-1);\n",
    "                \n",
    "        phat_tmp = phat[phat != 0];\n",
    "        H_tmp = -np.sum(phat_tmp*np.log2(phat_tmp));\n",
    "\n",
    "        H_dot += H_tmp;\n",
    "        \n",
    "    H_dot = H_dot/n;\n",
    "    \n",
    "    phat = np.histogram(x,edges)[0]\n",
    "    phat = phat / n;\n",
    "    \n",
    "    phat = phat[phat != 0];\n",
    "    H = -np.sum(phat*np.log2(phat));\n",
    "    \n",
    "    H = n * H - (n-1)*H_dot;\n",
    "    \n",
    "    return H"
   ]
  },
  {
   "cell_type": "code",
   "execution_count": 5,
   "metadata": {},
   "outputs": [],
   "source": [
    "@jit\n",
    "def entropy_cae(phat, n):\n",
    "    '''\n",
    "    coverage-adjusted estimator of discrete entropy\n",
    "    \n",
    "    phat:    estimate of the distribution / histogram\n",
    "    n:       sample size\n",
    "    H:       entropy estimate\n",
    "    '''\n",
    "    \n",
    "    C = 1 - np.count_nonzero(phat == 1)/n;\n",
    "    pc_hat = phat * C;\n",
    "        \n",
    "    pc_hat = pc_hat[pc_hat != 0];    \n",
    "    H = -np.sum((pc_hat * np.log2(pc_hat))/(1 - (1 - pc_hat)**n));\n",
    "    \n",
    "    return H"
   ]
  },
  {
   "cell_type": "code",
   "execution_count": 6,
   "metadata": {},
   "outputs": [],
   "source": [
    "from est_entro import est_entro_JVHW\n",
    "\n",
    "def entropy_jvwh(x):\n",
    "    '''\n",
    "    JVHW estimator of discrete entropy\n",
    "    \n",
    "\n",
    "    '''\n",
    "    \n",
    "    H  = est_entro_JVHW(x);    \n",
    "    \n",
    "    return H"
   ]
  },
  {
   "cell_type": "markdown",
   "metadata": {},
   "source": [
    "### Uniform distribution"
   ]
  },
  {
   "cell_type": "code",
   "execution_count": 54,
   "metadata": {},
   "outputs": [],
   "source": [
    "D = 10\n",
    "N = 2**D\n",
    "\n",
    "p = 1/N * np.ones(N)   # true distribution\n",
    "\n",
    "H = - np.sum(p * np.log2(p))  # true entropy"
   ]
  },
  {
   "cell_type": "markdown",
   "metadata": {},
   "source": [
    "Sample from the uniform distribution using sample sizes of 100 and 10000. Plot the true distribution and the sampled distributions. What do you notice? (1 pt)"
   ]
  },
  {
   "cell_type": "code",
   "execution_count": 13,
   "metadata": {},
   "outputs": [],
   "source": [
    "a = 0;\n",
    "b = 1;\n",
    "uni_100 = np.random.uniform(a,b,100);\n",
    "uni_10000 = np.random.uniform(a,b,10000);\n",
    "\n",
    "uni_true = 1/(b - a);"
   ]
  },
  {
   "cell_type": "code",
   "execution_count": 14,
   "metadata": {},
   "outputs": [
    {
     "data": {
      "image/png": "[encoded data removed]",
      "text/plain": [
       "<Figure size 360x216 with 1 Axes>"
      ]
     },
     "metadata": {
      "needs_background": "light"
     },
     "output_type": "display_data"
    }
   ],
   "source": [
    "plt.figure(figsize=(5,3));\n",
    "plt.hist(uni_10000, 15, density=True);\n",
    "plt.hlines(uni_true,a,b, color = 'r');\n",
    "plt.title('Uniform Distribution with 10000 sample');"
   ]
  },
  {
   "cell_type": "code",
   "execution_count": 63,
   "metadata": {},
   "outputs": [
    {
     "data": {
      "image/png": "[encoded data removed]",
      "text/plain": [
       "<Figure size 360x216 with 1 Axes>"
      ]
     },
     "metadata": {
      "needs_background": "light"
     },
     "output_type": "display_data"
    }
   ],
   "source": [
    "plt.figure(figsize=(5,3));\n",
    "plt.hist(uni_100, 15, density=True);\n",
    "plt.hlines(uni_true,a,b, color = 'r'); \n",
    "plt.title('Uniform Distribution with 100 sample');"
   ]
  },
  {
   "cell_type": "markdown",
   "metadata": {},
   "source": [
    "We can see that as the sample size grows, the distribution gets closer to the true distribution."
   ]
  },
  {
   "cell_type": "markdown",
   "metadata": {},
   "source": [
    "Use the framework below to generate samples of different size (logarithmically spaced between 10 and 100000) and evaluate the different entropy estimators for multiple runs."
   ]
  },
  {
   "cell_type": "code",
   "execution_count": 158,
   "metadata": {},
   "outputs": [],
   "source": [
    "sampleSz = np.round(np.logspace(1,5,num=10))\n",
    "nRuns = 30\n",
    "\n",
    "edges = np.arange(-0.5, N, 1)\n",
    "\n",
    "h_mle = np.zeros((len(sampleSz),nRuns))\n",
    "h_mm = np.zeros((len(sampleSz),nRuns))\n",
    "h_jk = np.zeros((len(sampleSz),nRuns))\n",
    "h_cae = np.zeros((len(sampleSz),nRuns))\n",
    "h_jvhw = np.zeros((len(sampleSz),nRuns))\n",
    "\n",
    "for i, S in enumerate(sampleSz):\n",
    "    for j in np.arange(nRuns):\n",
    "        \n",
    "        # add sampling here...        \n",
    "        x = np.random.randint(N, size = int(S));\n",
    "\n",
    "        phat = np.histogram(x,edges)[0]\n",
    "        phat = phat / S\n",
    "\n",
    "        h_mle[i,j] = entropy_mle(phat);\n",
    "        h_mm[i,j] = entropy_mm(phat, S);\n",
    "        h_cae[i,j] = entropy_cae(phat, S);\n",
    "        h_jk[i,j] = entropy_jk(x, edges);\n",
    "        h_jvhw[i,j] = entropy_jvwh(x)\n",
    "        \n"
   ]
  },
  {
   "cell_type": "markdown",
   "metadata": {},
   "source": [
    "Plot the resulting average estimate of the entropy for each of the estimators. Which is best? If you implemented everything correctly, this plot should roughly look like in the lecture."
   ]
  },
  {
   "cell_type": "code",
   "execution_count": 159,
   "metadata": {},
   "outputs": [
    {
     "data": {
      "text/plain": [
       "<matplotlib.legend.Legend at 0x1ff36f72978>"
      ]
     },
     "execution_count": 159,
     "metadata": {},
     "output_type": "execute_result"
    },
    {
     "data": {
      "image/png": "[encoded data removed]",
      "text/plain": [
       "<Figure size 432x288 with 1 Axes>"
      ]
     },
     "metadata": {
      "needs_background": "light"
     },
     "output_type": "display_data"
    }
   ],
   "source": [
    "plt.semilogx(sampleSz,np.mean(h_mle, axis=1));\n",
    "plt.semilogx(sampleSz,np.mean(h_mm, axis=1));\n",
    "plt.semilogx(sampleSz, np.mean(h_cae, axis=1));\n",
    "plt.semilogx(sampleSz,np.mean(h_jk, axis=1));\n",
    "plt.semilogx(sampleSz,np.mean(h_jvhw, axis=1))\n",
    "\n",
    "\n",
    "plt.legend(['mle', 'mm',  'cae', 'jk', 'jvhw'])\n"
   ]
  },
  {
   "cell_type": "markdown",
   "metadata": {},
   "source": [
    "The JVHW is the fastest one that converse. Around 10^2 we can see already very good approximation."
   ]
  },
  {
   "cell_type": "markdown",
   "metadata": {},
   "source": [
    "### Zipf distribution\n",
    "\n",
    "[Zipf's law ](https://en.wikipedia.org/wiki/Zipf%27s_law) refers to a family of power law like distributions for which $p_k \\sim 1/k^d$. We will simply use $d=1$ here.   \n",
    "\n",
    "Adapt the framework above to sample from a Zipf distribution and evaluate the estimators for this case. Are there differences to the uniform case? (3 pts)"
   ]
  },
  {
   "cell_type": "code",
   "execution_count": 7,
   "metadata": {},
   "outputs": [
    {
     "name": "stdout",
     "output_type": "stream",
     "text": [
      "7.510649703297878\n"
     ]
    }
   ],
   "source": [
    "D = 10\n",
    "N = 2**D\n",
    "\n",
    "p = 1/(np.arange(0,N)+1)    # true distribution\n",
    "p = p/np.sum(p)\n",
    "\n",
    "H = - np.sum(p * np.log2(p))  # true entropy\n",
    "\n",
    "print(H)"
   ]
  },
  {
   "cell_type": "markdown",
   "metadata": {},
   "source": [
    "Sample from the Zipf distribution using sample sizes of 100 and 10000. In this case, the function `random.choice` is very helpful for sampling. Plot the true distribution and the sampled distributions. What do you notice? (1 pt)"
   ]
  },
  {
   "cell_type": "code",
   "execution_count": 8,
   "metadata": {},
   "outputs": [],
   "source": [
    "zipf_100 = np.random.choice(np.arange(0,N), size = 100, p = p);\n",
    "zipf_10000 = np.random.choice(np.arange(0,N), size = 10000, p = p);"
   ]
  },
  {
   "cell_type": "code",
   "execution_count": 9,
   "metadata": {},
   "outputs": [
    {
     "data": {
      "image/png": "[encoded data removed]",
      "text/plain": [
       "<Figure size 360x216 with 1 Axes>"
      ]
     },
     "metadata": {
      "needs_background": "light"
     },
     "output_type": "display_data"
    }
   ],
   "source": [
    "phat = np.histogram(zipf_100,np.arange(-0.5, N, 1))[0];\n",
    "phat = phat / 100;\n",
    "plt.figure(figsize=(5,3));\n",
    "plt.plot(phat);\n",
    "plt.plot(p, linewidth = 0.7, color = 'r');\n",
    "plt.title('Zipf Distribution with 100 sample');"
   ]
  },
  {
   "cell_type": "code",
   "execution_count": 10,
   "metadata": {},
   "outputs": [
    {
     "data": {
      "image/png": "[encoded data removed]",
      "text/plain": [
       "<Figure size 360x216 with 1 Axes>"
      ]
     },
     "metadata": {
      "needs_background": "light"
     },
     "output_type": "display_data"
    }
   ],
   "source": [
    "phat = np.histogram(zipf_10000,np.arange(-0.5, N, 1))[0];\n",
    "phat = phat / 10000;\n",
    "plt.figure(figsize=(5,3));\n",
    "plt.plot(phat);\n",
    "plt.plot(p, linewidth = 0.7, color = 'r');\n",
    "plt.title('Zipf Distribution with 10000 sample');"
   ]
  },
  {
   "cell_type": "markdown",
   "metadata": {},
   "source": [
    "Same as uniform distribution, large sample size causes the distribution to be same as the true distributino."
   ]
  },
  {
   "cell_type": "markdown",
   "metadata": {},
   "source": [
    "Use the framework below to generate samples of different size (logarithmically spaced between 10 and 100000) and evaluate the different entropy estimators for multiple runs."
   ]
  },
  {
   "cell_type": "code",
   "execution_count": 11,
   "metadata": {},
   "outputs": [],
   "source": [
    "sampleSz = np.round(np.logspace(1,5,num=10))\n",
    "nRuns = 30\n",
    "edges = np.arange(-0.5, N, 1)\n",
    "x_arr = np.arange(0,N);\n",
    "\n",
    "h_mle = np.zeros((len(sampleSz),nRuns))\n",
    "h_mm = np.zeros((len(sampleSz),nRuns))\n",
    "h_jk = np.zeros((len(sampleSz),nRuns))\n",
    "h_cae = np.zeros((len(sampleSz),nRuns))\n",
    "h_jvhw = np.zeros((len(sampleSz),nRuns))\n",
    "\n",
    "for i, S in enumerate(sampleSz):\n",
    "    for j in np.arange(nRuns):\n",
    "        \n",
    "        # add sampling here\n",
    "        x = np.random.choice(x_arr, size = int(S), p = p);\n",
    "        \n",
    "        phat = np.histogram(x,edges)[0]\n",
    "        phat = phat / S\n",
    "        \n",
    "        h_mle[i,j] = entropy_mle(phat)\n",
    "        h_mm[i,j] = entropy_mm(phat, S)\n",
    "        h_cae[i,j] = entropy_cae(phat, S)\n",
    "        h_jk[i,j] = entropy_jk(x, edges)\n",
    "        \n",
    "        h_jvhw[i,j] = entropy_jvwh(x)\n",
    "        \n"
   ]
  },
  {
   "cell_type": "markdown",
   "metadata": {},
   "source": [
    "Plot resulting average estimate of the entropy for each of the estimators. Which is best? If you implemented everything correctly, this plot should roughly look like in the lecture."
   ]
  },
  {
   "cell_type": "code",
   "execution_count": 12,
   "metadata": {
    "scrolled": true
   },
   "outputs": [
    {
     "data": {
      "text/plain": [
       "<matplotlib.legend.Legend at 0x27b2e68b470>"
      ]
     },
     "execution_count": 12,
     "metadata": {},
     "output_type": "execute_result"
    },
    {
     "data": {
      "image/png": "[encoded data removed]",
      "text/plain": [
       "<Figure size 432x288 with 1 Axes>"
      ]
     },
     "metadata": {
      "needs_background": "light"
     },
     "output_type": "display_data"
    }
   ],
   "source": [
    "plt.semilogx(sampleSz,np.mean(h_mle, axis=1))\n",
    "\n",
    "plt.semilogx(sampleSz,np.mean(h_mm, axis=1))\n",
    "plt.semilogx(sampleSz, np.mean(h_cae, axis=1))\n",
    "plt.semilogx(sampleSz,np.mean(h_jk, axis=1))\n",
    "plt.semilogx(sampleSz,np.mean(h_jvhw, axis=1))\n",
    "\n",
    "\n",
    "plt.legend(['mle', 'mm',  'cae', 'jk', 'jvhw'])\n"
   ]
  },
  {
   "cell_type": "markdown",
   "metadata": {},
   "source": [
    "The JVHW is the fastest one that converse. less than 10^3 we can see already very good approximation."
   ]
  },
  {
   "cell_type": "code",
   "execution_count": null,
   "metadata": {},
   "outputs": [],
   "source": []
  }
 ],
 "metadata": {
  "anaconda-cloud": {},
  "kernelspec": {
   "display_name": "Python 3",
   "language": "python",
   "name": "python3"
  },
  "language_info": {
   "codemirror_mode": {
    "name": "ipython",
    "version": 3
   },
   "file_extension": ".py",
   "mimetype": "text/x-python",
   "name": "python",
   "nbconvert_exporter": "python",
   "pygments_lexer": "ipython3",
   "version": "3.7.1"
  },
  "nteract": {
   "version": "0.13.0"
  }
 },
 "nbformat": 4,
 "nbformat_minor": 1
}
