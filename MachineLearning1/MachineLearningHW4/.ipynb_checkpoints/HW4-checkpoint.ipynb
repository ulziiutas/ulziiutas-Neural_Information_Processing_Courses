{
 "cells": [
  {
   "cell_type": "markdown",
   "metadata": {},
   "source": [
    "# Exercise set 4"
   ]
  },
  {
   "cell_type": "code",
   "execution_count": 1,
   "metadata": {},
   "outputs": [
    {
     "name": "stdout",
     "output_type": "stream",
     "text": [
      "(90, 13)\n",
      "Attention            float64\n",
      "Mediation            float64\n",
      "Raw                  float64\n",
      "Delta                float64\n",
      "Theta                float64\n",
      "Alpha1               float64\n",
      "Alpha2               float64\n",
      "Beta1                float64\n",
      "Beta2                float64\n",
      "Gamma1               float64\n",
      "Gamma2               float64\n",
      "ExpectedConfusion      int32\n",
      "ReportedConfusion      int32\n",
      "dtype: object\n"
     ]
    }
   ],
   "source": [
    "import numpy as np\n",
    "import mpmath as mpmath\n",
    "import math as math\n",
    "import matplotlib.pyplot as plt\n",
    "import matplotlib.cm as cm\n",
    "import pandas as pd\n",
    "import seaborn as sns\n",
    "import statsmodels.api as sm\n",
    "from scipy.stats import kurtosis, skew\n",
    "from scipy import stats\n",
    "from sklearn import datasets, linear_model, metrics\n",
    "from sklearn.model_selection import train_test_split, KFold, RepeatedKFold, LeaveOneOut\n",
    "from scipy.special import boxcox1p\n",
    "from sklearn.discriminant_analysis import LinearDiscriminantAnalysis, QuadraticDiscriminantAnalysis\n",
    "import statistics\n",
    "\n",
    "%matplotlib inline\n",
    "import warnings\n",
    "warnings.filterwarnings(\"ignore\", category=FutureWarning)\n",
    "\n",
    "data = pd.read_csv('EEG_data.csv')\n",
    "\n",
    "df = pd.DataFrame(data)\n",
    "\n",
    "\n",
    "df['VideoID'] = df.VideoID.astype(int)\n",
    "df['SubjectID'] = df.SubjectID.astype(int)\n",
    "\n",
    "df = df.groupby(['SubjectID', 'VideoID']).median()\n",
    "\n",
    "df = df.rename(columns={'predefinedlabel': 'ExpectedConfusion', 'user-definedlabeln': 'ReportedConfusion'})\n",
    "\n",
    "df['ExpectedConfusion'] = df.ExpectedConfusion.astype(int)\n",
    "df['ReportedConfusion'] = df.ReportedConfusion.astype(int)\n",
    "target_data = df['ReportedConfusion']\n",
    "df = df.drop([6])\n",
    "print(df.shape)\n",
    "print(df.dtypes)"
   ]
  },
  {
   "cell_type": "markdown",
   "metadata": {},
   "source": [
    "# E1"
   ]
  },
  {
   "cell_type": "code",
   "execution_count": 2,
   "metadata": {
    "scrolled": false
   },
   "outputs": [
    {
     "data": {
      "image/png": "[encoded data removed]",
      "text/plain": [
       "<Figure size 432x288 with 1 Axes>"
      ]
     },
     "metadata": {
      "needs_background": "light"
     },
     "output_type": "display_data"
    },
    {
     "data": {
      "image/png": "[encoded data removed]",
      "text/plain": [
       "<Figure size 432x288 with 1 Axes>"
      ]
     },
     "metadata": {
      "needs_background": "light"
     },
     "output_type": "display_data"
    },
    {
     "name": "stdout",
     "output_type": "stream",
     "text": [
      "ExpectedConfusion Data Count For Classification 0: 45\n",
      "ExpectedConfusion Data Count For Classification 1: 45\n",
      "\n",
      "ReportedConfusion Data Count For Classification 0: 44\n",
      "ReportedConfusion Data Count For Classification 1: 46\n"
     ]
    }
   ],
   "source": [
    "arr = [0,1,2,3,4,5,6,7,8,9]\n",
    "\n",
    "ExpectedConfusion_data_for_class_0 = 0\n",
    "ExpectedConfusion_data_for_class_1 = 0\n",
    "for i in range(10):\n",
    "    if i != 6:\n",
    "        plt.plot(arr, df['ExpectedConfusion'][i], 'o', label='{}'.format(i))\n",
    "\n",
    "        for value in df['ExpectedConfusion'][i]:\n",
    "\n",
    "            if value == 0:\n",
    "                ExpectedConfusion_data_for_class_0 = ExpectedConfusion_data_for_class_0 + 1\n",
    "            else:\n",
    "                ExpectedConfusion_data_for_class_1 = ExpectedConfusion_data_for_class_1 + 1\n",
    "\n",
    "plt.title('ExpectedConfusion Plot for Subjects')\n",
    "plt.xlabel(r'Video ID', fontsize=12)\n",
    "plt.ylabel(r'ExpectedConfusion', fontsize=12)\n",
    "plt.legend()\n",
    "plt.show()\n",
    "\n",
    "\n",
    "ReportedConfusion_data_for_class_0 = 0\n",
    "ReportedConfusion_data_for_class_1 = 0\n",
    "\n",
    "for i in range(10):\n",
    "    if i != 6:\n",
    "        plt.plot(arr, df['ReportedConfusion'][i], 'o', label='{}'.format(i)) \n",
    "\n",
    "\n",
    "        for value in df['ReportedConfusion'][i]:\n",
    "\n",
    "            if value == 0:\n",
    "                ReportedConfusion_data_for_class_0 = ReportedConfusion_data_for_class_0 + 1\n",
    "            else:\n",
    "                ReportedConfusion_data_for_class_1 = ReportedConfusion_data_for_class_1 + 1\n",
    "\n",
    "\n",
    "plt.title('ReportedConfusion Plot bfor Subjects')\n",
    "plt.xlabel(r'Video ID', fontsize=12)\n",
    "plt.ylabel(r'ReportedConfusion', fontsize=12)\n",
    "plt.legend()\n",
    "plt.show()\n",
    "\n",
    "print('ExpectedConfusion Data Count For Classification 0: {}'.format(ExpectedConfusion_data_for_class_0))\n",
    "print('ExpectedConfusion Data Count For Classification 1: {}\\n'.format(ExpectedConfusion_data_for_class_1))\n",
    "print('ReportedConfusion Data Count For Classification 0: {}'.format(ReportedConfusion_data_for_class_0))\n",
    "print('ReportedConfusion Data Count For Classification 1: {}'.format(ReportedConfusion_data_for_class_1))"
   ]
  },
  {
   "cell_type": "markdown",
   "metadata": {},
   "source": [
    "Data Count for two classes are same for ExpectedConfusion and almost same for Reported Confusion. Therefore there is no class imbalance."
   ]
  },
  {
   "cell_type": "markdown",
   "metadata": {},
   "source": [
    "# E2"
   ]
  },
  {
   "cell_type": "code",
   "execution_count": 3,
   "metadata": {
    "scrolled": false
   },
   "outputs": [],
   "source": [
    "skewed_df = np.zeros((8, 90))\n",
    "\n",
    "i = 0\n",
    "for column in df.columns:    \n",
    "    if 3 <= i and i <= 10:           \n",
    "        \n",
    "        skewed_df[i-3] = df[column]     \n",
    "\n",
    "    i= i + 1"
   ]
  },
  {
   "cell_type": "code",
   "execution_count": 4,
   "metadata": {},
   "outputs": [],
   "source": [
    "def AccuracyFunc(test, pred):\n",
    "    correctly_classified = 0\n",
    "    incorrectly_classified = 0\n",
    "\n",
    "    i = 0\n",
    "\n",
    "    for value in test:\n",
    "        if value == pred[i]:\n",
    "            correctly_classified = correctly_classified + 1\n",
    "        else:\n",
    "            incorrectly_classified = incorrectly_classified + 1\n",
    "        i = i + 1\n",
    "    accuracy = correctly_classified/(correctly_classified + incorrectly_classified)\n",
    "    return correctly_classified, incorrectly_classified, accuracy"
   ]
  },
  {
   "cell_type": "code",
   "execution_count": 6,
   "metadata": {},
   "outputs": [
    {
     "name": "stdout",
     "output_type": "stream",
     "text": [
      "Correctly classified: 56\n",
      "Accuracy: 0.6222222222222222\n"
     ]
    }
   ],
   "source": [
    "X = skewed_df\n",
    "X = X.transpose()\n",
    "\n",
    "regr = linear_model.LogisticRegression()\n",
    "# Train the model using the training sets\n",
    "regr.fit(X, df['ReportedConfusion'])\n",
    "pred = regr.predict(X)\n",
    "\n",
    "correctly_classified, incorrectly_classified, accuracy = AccuracyFunc(df['ReportedConfusion'], pred)\n",
    "    \n",
    "print('Correctly classified: {}'.format(correctly_classified))\n",
    "print('Accuracy: {}'.format(accuracy))\n"
   ]
  },
  {
   "cell_type": "markdown",
   "metadata": {},
   "source": [
    "# E3"
   ]
  },
  {
   "cell_type": "code",
   "execution_count": 7,
   "metadata": {},
   "outputs": [],
   "source": [
    "# Function for REPEATED CROSS-VALIDATION\n",
    "\n",
    "def model_repeatedKfolds(predictors, target, K, n_repeats, model_type, result_type):\n",
    "    \"\"\"    \n",
    "    Parameters\n",
    "    ----------\n",
    "    predictors : array (n_observations, n_predictors)\n",
    "\n",
    "    target : array (n_observations)\n",
    "\n",
    "    K : int\n",
    "        number of folds of k-means cross validation\n",
    "\n",
    "    model_type : str\n",
    "        - logreg : logistic regression\n",
    "        - linear : linear discriminant analysis\n",
    "        - quadratic: quadratic discriminant analysis\n",
    "\n",
    "    result_type : str\n",
    "        Displays what kind of results to display\n",
    "        - train : displays mean training accuracy and standard deviation\n",
    "        - test : displays mean test accuracy and standard deviation\n",
    "    \"\"\"\n",
    "        \n",
    "    # split the data in all possible folds\n",
    "    kf = RepeatedKFold(n_splits=K, n_repeats=n_repeats)\n",
    "        \n",
    "    # define model\n",
    "    if model_type == 'linear':\n",
    "        model = LinearDiscriminantAnalysis()\n",
    "    elif model_type == 'quadratic':\n",
    "        model = QuadraticDiscriminantAnalysis()\n",
    "    elif model_type == 'logreg':\n",
    "        model = linear_model.LogisticRegression()\n",
    "\n",
    "    # initialize lists to store results\n",
    "    train_acc = []\n",
    "    test_acc = []\n",
    "\n",
    "    # split the data\n",
    "    for train_index, test_index in kf.split(X=predictors,y=target):\n",
    "\n",
    "#       print('TRAIN:', train_index, 'TEST:', test_index)\n",
    "\n",
    "         # gather training set data\n",
    "        training_predictors = predictors.iloc[train_index]\n",
    "        training_targets = target.iloc[train_index]\n",
    "\n",
    "        # train the data\n",
    "        train_fit = model.fit(training_predictors,training_targets)\n",
    "\n",
    "        # score the model on the training data\n",
    "        train_acc.append(train_fit.score(training_predictors,training_targets))\n",
    "\n",
    "        # gather test set data\n",
    "        test_predictors = predictors.iloc[test_index]\n",
    "        test_targets = target.iloc[test_index]\n",
    "\n",
    "        # score the model on the test data\n",
    "        test_acc.append(model.score(test_predictors,test_targets))\n",
    "\n",
    "    # calculate mean and sd\n",
    "    mean_train = np.mean(train_acc)\n",
    "    sd_train = statistics.stdev(train_acc)\n",
    "    mean_test = np.mean(test_acc)\n",
    "    sd_test = statistics.stdev(test_acc)\n",
    "\n",
    "    if result_type == 'on_trainset':\n",
    "        print('Accuracy of k-means cross validation with {} folds on training data:'.format(K))\n",
    "        print('\\tmean = {}'.format(mean_train))\n",
    "        print('\\tstandard deviation = {}'.format(sd_train))\n",
    "    if result_type == 'on_testset':\n",
    "        print('Accuracy of k-means cross validation with {} folds on test data:'.format(K))\n",
    "        print('\\tmean = {}'.format(mean_test))\n",
    "        print('\\tstandard deviation = {}'.format(sd_test))\n",
    "    if result_type == 'on_both':\n",
    "        print('Accuracy of k-means cross validation with {} folds on training data:'.format(K))\n",
    "        print('\\tmean = {}'.format(mean_train))\n",
    "        print('\\tstandard deviation = {}'.format(sd_train))\n",
    "        print('')\n",
    "        print('Accuracy of k-means cross validation with {} folds on test data:'.format(K))\n",
    "        print('\\tmean = {}'.format(mean_test))\n",
    "        print('\\tstandard deviation = {}'.format(sd_test))\n",
    "    return mean_test, sd_test"
   ]
  },
  {
   "cell_type": "code",
   "execution_count": 8,
   "metadata": {},
   "outputs": [
    {
     "name": "stdout",
     "output_type": "stream",
     "text": [
      "Accuracy of k-means cross validation with 9 folds on test data:\n",
      "\tmean = 0.5833333333333334\n",
      "\tstandard deviation = 0.1530587021117546\n"
     ]
    }
   ],
   "source": [
    "mean, sd = model_repeatedKfolds(predictors=df[df.columns[3:11]], target=df['ReportedConfusion'], K=9, n_repeats=10, model_type='logreg', result_type='on_testset')\n"
   ]
  },
  {
   "cell_type": "markdown",
   "metadata": {},
   "source": [
    "# E4"
   ]
  },
  {
   "cell_type": "code",
   "execution_count": 9,
   "metadata": {
    "scrolled": true
   },
   "outputs": [
    {
     "data": {
      "text/plain": [
       "<matplotlib.axes._subplots.AxesSubplot at 0x1cb9e9a1940>"
      ]
     },
     "execution_count": 9,
     "metadata": {},
     "output_type": "execute_result"
    },
    {
     "data": {
      "image/png": "[encoded data removed]",
      "text/plain": [
       "<Figure size 432x288 with 2 Axes>"
      ]
     },
     "metadata": {
      "needs_background": "light"
     },
     "output_type": "display_data"
    }
   ],
   "source": [
    "plt.figure()\n",
    "sub_class = df[df.columns[3:11]]\n",
    "corr_matrix =  sub_class.corr().abs()\n",
    "sns.heatmap(corr_matrix, vmin=0, vmax=1)"
   ]
  },
  {
   "cell_type": "markdown",
   "metadata": {},
   "source": [
    "As can be seen from Heatmap, We need to drop highly correlated predictors using Lecture3_IntroPredModeling page 17."
   ]
  },
  {
   "cell_type": "code",
   "execution_count": 10,
   "metadata": {},
   "outputs": [],
   "source": [
    "def get_most_correlated_predictors(corr_matrix):\n",
    "    \n",
    "    predictor_A = ''\n",
    "    predictor_B = ''\n",
    "    most_correlation_value = 0\n",
    "    \n",
    "    for rowA in corr_matrix:\n",
    "        for i in range(len(corr_matrix[rowA])):       \n",
    "            if corr_matrix[rowA][i] > most_correlation_value and corr_matrix[rowA][i] != 1:\n",
    "                most_correlation_value = corr_matrix[rowA][i]\n",
    "                predictor_A = rowA\n",
    "                predictor_B = corr_matrix.columns[i]\n",
    "\n",
    "    return predictor_A, predictor_B, most_correlation_value\n",
    "\n",
    "def get_average_correlation_value(corr_matrix, predictor_A, predictor_B):  \n",
    "    \n",
    "    total_correlation_value_A = 0\n",
    "    total_correlation_value_B = 0\n",
    "    \n",
    "    for row in corr_matrix:\n",
    "        if predictor_A == row:\n",
    "            diff = 0\n",
    "            for i in range(len(corr_matrix[row])):                \n",
    "                diff = diff + corr_matrix[row][i]\n",
    "            total_correlation_value_A = total_correlation_value_A + diff/len(corr_matrix[row])\n",
    "\n",
    "        if predictor_B == row:\n",
    "            diff = 0\n",
    "            for i in range(len(corr_matrix[row])):                \n",
    "                diff = diff + corr_matrix[row][i]\n",
    "            total_correlation_value_B = total_correlation_value_B + diff/len(corr_matrix[row])\n",
    "\n",
    "    average_val_A = total_correlation_value_A\n",
    "    average_val_B = total_correlation_value_B\n",
    "    \n",
    "    return average_val_A, average_val_B\n",
    "\n",
    "def remove_correlated_predictors(corr_matrix):\n",
    "    \n",
    "    dropped_predictors = ''\n",
    "    left_predictors = ''\n",
    "    \n",
    "    predictor_A, predictor_B, most_correlation_value = get_most_correlated_predictors(corr_matrix)\n",
    "    \n",
    "    average_val_A, average_val_B = get_average_correlation_value(corr_matrix, predictor_A, predictor_B)\n",
    "    \n",
    "    print('\\nMost Correlated Predictors: {} - {}\\n'.format(predictor_A, predictor_B))\n",
    "    print('Most Correlated Predictors Value: {}\\n'.format(most_correlation_value))\n",
    "    print('Average Correlation Between Other Predictors for {}: {}\\n'.format(predictor_A, average_val_A))\n",
    "    print('Average Correlation Between Other Predictors for {}: {}\\n'.format(predictor_B, average_val_B))\n",
    "    \n",
    "    if average_val_A > average_val_B:    \n",
    "        dropped_predictors = predictor_A\n",
    "#         corr_matrix = corr_matrix.drop([5], axis=0)\n",
    "        corr_matrix = corr_matrix.drop([predictor_A], axis=1)\n",
    "        left_predictors = predictor_B\n",
    "    else:\n",
    "        dropped_predictors = predictor_B\n",
    "#         corr_matrix = corr_matrix.drop([5], axis=0)\n",
    "        corr_matrix = corr_matrix.drop([predictor_B], axis=1)\n",
    "        left_predictors = predictor_A\n",
    "    \n",
    "    print('Dropped Predictor: {}\\n'.format(dropped_predictors))\n",
    "    \n",
    "    \n",
    "    return left_predictors, dropped_predictors, most_correlation_value\n",
    "\n"
   ]
  },
  {
   "cell_type": "code",
   "execution_count": 11,
   "metadata": {},
   "outputs": [
    {
     "name": "stdout",
     "output_type": "stream",
     "text": [
      "\n",
      "Most Correlated Predictors: Theta - Alpha1\n",
      "\n",
      "Most Correlated Predictors Value: 0.9115573889473185\n",
      "\n",
      "Average Correlation Between Other Predictors for Theta: 0.6229573729222059\n",
      "\n",
      "Average Correlation Between Other Predictors for Alpha1: 0.6264410916499601\n",
      "\n",
      "Dropped Predictor: Alpha1\n",
      "\n",
      "\n",
      "Most Correlated Predictors: Delta - Theta\n",
      "\n",
      "Most Correlated Predictors Value: 0.8847176596087546\n",
      "\n",
      "Average Correlation Between Other Predictors for Delta: 0.5992693422900264\n",
      "\n",
      "Average Correlation Between Other Predictors for Theta: 0.5817287992043327\n",
      "\n",
      "Dropped Predictor: Delta\n",
      "\n",
      "Index(['Delta', 'Theta', 'Alpha2', 'Beta1', 'Beta2', 'Gamma1', 'Gamma2'], dtype='object')\n"
     ]
    }
   ],
   "source": [
    "sub_class = df[df.columns[3:11]]\n",
    "most_correlation_value = 1\n",
    "threshold = 0.90\n",
    "while True:    \n",
    "    corr_matrix =  sub_class.corr().abs()\n",
    "    left_predictors, dropped_predictors, most_correlation_value = remove_correlated_predictors(corr_matrix)\n",
    "    if most_correlation_value < threshold:\n",
    "        break\n",
    "    sub_class = sub_class.drop([dropped_predictors], axis=1)\n",
    "print(sub_class.columns)\n"
   ]
  },
  {
   "cell_type": "code",
   "execution_count": 12,
   "metadata": {
    "scrolled": false
   },
   "outputs": [
    {
     "name": "stdout",
     "output_type": "stream",
     "text": [
      "Accuracy of k-means cross validation with 9 folds on test data:\n",
      "\tmean = 0.5988888888888889\n",
      "\tstandard deviation = 0.14181364924121764\n"
     ]
    },
    {
     "data": {
      "text/plain": [
       "(0.5988888888888889, 0.14181364924121764)"
      ]
     },
     "execution_count": 12,
     "metadata": {},
     "output_type": "execute_result"
    }
   ],
   "source": [
    "array = ['Delta', 'Theta', 'Alpha2', 'Beta1', 'Gamma1', 'Gamma2']\n",
    "sub_class = df[array]\n",
    "model_repeatedKfolds(predictors=df[sub_class.columns], target=df['ReportedConfusion'], K=9, n_repeats=10, model_type='logreg', result_type='on_testset')\n"
   ]
  },
  {
   "cell_type": "markdown",
   "metadata": {},
   "source": [
    "# E5"
   ]
  },
  {
   "cell_type": "code",
   "execution_count": 23,
   "metadata": {
    "scrolled": true
   },
   "outputs": [
    {
     "ename": "TypeError",
     "evalue": "insert() missing 2 required positional arguments: 'column' and 'value'",
     "output_type": "error",
     "traceback": [
      "\u001b[1;31m---------------------------------------------------------------------------\u001b[0m",
      "\u001b[1;31mTypeError\u001b[0m                                 Traceback (most recent call last)",
      "\u001b[1;32m<ipython-input-23-cc8393c5bee9>\u001b[0m in \u001b[0;36m<module>\u001b[1;34m\u001b[0m\n\u001b[0;32m     11\u001b[0m         \u001b[0mboxcox_data\u001b[0m \u001b[1;33m=\u001b[0m \u001b[0mstats\u001b[0m\u001b[1;33m.\u001b[0m\u001b[0mboxcox\u001b[0m\u001b[1;33m(\u001b[0m\u001b[0mdf\u001b[0m\u001b[1;33m[\u001b[0m\u001b[0mcolumn\u001b[0m\u001b[1;33m]\u001b[0m\u001b[1;33m)\u001b[0m\u001b[1;33m\u001b[0m\u001b[1;33m\u001b[0m\u001b[0m\n\u001b[0;32m     12\u001b[0m         \u001b[0mskew_after_log\u001b[0m \u001b[1;33m=\u001b[0m \u001b[0mskew\u001b[0m\u001b[1;33m(\u001b[0m\u001b[0mboxcox_data\u001b[0m\u001b[1;33m[\u001b[0m\u001b[1;36m0\u001b[0m\u001b[1;33m]\u001b[0m\u001b[1;33m)\u001b[0m\u001b[1;33m\u001b[0m\u001b[1;33m\u001b[0m\u001b[0m\n\u001b[1;32m---> 13\u001b[1;33m         \u001b[0mdf_new\u001b[0m\u001b[1;33m.\u001b[0m\u001b[0minsert\u001b[0m\u001b[1;33m(\u001b[0m\u001b[0mboxcox_data\u001b[0m\u001b[1;33m[\u001b[0m\u001b[1;36m0\u001b[0m\u001b[1;33m]\u001b[0m\u001b[1;33m)\u001b[0m\u001b[1;33m\u001b[0m\u001b[1;33m\u001b[0m\u001b[0m\n\u001b[0m\u001b[0;32m     14\u001b[0m         \u001b[0mprint\u001b[0m\u001b[1;33m(\u001b[0m\u001b[1;34m'Skewness of prediction {} (Before Log): {}'\u001b[0m\u001b[1;33m.\u001b[0m\u001b[0mformat\u001b[0m\u001b[1;33m(\u001b[0m \u001b[0mcolumn\u001b[0m\u001b[1;33m,\u001b[0m \u001b[0mskew_before_log\u001b[0m \u001b[1;33m)\u001b[0m\u001b[1;33m)\u001b[0m\u001b[1;33m\u001b[0m\u001b[1;33m\u001b[0m\u001b[0m\n\u001b[0;32m     15\u001b[0m         \u001b[0mprint\u001b[0m\u001b[1;33m(\u001b[0m\u001b[1;34m'Skewness of prediction {} (After Log): {}\\n'\u001b[0m\u001b[1;33m.\u001b[0m\u001b[0mformat\u001b[0m\u001b[1;33m(\u001b[0m \u001b[0mcolumn\u001b[0m\u001b[1;33m,\u001b[0m \u001b[0mskew_after_log\u001b[0m \u001b[1;33m)\u001b[0m\u001b[1;33m)\u001b[0m\u001b[1;33m\u001b[0m\u001b[1;33m\u001b[0m\u001b[0m\n",
      "\u001b[1;31mTypeError\u001b[0m: insert() missing 2 required positional arguments: 'column' and 'value'"
     ]
    }
   ],
   "source": [
    "unskewed_df = df\n",
    "\n",
    "df_new = pd.DataFrame()\n",
    "i = 0\n",
    "for column in df.columns:    \n",
    "    if 3 <= i and i <= 10:         \n",
    "        \n",
    "        skew_before_log = skew(df[column])\n",
    "        xlam = stats.boxcox_normmax(df[column])\n",
    "        \n",
    "        boxcox_data = stats.boxcox(df[column])\n",
    "        skew_after_log = skew(boxcox_data[0])\n",
    "        df_new.insert(boxcox_data[0])\n",
    "        print('Skewness of prediction {} (Before Log): {}'.format( column, skew_before_log ))\n",
    "        print('Skewness of prediction {} (After Log): {}\\n'.format( column, skew_after_log ))\n",
    "        \n",
    "    i= i + 1"
   ]
  },
  {
   "cell_type": "code",
   "execution_count": 14,
   "metadata": {},
   "outputs": [
    {
     "name": "stdout",
     "output_type": "stream",
     "text": [
      "Accuracy of k-means cross validation with 9 folds on test data:\n",
      "\tmean = 0.6566666666666666\n",
      "\tstandard deviation = 0.13905782484882107\n"
     ]
    },
    {
     "data": {
      "text/plain": [
       "(0.6566666666666666, 0.13905782484882107)"
      ]
     },
     "execution_count": 14,
     "metadata": {},
     "output_type": "execute_result"
    }
   ],
   "source": [
    "model_repeatedKfolds(predictors=unskewed_df[unskewed_df.columns[3:11]], target=df['ReportedConfusion'], K=9, n_repeats=10, model_type='logreg', result_type='on_testset')"
   ]
  },
  {
   "cell_type": "markdown",
   "metadata": {},
   "source": [
    "# E6"
   ]
  },
  {
   "cell_type": "code",
   "execution_count": 15,
   "metadata": {},
   "outputs": [
    {
     "name": "stdout",
     "output_type": "stream",
     "text": [
      "Accuracy of k-means cross validation with 9 folds on test data:\n",
      "\tmean = 0.6677777777777779\n",
      "\tstandard deviation = 0.11595018087284059\n"
     ]
    },
    {
     "data": {
      "text/plain": [
       "(0.6677777777777779, 0.11595018087284059)"
      ]
     },
     "execution_count": 15,
     "metadata": {},
     "output_type": "execute_result"
    }
   ],
   "source": [
    "X = skewed_df\n",
    "X = X.transpose()\n",
    "\n",
    "model_repeatedKfolds(predictors=df[df.columns[3:11]], target=df['ReportedConfusion'], K=9, n_repeats=10, model_type='linear', result_type='on_testset')"
   ]
  },
  {
   "cell_type": "code",
   "execution_count": 16,
   "metadata": {},
   "outputs": [
    {
     "name": "stdout",
     "output_type": "stream",
     "text": [
      "Accuracy of k-means cross validation with 9 folds on test data:\n",
      "\tmean = 0.5133333333333334\n",
      "\tstandard deviation = 0.15228595219505658\n"
     ]
    },
    {
     "data": {
      "text/plain": [
       "(0.5133333333333334, 0.15228595219505658)"
      ]
     },
     "execution_count": 16,
     "metadata": {},
     "output_type": "execute_result"
    }
   ],
   "source": [
    "model_repeatedKfolds(predictors=df[df.columns[3:11]], target=df['ReportedConfusion'], K=9, n_repeats=10, model_type='quadratic', result_type='on_testset')"
   ]
  },
  {
   "cell_type": "markdown",
   "metadata": {},
   "source": [
    "# E7"
   ]
  },
  {
   "cell_type": "code",
   "execution_count": 17,
   "metadata": {},
   "outputs": [
    {
     "name": "stdout",
     "output_type": "stream",
     "text": [
      "Accuracy of k-means cross validation with 9 folds on test data:\n",
      "\tmean = 0.6655555555555556\n",
      "\tstandard deviation = 0.15151750083299506\n"
     ]
    },
    {
     "data": {
      "text/plain": [
       "(0.6655555555555556, 0.15151750083299506)"
      ]
     },
     "execution_count": 17,
     "metadata": {},
     "output_type": "execute_result"
    }
   ],
   "source": [
    "model_repeatedKfolds(predictors=unskewed_df[unskewed_df.columns[3:11]], target=df['ReportedConfusion'], K=9, n_repeats=10, model_type='linear', result_type='on_testset')"
   ]
  },
  {
   "cell_type": "code",
   "execution_count": 18,
   "metadata": {},
   "outputs": [
    {
     "name": "stdout",
     "output_type": "stream",
     "text": [
      "Accuracy of k-means cross validation with 9 folds on test data:\n",
      "\tmean = 0.518888888888889\n",
      "\tstandard deviation = 0.16276711456255905\n"
     ]
    },
    {
     "data": {
      "text/plain": [
       "(0.518888888888889, 0.16276711456255905)"
      ]
     },
     "execution_count": 18,
     "metadata": {},
     "output_type": "execute_result"
    }
   ],
   "source": [
    "model_repeatedKfolds(predictors=unskewed_df[unskewed_df.columns[3:11]], target=df['ReportedConfusion'], K=9, n_repeats=10, model_type='quadratic', result_type='on_testset')"
   ]
  },
  {
   "cell_type": "markdown",
   "metadata": {},
   "source": [
    "# E8"
   ]
  },
  {
   "cell_type": "code",
   "execution_count": null,
   "metadata": {},
   "outputs": [],
   "source": [
    "# load data\n",
    "datapath = 'EEG_data.csv'\n",
    "rawdata = pd.read_csv(datapath)\n",
    "\n",
    "# change SubjectID and VideoID to int\n",
    "rawdata['SubjectID'] = rawdata['SubjectID'].astype('int')\n",
    "rawdata['VideoID'] = rawdata['VideoID'].astype('int')\n",
    "\n",
    "# change predefinedlabel to ExpectedConfusion and user-definedlabel to ReportedConfusion\n",
    "rawdata.columns = rawdata.columns.str.replace('predefinedlabel','ExpectedConfusion')\n",
    "rawdata.columns = rawdata.columns.str.replace('user-definedlabeln','ReportedConfusion')\n",
    "\n",
    "# take the median for each SubjectID and VideoID\n",
    "data = rawdata.copy()\n",
    "data = data.groupby(['SubjectID','VideoID']).median()\n",
    "data = data.drop([6])\n",
    "data_bc_raw = data.copy()\n",
    "data_bc = pd.DataFrame()\n",
    "\n",
    "predictors = ['Delta', 'Theta', 'Alpha1', 'Alpha2', 'Beta1', 'Beta2', 'Gamma1', 'Gamma2']\n",
    "# apply baseline correction\n",
    "for (SubjectID), subjectdata in data_bc_raw.groupby(('SubjectID')): # first by subject\n",
    "    for i in predictors:\n",
    "        mean = np.mean(subjectdata[i]) # then by predictor\n",
    "        subjectdata[i] = subjectdata[i] - mean\n",
    "    data_bc = pd.concat([data_bc,subjectdata],ignore_index=True)\n",
    "\n",
    "x_data_bc = data_bc[predictors]"
   ]
  },
  {
   "cell_type": "code",
   "execution_count": null,
   "metadata": {},
   "outputs": [],
   "source": [
    "print('Logistic regression on baseline corrected data')\n",
    "E8log_test_mean, E8log_test_sd = model_repeatedKfolds(predictors=x_data_bc, target=data['ReportedConfusion'], K=10, n_repeats=10, model_type='logreg', result_type='on_testset')\n",
    "print('\\nLinear discriminant analysis on baseline corrected data')\n",
    "E8lin_test_mean, E8lin_test_sd = model_repeatedKfolds(predictors=x_data_bc, target=data['ReportedConfusion'], K=10, n_repeats=10, model_type='linear', result_type='on_testset')\n",
    "print('\\nQuadratic discriminant analysis on baseline corrected data')\n",
    "E8quad_test_mean, E8quad_test_sd = model_repeatedKfolds(predictors=x_data_bc, target=data['ReportedConfusion'], K=10, n_repeats=10, model_type='quadratic', result_type='on_testset')"
   ]
  },
  {
   "cell_type": "code",
   "execution_count": 25,
   "metadata": {},
   "outputs": [
    {
     "ename": "ModuleNotFoundError",
     "evalue": "No module named 'texttable'",
     "output_type": "error",
     "traceback": [
      "\u001b[1;31m---------------------------------------------------------------------------\u001b[0m",
      "\u001b[1;31mModuleNotFoundError\u001b[0m                       Traceback (most recent call last)",
      "\u001b[1;32m<ipython-input-25-810ccbcef0c2>\u001b[0m in \u001b[0;36m<module>\u001b[1;34m\u001b[0m\n\u001b[1;32m----> 1\u001b[1;33m \u001b[1;32mfrom\u001b[0m \u001b[0mtexttable\u001b[0m \u001b[1;32mimport\u001b[0m \u001b[0mTexttable\u001b[0m\u001b[1;33m\u001b[0m\u001b[1;33m\u001b[0m\u001b[0m\n\u001b[0m",
      "\u001b[1;31mModuleNotFoundError\u001b[0m: No module named 'texttable'"
     ]
    }
   ],
   "source": [
    "from texttable import Texttable"
   ]
  },
  {
   "cell_type": "code",
   "execution_count": null,
   "metadata": {},
   "outputs": [],
   "source": []
  }
 ],
 "metadata": {
  "kernelspec": {
   "display_name": "Python 3",
   "language": "python",
   "name": "python3"
  },
  "language_info": {
   "codemirror_mode": {
    "name": "ipython",
    "version": 3
   },
   "file_extension": ".py",
   "mimetype": "text/x-python",
   "name": "python",
   "nbconvert_exporter": "python",
   "pygments_lexer": "ipython3",
   "version": "3.7.1"
  }
 },
 "nbformat": 4,
 "nbformat_minor": 2
}
