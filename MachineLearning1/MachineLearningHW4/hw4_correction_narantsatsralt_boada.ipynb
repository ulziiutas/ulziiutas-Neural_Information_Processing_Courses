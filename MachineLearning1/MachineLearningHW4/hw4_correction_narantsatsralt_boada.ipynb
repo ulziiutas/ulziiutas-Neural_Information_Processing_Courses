{
 "cells": [
  {
   "cell_type": "markdown",
   "metadata": {},
   "source": [
    "<table style=\"color:red\">\n",
    "    <thead>\n",
    "        <tr><th>E1</th><th>E2</th><th>E3</th><th>E4</th><th>E5</th><th>E6</th><th>E7</th><th>E8</th><th>E9</th><th>Total</th></tr>\n",
    "    </thead>\n",
    "    <tbody>\n",
    "        <tr>\n",
    "            <td>1</td>\n",
    "            <td>1</td>\n",
    "            <td>0</td>\n",
    "            <td>0.5</td>\n",
    "            <td>0.5</td>\n",
    "            <td>1</td>\n",
    "            <td>1</td>\n",
    "            <td>2</td>\n",
    "            <td>1</td>\n",
    "            <td>8</td>\n",
    "        </tr>\n",
    "    </tbody>\n",
    "</table>"
   ]
  },
  {
   "cell_type": "markdown",
   "metadata": {},
   "source": [
    "# Exercises set 4\n",
    "### By Ulzii-Utas & Guillem Boada"
   ]
  },
  {
   "cell_type": "code",
   "execution_count": 34,
   "metadata": {},
   "outputs": [],
   "source": [
    "# SETUP\n",
    "import pandas as pd\n",
    "import numpy as np\n",
    "\n",
    "from sklearn.model_selection import train_test_split\n",
    "import statistics\n",
    "from sklearn.linear_model import LogisticRegression\n",
    "from sklearn.model_selection import RepeatedKFold\n",
    "from sklearn import metrics, cross_validation\n",
    "from sklearn.discriminant_analysis import LinearDiscriminantAnalysis, QuadraticDiscriminantAnalysis\n",
    "from scipy import stats\n",
    "from scipy.special import boxcox1p\n",
    "\n",
    "import matplotlib.pyplot as plt\n",
    "import seaborn as sns\n",
    "\n",
    "import warnings\n",
    "warnings.filterwarnings(\"ignore\", category=FutureWarning)"
   ]
  },
  {
   "cell_type": "markdown",
   "metadata": {},
   "source": [
    "## 1. Logistic regression"
   ]
  },
  {
   "cell_type": "markdown",
   "metadata": {},
   "source": [
    "#### 1. Read EEG_data.csv into a DataFrame."
   ]
  },
  {
   "cell_type": "code",
   "execution_count": 35,
   "metadata": {},
   "outputs": [
    {
     "data": {
      "text/html": [
       "<div>\n",
       "<style scoped>\n",
       "    .dataframe tbody tr th:only-of-type {\n",
       "        vertical-align: middle;\n",
       "    }\n",
       "\n",
       "    .dataframe tbody tr th {\n",
       "        vertical-align: top;\n",
       "    }\n",
       "\n",
       "    .dataframe thead th {\n",
       "        text-align: right;\n",
       "    }\n",
       "</style>\n",
       "<table border=\"1\" class=\"dataframe\">\n",
       "  <thead>\n",
       "    <tr style=\"text-align: right;\">\n",
       "      <th></th>\n",
       "      <th>SubjectID</th>\n",
       "      <th>VideoID</th>\n",
       "      <th>Attention</th>\n",
       "      <th>Mediation</th>\n",
       "      <th>Raw</th>\n",
       "      <th>Delta</th>\n",
       "      <th>Theta</th>\n",
       "      <th>Alpha1</th>\n",
       "      <th>Alpha2</th>\n",
       "      <th>Beta1</th>\n",
       "      <th>Beta2</th>\n",
       "      <th>Gamma1</th>\n",
       "      <th>Gamma2</th>\n",
       "      <th>predefinedlabel</th>\n",
       "      <th>user-definedlabeln</th>\n",
       "    </tr>\n",
       "  </thead>\n",
       "  <tbody>\n",
       "    <tr>\n",
       "      <th>0</th>\n",
       "      <td>0.0</td>\n",
       "      <td>0.0</td>\n",
       "      <td>56.0</td>\n",
       "      <td>43.0</td>\n",
       "      <td>278.0</td>\n",
       "      <td>301963.0</td>\n",
       "      <td>90612.0</td>\n",
       "      <td>33735.0</td>\n",
       "      <td>23991.0</td>\n",
       "      <td>27946.0</td>\n",
       "      <td>45097.0</td>\n",
       "      <td>33228.0</td>\n",
       "      <td>8293.0</td>\n",
       "      <td>0.0</td>\n",
       "      <td>0.0</td>\n",
       "    </tr>\n",
       "    <tr>\n",
       "      <th>1</th>\n",
       "      <td>0.0</td>\n",
       "      <td>0.0</td>\n",
       "      <td>40.0</td>\n",
       "      <td>35.0</td>\n",
       "      <td>-50.0</td>\n",
       "      <td>73787.0</td>\n",
       "      <td>28083.0</td>\n",
       "      <td>1439.0</td>\n",
       "      <td>2240.0</td>\n",
       "      <td>2746.0</td>\n",
       "      <td>3687.0</td>\n",
       "      <td>5293.0</td>\n",
       "      <td>2740.0</td>\n",
       "      <td>0.0</td>\n",
       "      <td>0.0</td>\n",
       "    </tr>\n",
       "    <tr>\n",
       "      <th>2</th>\n",
       "      <td>0.0</td>\n",
       "      <td>0.0</td>\n",
       "      <td>47.0</td>\n",
       "      <td>48.0</td>\n",
       "      <td>101.0</td>\n",
       "      <td>758353.0</td>\n",
       "      <td>383745.0</td>\n",
       "      <td>201999.0</td>\n",
       "      <td>62107.0</td>\n",
       "      <td>36293.0</td>\n",
       "      <td>130536.0</td>\n",
       "      <td>57243.0</td>\n",
       "      <td>25354.0</td>\n",
       "      <td>0.0</td>\n",
       "      <td>0.0</td>\n",
       "    </tr>\n",
       "    <tr>\n",
       "      <th>3</th>\n",
       "      <td>0.0</td>\n",
       "      <td>0.0</td>\n",
       "      <td>47.0</td>\n",
       "      <td>57.0</td>\n",
       "      <td>-5.0</td>\n",
       "      <td>2012240.0</td>\n",
       "      <td>129350.0</td>\n",
       "      <td>61236.0</td>\n",
       "      <td>17084.0</td>\n",
       "      <td>11488.0</td>\n",
       "      <td>62462.0</td>\n",
       "      <td>49960.0</td>\n",
       "      <td>33932.0</td>\n",
       "      <td>0.0</td>\n",
       "      <td>0.0</td>\n",
       "    </tr>\n",
       "    <tr>\n",
       "      <th>4</th>\n",
       "      <td>0.0</td>\n",
       "      <td>0.0</td>\n",
       "      <td>44.0</td>\n",
       "      <td>53.0</td>\n",
       "      <td>-8.0</td>\n",
       "      <td>1005145.0</td>\n",
       "      <td>354328.0</td>\n",
       "      <td>37102.0</td>\n",
       "      <td>88881.0</td>\n",
       "      <td>45307.0</td>\n",
       "      <td>99603.0</td>\n",
       "      <td>44790.0</td>\n",
       "      <td>29749.0</td>\n",
       "      <td>0.0</td>\n",
       "      <td>0.0</td>\n",
       "    </tr>\n",
       "  </tbody>\n",
       "</table>\n",
       "</div>"
      ],
      "text/plain": [
       "   SubjectID  VideoID  Attention  Mediation    Raw      Delta     Theta  \\\n",
       "0        0.0      0.0       56.0       43.0  278.0   301963.0   90612.0   \n",
       "1        0.0      0.0       40.0       35.0  -50.0    73787.0   28083.0   \n",
       "2        0.0      0.0       47.0       48.0  101.0   758353.0  383745.0   \n",
       "3        0.0      0.0       47.0       57.0   -5.0  2012240.0  129350.0   \n",
       "4        0.0      0.0       44.0       53.0   -8.0  1005145.0  354328.0   \n",
       "\n",
       "     Alpha1   Alpha2    Beta1     Beta2   Gamma1   Gamma2  predefinedlabel  \\\n",
       "0   33735.0  23991.0  27946.0   45097.0  33228.0   8293.0              0.0   \n",
       "1    1439.0   2240.0   2746.0    3687.0   5293.0   2740.0              0.0   \n",
       "2  201999.0  62107.0  36293.0  130536.0  57243.0  25354.0              0.0   \n",
       "3   61236.0  17084.0  11488.0   62462.0  49960.0  33932.0              0.0   \n",
       "4   37102.0  88881.0  45307.0   99603.0  44790.0  29749.0              0.0   \n",
       "\n",
       "   user-definedlabeln  \n",
       "0                 0.0  \n",
       "1                 0.0  \n",
       "2                 0.0  \n",
       "3                 0.0  \n",
       "4                 0.0  "
      ]
     },
     "execution_count": 35,
     "metadata": {},
     "output_type": "execute_result"
    }
   ],
   "source": [
    "df_raw = pd.read_csv('EEG_data.csv')\n",
    "df_raw.head() # show the raw DataFrame"
   ]
  },
  {
   "cell_type": "markdown",
   "metadata": {},
   "source": [
    "#### 2. Change type of `SubjectID` and `VideoID` to integer."
   ]
  },
  {
   "cell_type": "code",
   "execution_count": 36,
   "metadata": {},
   "outputs": [],
   "source": [
    "df_raw['SubjectID'] = df_raw.SubjectID.astype(int)\n",
    "df_raw['VideoID'] = df_raw.VideoID.astype(int)\n",
    "\n",
    "# View updated types to show the success of the change\n",
    "# print(df_raw.dtypes)"
   ]
  },
  {
   "cell_type": "markdown",
   "metadata": {},
   "source": [
    "#### 3. Group by `SubjectID` and `VideoID` taking the median."
   ]
  },
  {
   "cell_type": "code",
   "execution_count": 37,
   "metadata": {},
   "outputs": [
    {
     "data": {
      "text/html": [
       "<div>\n",
       "<style scoped>\n",
       "    .dataframe tbody tr th:only-of-type {\n",
       "        vertical-align: middle;\n",
       "    }\n",
       "\n",
       "    .dataframe tbody tr th {\n",
       "        vertical-align: top;\n",
       "    }\n",
       "\n",
       "    .dataframe thead th {\n",
       "        text-align: right;\n",
       "    }\n",
       "</style>\n",
       "<table border=\"1\" class=\"dataframe\">\n",
       "  <thead>\n",
       "    <tr style=\"text-align: right;\">\n",
       "      <th></th>\n",
       "      <th></th>\n",
       "      <th>Attention</th>\n",
       "      <th>Mediation</th>\n",
       "      <th>Raw</th>\n",
       "      <th>Delta</th>\n",
       "      <th>Theta</th>\n",
       "      <th>Alpha1</th>\n",
       "      <th>Alpha2</th>\n",
       "      <th>Beta1</th>\n",
       "      <th>Beta2</th>\n",
       "      <th>Gamma1</th>\n",
       "      <th>Gamma2</th>\n",
       "      <th>predefinedlabel</th>\n",
       "      <th>user-definedlabeln</th>\n",
       "    </tr>\n",
       "    <tr>\n",
       "      <th>SubjectID</th>\n",
       "      <th>VideoID</th>\n",
       "      <th></th>\n",
       "      <th></th>\n",
       "      <th></th>\n",
       "      <th></th>\n",
       "      <th></th>\n",
       "      <th></th>\n",
       "      <th></th>\n",
       "      <th></th>\n",
       "      <th></th>\n",
       "      <th></th>\n",
       "      <th></th>\n",
       "      <th></th>\n",
       "      <th></th>\n",
       "    </tr>\n",
       "  </thead>\n",
       "  <tbody>\n",
       "    <tr>\n",
       "      <th rowspan=\"5\" valign=\"top\">0</th>\n",
       "      <th>0</th>\n",
       "      <td>57.0</td>\n",
       "      <td>53.0</td>\n",
       "      <td>41.0</td>\n",
       "      <td>304329.0</td>\n",
       "      <td>81382.5</td>\n",
       "      <td>13622.0</td>\n",
       "      <td>14065.5</td>\n",
       "      <td>14312.5</td>\n",
       "      <td>33887.5</td>\n",
       "      <td>29328.5</td>\n",
       "      <td>13104.5</td>\n",
       "      <td>0.0</td>\n",
       "      <td>0.0</td>\n",
       "    </tr>\n",
       "    <tr>\n",
       "      <th>1</th>\n",
       "      <td>47.0</td>\n",
       "      <td>50.0</td>\n",
       "      <td>33.0</td>\n",
       "      <td>578197.0</td>\n",
       "      <td>109448.0</td>\n",
       "      <td>23867.5</td>\n",
       "      <td>16974.5</td>\n",
       "      <td>18187.0</td>\n",
       "      <td>31988.0</td>\n",
       "      <td>29606.5</td>\n",
       "      <td>10958.5</td>\n",
       "      <td>0.0</td>\n",
       "      <td>1.0</td>\n",
       "    </tr>\n",
       "    <tr>\n",
       "      <th>2</th>\n",
       "      <td>43.5</td>\n",
       "      <td>48.0</td>\n",
       "      <td>7.5</td>\n",
       "      <td>463542.0</td>\n",
       "      <td>96455.0</td>\n",
       "      <td>18521.0</td>\n",
       "      <td>13002.0</td>\n",
       "      <td>14092.5</td>\n",
       "      <td>30222.0</td>\n",
       "      <td>27109.0</td>\n",
       "      <td>10977.5</td>\n",
       "      <td>0.0</td>\n",
       "      <td>1.0</td>\n",
       "    </tr>\n",
       "    <tr>\n",
       "      <th>3</th>\n",
       "      <td>52.0</td>\n",
       "      <td>53.0</td>\n",
       "      <td>37.0</td>\n",
       "      <td>471965.5</td>\n",
       "      <td>64971.0</td>\n",
       "      <td>15899.5</td>\n",
       "      <td>12748.5</td>\n",
       "      <td>11729.0</td>\n",
       "      <td>33487.5</td>\n",
       "      <td>31548.0</td>\n",
       "      <td>11812.5</td>\n",
       "      <td>0.0</td>\n",
       "      <td>0.0</td>\n",
       "    </tr>\n",
       "    <tr>\n",
       "      <th>4</th>\n",
       "      <td>53.0</td>\n",
       "      <td>47.0</td>\n",
       "      <td>28.0</td>\n",
       "      <td>301557.0</td>\n",
       "      <td>45817.5</td>\n",
       "      <td>14845.5</td>\n",
       "      <td>10775.5</td>\n",
       "      <td>13702.0</td>\n",
       "      <td>31554.0</td>\n",
       "      <td>28606.0</td>\n",
       "      <td>11745.5</td>\n",
       "      <td>0.0</td>\n",
       "      <td>0.0</td>\n",
       "    </tr>\n",
       "  </tbody>\n",
       "</table>\n",
       "</div>"
      ],
      "text/plain": [
       "                   Attention  Mediation   Raw     Delta     Theta   Alpha1  \\\n",
       "SubjectID VideoID                                                            \n",
       "0         0             57.0       53.0  41.0  304329.0   81382.5  13622.0   \n",
       "          1             47.0       50.0  33.0  578197.0  109448.0  23867.5   \n",
       "          2             43.5       48.0   7.5  463542.0   96455.0  18521.0   \n",
       "          3             52.0       53.0  37.0  471965.5   64971.0  15899.5   \n",
       "          4             53.0       47.0  28.0  301557.0   45817.5  14845.5   \n",
       "\n",
       "                    Alpha2    Beta1    Beta2   Gamma1   Gamma2  \\\n",
       "SubjectID VideoID                                                \n",
       "0         0        14065.5  14312.5  33887.5  29328.5  13104.5   \n",
       "          1        16974.5  18187.0  31988.0  29606.5  10958.5   \n",
       "          2        13002.0  14092.5  30222.0  27109.0  10977.5   \n",
       "          3        12748.5  11729.0  33487.5  31548.0  11812.5   \n",
       "          4        10775.5  13702.0  31554.0  28606.0  11745.5   \n",
       "\n",
       "                   predefinedlabel  user-definedlabeln  \n",
       "SubjectID VideoID                                       \n",
       "0         0                    0.0                 0.0  \n",
       "          1                    0.0                 1.0  \n",
       "          2                    0.0                 1.0  \n",
       "          3                    0.0                 0.0  \n",
       "          4                    0.0                 0.0  "
      ]
     },
     "execution_count": 37,
     "metadata": {},
     "output_type": "execute_result"
    }
   ],
   "source": [
    "df_grouped = df_raw.groupby(['SubjectID','VideoID']).median()\n",
    "df_grouped.head() # show the summarised DataFrame"
   ]
  },
  {
   "cell_type": "markdown",
   "metadata": {},
   "source": [
    "#### 4. Rename and change type of `predefinedlabel` and `user-definedlabeln`."
   ]
  },
  {
   "cell_type": "code",
   "execution_count": 38,
   "metadata": {},
   "outputs": [],
   "source": [
    "df_grouped = df_grouped.rename(columns={'predefinedlabel': 'ExpectedConfusion', 'user-definedlabeln': 'ReportedConfusion'})\n",
    "\n",
    "# Change type of \"SubjectID\" and \"VideoID\" to integer\n",
    "df_grouped['ExpectedConfusion'] = df_grouped.ExpectedConfusion.astype(int)\n",
    "df_grouped['ReportedConfusion'] = df_grouped.ReportedConfusion.astype(int)\n",
    "\n",
    "# View updated types to show the success of the change\n",
    "# print(df_grouped.dtypes)"
   ]
  },
  {
   "cell_type": "markdown",
   "metadata": {},
   "source": [
    "### Explore data:"
   ]
  },
  {
   "cell_type": "code",
   "execution_count": 39,
   "metadata": {},
   "outputs": [
    {
     "data": {
      "text/html": [
       "<div>\n",
       "<style scoped>\n",
       "    .dataframe tbody tr th:only-of-type {\n",
       "        vertical-align: middle;\n",
       "    }\n",
       "\n",
       "    .dataframe tbody tr th {\n",
       "        vertical-align: top;\n",
       "    }\n",
       "\n",
       "    .dataframe thead th {\n",
       "        text-align: right;\n",
       "    }\n",
       "</style>\n",
       "<table border=\"1\" class=\"dataframe\">\n",
       "  <thead>\n",
       "    <tr style=\"text-align: right;\">\n",
       "      <th></th>\n",
       "      <th></th>\n",
       "      <th>Attention</th>\n",
       "      <th>Mediation</th>\n",
       "      <th>Raw</th>\n",
       "      <th>Delta</th>\n",
       "      <th>Theta</th>\n",
       "      <th>Alpha1</th>\n",
       "      <th>Alpha2</th>\n",
       "      <th>Beta1</th>\n",
       "      <th>Beta2</th>\n",
       "      <th>Gamma1</th>\n",
       "      <th>Gamma2</th>\n",
       "      <th>ExpectedConfusion</th>\n",
       "      <th>ReportedConfusion</th>\n",
       "    </tr>\n",
       "    <tr>\n",
       "      <th>SubjectID</th>\n",
       "      <th>VideoID</th>\n",
       "      <th></th>\n",
       "      <th></th>\n",
       "      <th></th>\n",
       "      <th></th>\n",
       "      <th></th>\n",
       "      <th></th>\n",
       "      <th></th>\n",
       "      <th></th>\n",
       "      <th></th>\n",
       "      <th></th>\n",
       "      <th></th>\n",
       "      <th></th>\n",
       "      <th></th>\n",
       "    </tr>\n",
       "  </thead>\n",
       "  <tbody>\n",
       "    <tr>\n",
       "      <th rowspan=\"10\" valign=\"top\">2</th>\n",
       "      <th>0</th>\n",
       "      <td>60.5</td>\n",
       "      <td>51.0</td>\n",
       "      <td>32.0</td>\n",
       "      <td>9309.5</td>\n",
       "      <td>10854.0</td>\n",
       "      <td>4970.5</td>\n",
       "      <td>5131.0</td>\n",
       "      <td>4707.5</td>\n",
       "      <td>5848.5</td>\n",
       "      <td>2945.5</td>\n",
       "      <td>2379.5</td>\n",
       "      <td>0</td>\n",
       "      <td>0</td>\n",
       "    </tr>\n",
       "    <tr>\n",
       "      <th>1</th>\n",
       "      <td>56.0</td>\n",
       "      <td>60.5</td>\n",
       "      <td>33.5</td>\n",
       "      <td>12534.5</td>\n",
       "      <td>12490.0</td>\n",
       "      <td>6545.0</td>\n",
       "      <td>6625.0</td>\n",
       "      <td>5047.5</td>\n",
       "      <td>6313.5</td>\n",
       "      <td>3125.5</td>\n",
       "      <td>2239.5</td>\n",
       "      <td>0</td>\n",
       "      <td>1</td>\n",
       "    </tr>\n",
       "    <tr>\n",
       "      <th>2</th>\n",
       "      <td>63.0</td>\n",
       "      <td>66.5</td>\n",
       "      <td>33.0</td>\n",
       "      <td>9583.0</td>\n",
       "      <td>9507.5</td>\n",
       "      <td>5972.5</td>\n",
       "      <td>6542.5</td>\n",
       "      <td>5260.5</td>\n",
       "      <td>5416.0</td>\n",
       "      <td>2596.0</td>\n",
       "      <td>1923.0</td>\n",
       "      <td>0</td>\n",
       "      <td>0</td>\n",
       "    </tr>\n",
       "    <tr>\n",
       "      <th>3</th>\n",
       "      <td>44.0</td>\n",
       "      <td>64.0</td>\n",
       "      <td>36.5</td>\n",
       "      <td>7193.0</td>\n",
       "      <td>10929.0</td>\n",
       "      <td>5199.0</td>\n",
       "      <td>4804.0</td>\n",
       "      <td>4940.5</td>\n",
       "      <td>4756.0</td>\n",
       "      <td>2500.0</td>\n",
       "      <td>1543.0</td>\n",
       "      <td>0</td>\n",
       "      <td>0</td>\n",
       "    </tr>\n",
       "    <tr>\n",
       "      <th>4</th>\n",
       "      <td>66.0</td>\n",
       "      <td>60.5</td>\n",
       "      <td>34.0</td>\n",
       "      <td>8090.0</td>\n",
       "      <td>13133.5</td>\n",
       "      <td>6682.0</td>\n",
       "      <td>9777.5</td>\n",
       "      <td>11025.5</td>\n",
       "      <td>15876.0</td>\n",
       "      <td>9354.0</td>\n",
       "      <td>6916.0</td>\n",
       "      <td>0</td>\n",
       "      <td>1</td>\n",
       "    </tr>\n",
       "    <tr>\n",
       "      <th>5</th>\n",
       "      <td>78.0</td>\n",
       "      <td>64.0</td>\n",
       "      <td>35.0</td>\n",
       "      <td>9804.0</td>\n",
       "      <td>15638.0</td>\n",
       "      <td>6829.0</td>\n",
       "      <td>7689.0</td>\n",
       "      <td>9777.0</td>\n",
       "      <td>10640.0</td>\n",
       "      <td>5818.0</td>\n",
       "      <td>3848.0</td>\n",
       "      <td>1</td>\n",
       "      <td>1</td>\n",
       "    </tr>\n",
       "    <tr>\n",
       "      <th>6</th>\n",
       "      <td>56.0</td>\n",
       "      <td>55.0</td>\n",
       "      <td>34.0</td>\n",
       "      <td>7258.0</td>\n",
       "      <td>9668.5</td>\n",
       "      <td>4397.0</td>\n",
       "      <td>4937.0</td>\n",
       "      <td>4809.5</td>\n",
       "      <td>5700.5</td>\n",
       "      <td>2510.0</td>\n",
       "      <td>2147.5</td>\n",
       "      <td>1</td>\n",
       "      <td>0</td>\n",
       "    </tr>\n",
       "    <tr>\n",
       "      <th>7</th>\n",
       "      <td>47.0</td>\n",
       "      <td>60.0</td>\n",
       "      <td>33.0</td>\n",
       "      <td>12879.0</td>\n",
       "      <td>14316.0</td>\n",
       "      <td>6634.0</td>\n",
       "      <td>5959.0</td>\n",
       "      <td>7260.0</td>\n",
       "      <td>8529.0</td>\n",
       "      <td>5367.0</td>\n",
       "      <td>4454.0</td>\n",
       "      <td>1</td>\n",
       "      <td>1</td>\n",
       "    </tr>\n",
       "    <tr>\n",
       "      <th>8</th>\n",
       "      <td>57.0</td>\n",
       "      <td>61.0</td>\n",
       "      <td>36.0</td>\n",
       "      <td>8802.0</td>\n",
       "      <td>10310.0</td>\n",
       "      <td>4509.0</td>\n",
       "      <td>5294.0</td>\n",
       "      <td>5553.0</td>\n",
       "      <td>5672.0</td>\n",
       "      <td>2752.0</td>\n",
       "      <td>2292.0</td>\n",
       "      <td>1</td>\n",
       "      <td>1</td>\n",
       "    </tr>\n",
       "    <tr>\n",
       "      <th>9</th>\n",
       "      <td>43.0</td>\n",
       "      <td>64.0</td>\n",
       "      <td>32.0</td>\n",
       "      <td>8343.0</td>\n",
       "      <td>10231.0</td>\n",
       "      <td>5203.0</td>\n",
       "      <td>6331.0</td>\n",
       "      <td>4917.0</td>\n",
       "      <td>5080.0</td>\n",
       "      <td>2211.0</td>\n",
       "      <td>1779.0</td>\n",
       "      <td>1</td>\n",
       "      <td>0</td>\n",
       "    </tr>\n",
       "  </tbody>\n",
       "</table>\n",
       "</div>"
      ],
      "text/plain": [
       "                   Attention  Mediation   Raw    Delta    Theta  Alpha1  \\\n",
       "SubjectID VideoID                                                         \n",
       "2         0             60.5       51.0  32.0   9309.5  10854.0  4970.5   \n",
       "          1             56.0       60.5  33.5  12534.5  12490.0  6545.0   \n",
       "          2             63.0       66.5  33.0   9583.0   9507.5  5972.5   \n",
       "          3             44.0       64.0  36.5   7193.0  10929.0  5199.0   \n",
       "          4             66.0       60.5  34.0   8090.0  13133.5  6682.0   \n",
       "          5             78.0       64.0  35.0   9804.0  15638.0  6829.0   \n",
       "          6             56.0       55.0  34.0   7258.0   9668.5  4397.0   \n",
       "          7             47.0       60.0  33.0  12879.0  14316.0  6634.0   \n",
       "          8             57.0       61.0  36.0   8802.0  10310.0  4509.0   \n",
       "          9             43.0       64.0  32.0   8343.0  10231.0  5203.0   \n",
       "\n",
       "                   Alpha2    Beta1    Beta2  Gamma1  Gamma2  \\\n",
       "SubjectID VideoID                                             \n",
       "2         0        5131.0   4707.5   5848.5  2945.5  2379.5   \n",
       "          1        6625.0   5047.5   6313.5  3125.5  2239.5   \n",
       "          2        6542.5   5260.5   5416.0  2596.0  1923.0   \n",
       "          3        4804.0   4940.5   4756.0  2500.0  1543.0   \n",
       "          4        9777.5  11025.5  15876.0  9354.0  6916.0   \n",
       "          5        7689.0   9777.0  10640.0  5818.0  3848.0   \n",
       "          6        4937.0   4809.5   5700.5  2510.0  2147.5   \n",
       "          7        5959.0   7260.0   8529.0  5367.0  4454.0   \n",
       "          8        5294.0   5553.0   5672.0  2752.0  2292.0   \n",
       "          9        6331.0   4917.0   5080.0  2211.0  1779.0   \n",
       "\n",
       "                   ExpectedConfusion  ReportedConfusion  \n",
       "SubjectID VideoID                                        \n",
       "2         0                        0                  0  \n",
       "          1                        0                  1  \n",
       "          2                        0                  0  \n",
       "          3                        0                  0  \n",
       "          4                        0                  1  \n",
       "          5                        1                  1  \n",
       "          6                        1                  0  \n",
       "          7                        1                  1  \n",
       "          8                        1                  1  \n",
       "          9                        1                  0  "
      ]
     },
     "execution_count": 39,
     "metadata": {},
     "output_type": "execute_result"
    }
   ],
   "source": [
    "df_grouped.iloc[20:30]"
   ]
  },
  {
   "cell_type": "markdown",
   "metadata": {},
   "source": [
    "Recalling homework 3, we explore the data for Subject 6, which we could not use because the values for `Attention` and `Mediation` were all set to zero."
   ]
  },
  {
   "cell_type": "code",
   "execution_count": 40,
   "metadata": {},
   "outputs": [
    {
     "data": {
      "text/html": [
       "<div>\n",
       "<style scoped>\n",
       "    .dataframe tbody tr th:only-of-type {\n",
       "        vertical-align: middle;\n",
       "    }\n",
       "\n",
       "    .dataframe tbody tr th {\n",
       "        vertical-align: top;\n",
       "    }\n",
       "\n",
       "    .dataframe thead th {\n",
       "        text-align: right;\n",
       "    }\n",
       "</style>\n",
       "<table border=\"1\" class=\"dataframe\">\n",
       "  <thead>\n",
       "    <tr style=\"text-align: right;\">\n",
       "      <th></th>\n",
       "      <th></th>\n",
       "      <th>Attention</th>\n",
       "      <th>Mediation</th>\n",
       "      <th>Raw</th>\n",
       "      <th>Delta</th>\n",
       "      <th>Theta</th>\n",
       "      <th>Alpha1</th>\n",
       "      <th>Alpha2</th>\n",
       "      <th>Beta1</th>\n",
       "      <th>Beta2</th>\n",
       "      <th>Gamma1</th>\n",
       "      <th>Gamma2</th>\n",
       "      <th>ExpectedConfusion</th>\n",
       "      <th>ReportedConfusion</th>\n",
       "    </tr>\n",
       "    <tr>\n",
       "      <th>SubjectID</th>\n",
       "      <th>VideoID</th>\n",
       "      <th></th>\n",
       "      <th></th>\n",
       "      <th></th>\n",
       "      <th></th>\n",
       "      <th></th>\n",
       "      <th></th>\n",
       "      <th></th>\n",
       "      <th></th>\n",
       "      <th></th>\n",
       "      <th></th>\n",
       "      <th></th>\n",
       "      <th></th>\n",
       "      <th></th>\n",
       "    </tr>\n",
       "  </thead>\n",
       "  <tbody>\n",
       "    <tr>\n",
       "      <th rowspan=\"9\" valign=\"top\">6</th>\n",
       "      <th>1</th>\n",
       "      <td>0.0</td>\n",
       "      <td>0.0</td>\n",
       "      <td>1947.0</td>\n",
       "      <td>508054.0</td>\n",
       "      <td>156218.5</td>\n",
       "      <td>27241.5</td>\n",
       "      <td>30590.0</td>\n",
       "      <td>35735.5</td>\n",
       "      <td>229804.0</td>\n",
       "      <td>210639.0</td>\n",
       "      <td>56004.5</td>\n",
       "      <td>0</td>\n",
       "      <td>0</td>\n",
       "    </tr>\n",
       "    <tr>\n",
       "      <th>2</th>\n",
       "      <td>0.0</td>\n",
       "      <td>0.0</td>\n",
       "      <td>2047.0</td>\n",
       "      <td>493472.0</td>\n",
       "      <td>140408.0</td>\n",
       "      <td>24574.0</td>\n",
       "      <td>25138.5</td>\n",
       "      <td>27305.5</td>\n",
       "      <td>229283.5</td>\n",
       "      <td>172220.0</td>\n",
       "      <td>47531.5</td>\n",
       "      <td>0</td>\n",
       "      <td>0</td>\n",
       "    </tr>\n",
       "    <tr>\n",
       "      <th>3</th>\n",
       "      <td>0.0</td>\n",
       "      <td>0.0</td>\n",
       "      <td>745.0</td>\n",
       "      <td>710475.0</td>\n",
       "      <td>251334.0</td>\n",
       "      <td>79509.0</td>\n",
       "      <td>89988.0</td>\n",
       "      <td>63536.5</td>\n",
       "      <td>80381.0</td>\n",
       "      <td>64521.0</td>\n",
       "      <td>67986.5</td>\n",
       "      <td>0</td>\n",
       "      <td>1</td>\n",
       "    </tr>\n",
       "    <tr>\n",
       "      <th>4</th>\n",
       "      <td>0.0</td>\n",
       "      <td>0.0</td>\n",
       "      <td>2047.0</td>\n",
       "      <td>586601.0</td>\n",
       "      <td>155210.0</td>\n",
       "      <td>32401.5</td>\n",
       "      <td>29148.0</td>\n",
       "      <td>41267.5</td>\n",
       "      <td>267640.5</td>\n",
       "      <td>216531.5</td>\n",
       "      <td>66907.0</td>\n",
       "      <td>0</td>\n",
       "      <td>1</td>\n",
       "    </tr>\n",
       "    <tr>\n",
       "      <th>5</th>\n",
       "      <td>0.0</td>\n",
       "      <td>0.0</td>\n",
       "      <td>2047.0</td>\n",
       "      <td>564779.0</td>\n",
       "      <td>120484.0</td>\n",
       "      <td>20605.0</td>\n",
       "      <td>34218.0</td>\n",
       "      <td>32353.0</td>\n",
       "      <td>66513.0</td>\n",
       "      <td>48064.0</td>\n",
       "      <td>25101.0</td>\n",
       "      <td>1</td>\n",
       "      <td>0</td>\n",
       "    </tr>\n",
       "    <tr>\n",
       "      <th>6</th>\n",
       "      <td>0.0</td>\n",
       "      <td>0.0</td>\n",
       "      <td>2047.0</td>\n",
       "      <td>672645.0</td>\n",
       "      <td>149628.5</td>\n",
       "      <td>21056.0</td>\n",
       "      <td>43108.5</td>\n",
       "      <td>41244.5</td>\n",
       "      <td>123349.0</td>\n",
       "      <td>85899.0</td>\n",
       "      <td>45283.5</td>\n",
       "      <td>1</td>\n",
       "      <td>1</td>\n",
       "    </tr>\n",
       "    <tr>\n",
       "      <th>7</th>\n",
       "      <td>0.0</td>\n",
       "      <td>0.0</td>\n",
       "      <td>1996.0</td>\n",
       "      <td>552618.0</td>\n",
       "      <td>127639.0</td>\n",
       "      <td>22642.0</td>\n",
       "      <td>28895.0</td>\n",
       "      <td>31902.0</td>\n",
       "      <td>39863.0</td>\n",
       "      <td>36320.0</td>\n",
       "      <td>25035.0</td>\n",
       "      <td>1</td>\n",
       "      <td>0</td>\n",
       "    </tr>\n",
       "    <tr>\n",
       "      <th>8</th>\n",
       "      <td>0.0</td>\n",
       "      <td>0.0</td>\n",
       "      <td>1440.0</td>\n",
       "      <td>823137.0</td>\n",
       "      <td>220264.5</td>\n",
       "      <td>50082.0</td>\n",
       "      <td>75637.0</td>\n",
       "      <td>41083.0</td>\n",
       "      <td>74182.5</td>\n",
       "      <td>54261.0</td>\n",
       "      <td>58468.5</td>\n",
       "      <td>1</td>\n",
       "      <td>1</td>\n",
       "    </tr>\n",
       "    <tr>\n",
       "      <th>9</th>\n",
       "      <td>0.0</td>\n",
       "      <td>0.0</td>\n",
       "      <td>1864.0</td>\n",
       "      <td>745014.0</td>\n",
       "      <td>158270.0</td>\n",
       "      <td>30518.0</td>\n",
       "      <td>43138.0</td>\n",
       "      <td>31612.0</td>\n",
       "      <td>42248.0</td>\n",
       "      <td>43991.0</td>\n",
       "      <td>32345.0</td>\n",
       "      <td>1</td>\n",
       "      <td>0</td>\n",
       "    </tr>\n",
       "  </tbody>\n",
       "</table>\n",
       "</div>"
      ],
      "text/plain": [
       "                   Attention  Mediation     Raw     Delta     Theta   Alpha1  \\\n",
       "SubjectID VideoID                                                              \n",
       "6         1              0.0        0.0  1947.0  508054.0  156218.5  27241.5   \n",
       "          2              0.0        0.0  2047.0  493472.0  140408.0  24574.0   \n",
       "          3              0.0        0.0   745.0  710475.0  251334.0  79509.0   \n",
       "          4              0.0        0.0  2047.0  586601.0  155210.0  32401.5   \n",
       "          5              0.0        0.0  2047.0  564779.0  120484.0  20605.0   \n",
       "          6              0.0        0.0  2047.0  672645.0  149628.5  21056.0   \n",
       "          7              0.0        0.0  1996.0  552618.0  127639.0  22642.0   \n",
       "          8              0.0        0.0  1440.0  823137.0  220264.5  50082.0   \n",
       "          9              0.0        0.0  1864.0  745014.0  158270.0  30518.0   \n",
       "\n",
       "                    Alpha2    Beta1     Beta2    Gamma1   Gamma2  \\\n",
       "SubjectID VideoID                                                  \n",
       "6         1        30590.0  35735.5  229804.0  210639.0  56004.5   \n",
       "          2        25138.5  27305.5  229283.5  172220.0  47531.5   \n",
       "          3        89988.0  63536.5   80381.0   64521.0  67986.5   \n",
       "          4        29148.0  41267.5  267640.5  216531.5  66907.0   \n",
       "          5        34218.0  32353.0   66513.0   48064.0  25101.0   \n",
       "          6        43108.5  41244.5  123349.0   85899.0  45283.5   \n",
       "          7        28895.0  31902.0   39863.0   36320.0  25035.0   \n",
       "          8        75637.0  41083.0   74182.5   54261.0  58468.5   \n",
       "          9        43138.0  31612.0   42248.0   43991.0  32345.0   \n",
       "\n",
       "                   ExpectedConfusion  ReportedConfusion  \n",
       "SubjectID VideoID                                        \n",
       "6         1                        0                  0  \n",
       "          2                        0                  0  \n",
       "          3                        0                  1  \n",
       "          4                        0                  1  \n",
       "          5                        1                  0  \n",
       "          6                        1                  1  \n",
       "          7                        1                  0  \n",
       "          8                        1                  1  \n",
       "          9                        1                  0  "
      ]
     },
     "execution_count": 40,
     "metadata": {},
     "output_type": "execute_result"
    }
   ],
   "source": [
    "df_grouped.iloc[61:70]"
   ]
  },
  {
   "cell_type": "markdown",
   "metadata": {},
   "source": [
    "Just observing the values for the `Raw` EEG, we see that the recording did not work, as the magnitude of the EEG signal should be around a few dozen microvolts, but for Subject 6 they are too high (1900, 2000, etc.). So, as the frenquency band powers are computed from this `Raw`, they will also be wrong.\n",
    "\n",
    "**We decide to drop Subject 6 because it would spoil our model.**"
   ]
  },
  {
   "cell_type": "code",
   "execution_count": 41,
   "metadata": {},
   "outputs": [
    {
     "data": {
      "text/html": [
       "<div>\n",
       "<style scoped>\n",
       "    .dataframe tbody tr th:only-of-type {\n",
       "        vertical-align: middle;\n",
       "    }\n",
       "\n",
       "    .dataframe tbody tr th {\n",
       "        vertical-align: top;\n",
       "    }\n",
       "\n",
       "    .dataframe thead th {\n",
       "        text-align: right;\n",
       "    }\n",
       "</style>\n",
       "<table border=\"1\" class=\"dataframe\">\n",
       "  <thead>\n",
       "    <tr style=\"text-align: right;\">\n",
       "      <th></th>\n",
       "      <th></th>\n",
       "      <th>Attention</th>\n",
       "      <th>Mediation</th>\n",
       "      <th>Raw</th>\n",
       "      <th>Delta</th>\n",
       "      <th>Theta</th>\n",
       "      <th>Alpha1</th>\n",
       "      <th>Alpha2</th>\n",
       "      <th>Beta1</th>\n",
       "      <th>Beta2</th>\n",
       "      <th>Gamma1</th>\n",
       "      <th>Gamma2</th>\n",
       "      <th>ExpectedConfusion</th>\n",
       "      <th>ReportedConfusion</th>\n",
       "    </tr>\n",
       "    <tr>\n",
       "      <th>SubjectID</th>\n",
       "      <th>VideoID</th>\n",
       "      <th></th>\n",
       "      <th></th>\n",
       "      <th></th>\n",
       "      <th></th>\n",
       "      <th></th>\n",
       "      <th></th>\n",
       "      <th></th>\n",
       "      <th></th>\n",
       "      <th></th>\n",
       "      <th></th>\n",
       "      <th></th>\n",
       "      <th></th>\n",
       "      <th></th>\n",
       "    </tr>\n",
       "  </thead>\n",
       "  <tbody>\n",
       "    <tr>\n",
       "      <th rowspan=\"5\" valign=\"top\">5</th>\n",
       "      <th>5</th>\n",
       "      <td>44.0</td>\n",
       "      <td>56.0</td>\n",
       "      <td>24.0</td>\n",
       "      <td>668549.0</td>\n",
       "      <td>141976.0</td>\n",
       "      <td>31541.0</td>\n",
       "      <td>21076.0</td>\n",
       "      <td>21446.0</td>\n",
       "      <td>18893.0</td>\n",
       "      <td>9298.0</td>\n",
       "      <td>3346.0</td>\n",
       "      <td>1</td>\n",
       "      <td>1</td>\n",
       "    </tr>\n",
       "    <tr>\n",
       "      <th>6</th>\n",
       "      <td>44.0</td>\n",
       "      <td>61.0</td>\n",
       "      <td>24.5</td>\n",
       "      <td>778760.5</td>\n",
       "      <td>192265.5</td>\n",
       "      <td>44257.5</td>\n",
       "      <td>30446.5</td>\n",
       "      <td>27040.0</td>\n",
       "      <td>18207.0</td>\n",
       "      <td>11028.5</td>\n",
       "      <td>4276.5</td>\n",
       "      <td>1</td>\n",
       "      <td>1</td>\n",
       "    </tr>\n",
       "    <tr>\n",
       "      <th>7</th>\n",
       "      <td>48.0</td>\n",
       "      <td>53.0</td>\n",
       "      <td>25.0</td>\n",
       "      <td>506001.0</td>\n",
       "      <td>95566.0</td>\n",
       "      <td>20047.0</td>\n",
       "      <td>16329.0</td>\n",
       "      <td>9231.0</td>\n",
       "      <td>11310.0</td>\n",
       "      <td>7642.0</td>\n",
       "      <td>1360.0</td>\n",
       "      <td>1</td>\n",
       "      <td>0</td>\n",
       "    </tr>\n",
       "    <tr>\n",
       "      <th>8</th>\n",
       "      <td>42.0</td>\n",
       "      <td>49.0</td>\n",
       "      <td>10.5</td>\n",
       "      <td>771479.0</td>\n",
       "      <td>176048.5</td>\n",
       "      <td>29152.0</td>\n",
       "      <td>21144.5</td>\n",
       "      <td>19859.0</td>\n",
       "      <td>13513.0</td>\n",
       "      <td>6658.0</td>\n",
       "      <td>2695.5</td>\n",
       "      <td>1</td>\n",
       "      <td>1</td>\n",
       "    </tr>\n",
       "    <tr>\n",
       "      <th>9</th>\n",
       "      <td>44.0</td>\n",
       "      <td>57.0</td>\n",
       "      <td>36.5</td>\n",
       "      <td>304725.0</td>\n",
       "      <td>87659.0</td>\n",
       "      <td>18548.0</td>\n",
       "      <td>14065.5</td>\n",
       "      <td>7133.0</td>\n",
       "      <td>10001.5</td>\n",
       "      <td>6942.5</td>\n",
       "      <td>1165.0</td>\n",
       "      <td>1</td>\n",
       "      <td>0</td>\n",
       "    </tr>\n",
       "    <tr>\n",
       "      <th rowspan=\"5\" valign=\"top\">7</th>\n",
       "      <th>0</th>\n",
       "      <td>47.0</td>\n",
       "      <td>44.0</td>\n",
       "      <td>29.5</td>\n",
       "      <td>388171.0</td>\n",
       "      <td>70540.0</td>\n",
       "      <td>13229.0</td>\n",
       "      <td>13597.0</td>\n",
       "      <td>16197.5</td>\n",
       "      <td>32396.0</td>\n",
       "      <td>23462.0</td>\n",
       "      <td>17597.5</td>\n",
       "      <td>0</td>\n",
       "      <td>1</td>\n",
       "    </tr>\n",
       "    <tr>\n",
       "      <th>1</th>\n",
       "      <td>40.0</td>\n",
       "      <td>53.0</td>\n",
       "      <td>34.0</td>\n",
       "      <td>693471.5</td>\n",
       "      <td>93714.5</td>\n",
       "      <td>21508.0</td>\n",
       "      <td>16549.0</td>\n",
       "      <td>11346.0</td>\n",
       "      <td>17963.5</td>\n",
       "      <td>14239.0</td>\n",
       "      <td>11005.0</td>\n",
       "      <td>0</td>\n",
       "      <td>1</td>\n",
       "    </tr>\n",
       "    <tr>\n",
       "      <th>2</th>\n",
       "      <td>60.5</td>\n",
       "      <td>51.0</td>\n",
       "      <td>23.5</td>\n",
       "      <td>70079.5</td>\n",
       "      <td>31634.5</td>\n",
       "      <td>10848.5</td>\n",
       "      <td>11168.5</td>\n",
       "      <td>13889.5</td>\n",
       "      <td>20315.0</td>\n",
       "      <td>12822.0</td>\n",
       "      <td>10618.0</td>\n",
       "      <td>0</td>\n",
       "      <td>0</td>\n",
       "    </tr>\n",
       "    <tr>\n",
       "      <th>3</th>\n",
       "      <td>20.5</td>\n",
       "      <td>56.0</td>\n",
       "      <td>44.5</td>\n",
       "      <td>800065.5</td>\n",
       "      <td>138929.5</td>\n",
       "      <td>27282.5</td>\n",
       "      <td>17721.5</td>\n",
       "      <td>13199.0</td>\n",
       "      <td>12578.5</td>\n",
       "      <td>12801.0</td>\n",
       "      <td>8158.5</td>\n",
       "      <td>0</td>\n",
       "      <td>1</td>\n",
       "    </tr>\n",
       "    <tr>\n",
       "      <th>4</th>\n",
       "      <td>50.0</td>\n",
       "      <td>47.0</td>\n",
       "      <td>35.0</td>\n",
       "      <td>210488.5</td>\n",
       "      <td>55984.0</td>\n",
       "      <td>13261.0</td>\n",
       "      <td>12799.0</td>\n",
       "      <td>14175.5</td>\n",
       "      <td>23876.0</td>\n",
       "      <td>15872.0</td>\n",
       "      <td>12662.0</td>\n",
       "      <td>0</td>\n",
       "      <td>1</td>\n",
       "    </tr>\n",
       "  </tbody>\n",
       "</table>\n",
       "</div>"
      ],
      "text/plain": [
       "                   Attention  Mediation   Raw     Delta     Theta   Alpha1  \\\n",
       "SubjectID VideoID                                                            \n",
       "5         5             44.0       56.0  24.0  668549.0  141976.0  31541.0   \n",
       "          6             44.0       61.0  24.5  778760.5  192265.5  44257.5   \n",
       "          7             48.0       53.0  25.0  506001.0   95566.0  20047.0   \n",
       "          8             42.0       49.0  10.5  771479.0  176048.5  29152.0   \n",
       "          9             44.0       57.0  36.5  304725.0   87659.0  18548.0   \n",
       "7         0             47.0       44.0  29.5  388171.0   70540.0  13229.0   \n",
       "          1             40.0       53.0  34.0  693471.5   93714.5  21508.0   \n",
       "          2             60.5       51.0  23.5   70079.5   31634.5  10848.5   \n",
       "          3             20.5       56.0  44.5  800065.5  138929.5  27282.5   \n",
       "          4             50.0       47.0  35.0  210488.5   55984.0  13261.0   \n",
       "\n",
       "                    Alpha2    Beta1    Beta2   Gamma1   Gamma2  \\\n",
       "SubjectID VideoID                                                \n",
       "5         5        21076.0  21446.0  18893.0   9298.0   3346.0   \n",
       "          6        30446.5  27040.0  18207.0  11028.5   4276.5   \n",
       "          7        16329.0   9231.0  11310.0   7642.0   1360.0   \n",
       "          8        21144.5  19859.0  13513.0   6658.0   2695.5   \n",
       "          9        14065.5   7133.0  10001.5   6942.5   1165.0   \n",
       "7         0        13597.0  16197.5  32396.0  23462.0  17597.5   \n",
       "          1        16549.0  11346.0  17963.5  14239.0  11005.0   \n",
       "          2        11168.5  13889.5  20315.0  12822.0  10618.0   \n",
       "          3        17721.5  13199.0  12578.5  12801.0   8158.5   \n",
       "          4        12799.0  14175.5  23876.0  15872.0  12662.0   \n",
       "\n",
       "                   ExpectedConfusion  ReportedConfusion  \n",
       "SubjectID VideoID                                        \n",
       "5         5                        1                  1  \n",
       "          6                        1                  1  \n",
       "          7                        1                  0  \n",
       "          8                        1                  1  \n",
       "          9                        1                  0  \n",
       "7         0                        0                  1  \n",
       "          1                        0                  1  \n",
       "          2                        0                  0  \n",
       "          3                        0                  1  \n",
       "          4                        0                  1  "
      ]
     },
     "execution_count": 41,
     "metadata": {},
     "output_type": "execute_result"
    }
   ],
   "source": [
    "df=df_grouped.drop(6)\n",
    "df.iloc[55:65] # check that Subject 6 observations have been droped"
   ]
  },
  {
   "cell_type": "markdown",
   "metadata": {},
   "source": [
    "### E1. Is there class imbalance?"
   ]
  },
  {
   "cell_type": "code",
   "execution_count": 42,
   "metadata": {},
   "outputs": [
    {
     "data": {
      "text/html": [
       "<div>\n",
       "<style scoped>\n",
       "    .dataframe tbody tr th:only-of-type {\n",
       "        vertical-align: middle;\n",
       "    }\n",
       "\n",
       "    .dataframe tbody tr th {\n",
       "        vertical-align: top;\n",
       "    }\n",
       "\n",
       "    .dataframe thead th {\n",
       "        text-align: right;\n",
       "    }\n",
       "</style>\n",
       "<table border=\"1\" class=\"dataframe\">\n",
       "  <thead>\n",
       "    <tr style=\"text-align: right;\">\n",
       "      <th></th>\n",
       "      <th></th>\n",
       "      <th>ExpectedConfusion</th>\n",
       "      <th>ReportedConfusion</th>\n",
       "    </tr>\n",
       "    <tr>\n",
       "      <th>SubjectID</th>\n",
       "      <th>VideoID</th>\n",
       "      <th></th>\n",
       "      <th></th>\n",
       "    </tr>\n",
       "  </thead>\n",
       "  <tbody>\n",
       "    <tr>\n",
       "      <th rowspan=\"10\" valign=\"top\">0</th>\n",
       "      <th>0</th>\n",
       "      <td>0</td>\n",
       "      <td>0</td>\n",
       "    </tr>\n",
       "    <tr>\n",
       "      <th>1</th>\n",
       "      <td>0</td>\n",
       "      <td>1</td>\n",
       "    </tr>\n",
       "    <tr>\n",
       "      <th>2</th>\n",
       "      <td>0</td>\n",
       "      <td>1</td>\n",
       "    </tr>\n",
       "    <tr>\n",
       "      <th>3</th>\n",
       "      <td>0</td>\n",
       "      <td>0</td>\n",
       "    </tr>\n",
       "    <tr>\n",
       "      <th>4</th>\n",
       "      <td>0</td>\n",
       "      <td>0</td>\n",
       "    </tr>\n",
       "    <tr>\n",
       "      <th>5</th>\n",
       "      <td>1</td>\n",
       "      <td>1</td>\n",
       "    </tr>\n",
       "    <tr>\n",
       "      <th>6</th>\n",
       "      <td>1</td>\n",
       "      <td>1</td>\n",
       "    </tr>\n",
       "    <tr>\n",
       "      <th>7</th>\n",
       "      <td>1</td>\n",
       "      <td>0</td>\n",
       "    </tr>\n",
       "    <tr>\n",
       "      <th>8</th>\n",
       "      <td>1</td>\n",
       "      <td>1</td>\n",
       "    </tr>\n",
       "    <tr>\n",
       "      <th>9</th>\n",
       "      <td>1</td>\n",
       "      <td>0</td>\n",
       "    </tr>\n",
       "  </tbody>\n",
       "</table>\n",
       "</div>"
      ],
      "text/plain": [
       "                   ExpectedConfusion  ReportedConfusion\n",
       "SubjectID VideoID                                      \n",
       "0         0                        0                  0\n",
       "          1                        0                  1\n",
       "          2                        0                  1\n",
       "          3                        0                  0\n",
       "          4                        0                  0\n",
       "          5                        1                  1\n",
       "          6                        1                  1\n",
       "          7                        1                  0\n",
       "          8                        1                  1\n",
       "          9                        1                  0"
      ]
     },
     "execution_count": 42,
     "metadata": {},
     "output_type": "execute_result"
    }
   ],
   "source": [
    "# Explore the response variables 'ExpectedConfusion' and 'ReportedConfusion'\n",
    "targets = ['ExpectedConfusion','ReportedConfusion']\n",
    "df[targets].iloc[0:10] # show the targets values for Subject 0"
   ]
  },
  {
   "cell_type": "markdown",
   "metadata": {},
   "source": [
    "The `ExpectedConfusion` is predefined for each video:\n",
    "* **Videos 0 - 4:**  clear, `ExpectedConfusion` = 0.\n",
    "* **Videos 5 - 9:**  confusing, `ExpectedConfusion` = 1.\n",
    "\n",
    "We can already conclude that the target `ExpectedConfusion` is balanced (50:50), as it is predefined this way by the experiment design.\n",
    "\n",
    "The `ReportedConfusion` is given by the student after watching the video, so it may be imbalanced. Let's check it:"
   ]
  },
  {
   "cell_type": "code",
   "execution_count": 43,
   "metadata": {},
   "outputs": [
    {
     "data": {
      "text/plain": [
       "1    45\n",
       "0    45\n",
       "Name: ExpectedConfusion, dtype: int64"
      ]
     },
     "execution_count": 43,
     "metadata": {},
     "output_type": "execute_result"
    }
   ],
   "source": [
    "# Reconfirm that 'ExpectedConfusion' is balanced\n",
    "df['ExpectedConfusion'].value_counts()"
   ]
  },
  {
   "cell_type": "code",
   "execution_count": 44,
   "metadata": {},
   "outputs": [
    {
     "data": {
      "text/plain": [
       "1    46\n",
       "0    44\n",
       "Name: ReportedConfusion, dtype: int64"
      ]
     },
     "execution_count": 44,
     "metadata": {},
     "output_type": "execute_result"
    }
   ],
   "source": [
    "# Check if 'ReportedConfusion' is balanced\n",
    "df['ReportedConfusion'].value_counts()"
   ]
  },
  {
   "cell_type": "markdown",
   "metadata": {},
   "source": [
    "The data for `ExpectedConfusion` is luckly very balanced!"
   ]
  },
  {
   "cell_type": "markdown",
   "metadata": {},
   "source": [
    "### E2. Logistic regression. Training accuracy."
   ]
  },
  {
   "cell_type": "markdown",
   "metadata": {},
   "source": [
    "#### Select predictors and target"
   ]
  },
  {
   "cell_type": "code",
   "execution_count": 45,
   "metadata": {},
   "outputs": [],
   "source": [
    "# Select the target \n",
    "target = 'ReportedConfusion'\n",
    "\n",
    "# Select the 8 predictors (power bands)\n",
    "predictors = df.columns[3:11]"
   ]
  },
  {
   "cell_type": "markdown",
   "metadata": {},
   "source": [
    "#### Train model: Logistic regression"
   ]
  },
  {
   "cell_type": "code",
   "execution_count": 46,
   "metadata": {},
   "outputs": [
    {
     "data": {
      "text/plain": [
       "LogisticRegression(C=1.0, class_weight=None, dual=False, fit_intercept=True,\n",
       "          intercept_scaling=1, max_iter=100, multi_class='ovr', n_jobs=1,\n",
       "          penalty='l2', random_state=None, solver='liblinear', tol=0.0001,\n",
       "          verbose=0, warm_start=False)"
      ]
     },
     "execution_count": 46,
     "metadata": {},
     "output_type": "execute_result"
    }
   ],
   "source": [
    "# All parameters not specified are set to their defaults\n",
    "logisticRegr = LogisticRegression()\n",
    "\n",
    "# Model is learning the relationship between power bands (df[predictors]) and confusion (df[target])\n",
    "logisticRegr.fit(df[predictors], df[target])"
   ]
  },
  {
   "cell_type": "markdown",
   "metadata": {},
   "source": [
    "Now that we have trained our logistic regression, we can make predictions on the same observations that we used for training and check if they are well-predicted."
   ]
  },
  {
   "cell_type": "markdown",
   "metadata": {},
   "source": [
    "#### Prediction of a single observation"
   ]
  },
  {
   "cell_type": "code",
   "execution_count": 47,
   "metadata": {},
   "outputs": [
    {
     "data": {
      "text/html": [
       "<div>\n",
       "<style scoped>\n",
       "    .dataframe tbody tr th:only-of-type {\n",
       "        vertical-align: middle;\n",
       "    }\n",
       "\n",
       "    .dataframe tbody tr th {\n",
       "        vertical-align: top;\n",
       "    }\n",
       "\n",
       "    .dataframe thead th {\n",
       "        text-align: right;\n",
       "    }\n",
       "</style>\n",
       "<table border=\"1\" class=\"dataframe\">\n",
       "  <thead>\n",
       "    <tr style=\"text-align: right;\">\n",
       "      <th></th>\n",
       "      <th></th>\n",
       "      <th>Delta</th>\n",
       "      <th>Theta</th>\n",
       "      <th>Alpha1</th>\n",
       "      <th>Alpha2</th>\n",
       "      <th>Beta1</th>\n",
       "      <th>Beta2</th>\n",
       "      <th>Gamma1</th>\n",
       "      <th>Gamma2</th>\n",
       "    </tr>\n",
       "    <tr>\n",
       "      <th>SubjectID</th>\n",
       "      <th>VideoID</th>\n",
       "      <th></th>\n",
       "      <th></th>\n",
       "      <th></th>\n",
       "      <th></th>\n",
       "      <th></th>\n",
       "      <th></th>\n",
       "      <th></th>\n",
       "      <th></th>\n",
       "    </tr>\n",
       "  </thead>\n",
       "  <tbody>\n",
       "    <tr>\n",
       "      <th>0</th>\n",
       "      <th>6</th>\n",
       "      <td>684449.5</td>\n",
       "      <td>125049.5</td>\n",
       "      <td>24340.5</td>\n",
       "      <td>16832.5</td>\n",
       "      <td>11367.0</td>\n",
       "      <td>25971.0</td>\n",
       "      <td>19999.5</td>\n",
       "      <td>8631.5</td>\n",
       "    </tr>\n",
       "  </tbody>\n",
       "</table>\n",
       "</div>"
      ],
      "text/plain": [
       "                      Delta     Theta   Alpha1   Alpha2    Beta1    Beta2  \\\n",
       "SubjectID VideoID                                                           \n",
       "0         6        684449.5  125049.5  24340.5  16832.5  11367.0  25971.0   \n",
       "\n",
       "                    Gamma1  Gamma2  \n",
       "SubjectID VideoID                   \n",
       "0         6        19999.5  8631.5  "
      ]
     },
     "execution_count": 47,
     "metadata": {},
     "output_type": "execute_result"
    }
   ],
   "source": [
    "# Select one observation and check its predictors\n",
    "df[predictors].iloc[[6]]"
   ]
  },
  {
   "cell_type": "code",
   "execution_count": 48,
   "metadata": {},
   "outputs": [
    {
     "data": {
      "text/plain": [
       "array([1])"
      ]
     },
     "execution_count": 48,
     "metadata": {},
     "output_type": "execute_result"
    }
   ],
   "source": [
    "# Predict its outcome\n",
    "logisticRegr.predict(df[predictors].iloc[[6]])"
   ]
  },
  {
   "cell_type": "code",
   "execution_count": 49,
   "metadata": {},
   "outputs": [
    {
     "data": {
      "text/plain": [
       "SubjectID  VideoID\n",
       "0          6          1\n",
       "Name: ReportedConfusion, dtype: int32"
      ]
     },
     "execution_count": 49,
     "metadata": {},
     "output_type": "execute_result"
    }
   ],
   "source": [
    "# Check its real outcome\n",
    "df[target].iloc[[6]]"
   ]
  },
  {
   "cell_type": "markdown",
   "metadata": {},
   "source": [
    "The prediction for this observation is correct!"
   ]
  },
  {
   "cell_type": "markdown",
   "metadata": {},
   "source": [
    "#### Prediction of a all observations"
   ]
  },
  {
   "cell_type": "code",
   "execution_count": 50,
   "metadata": {},
   "outputs": [
    {
     "data": {
      "text/plain": [
       "array([0, 0, 0, 0, 0, 1, 1, 0, 1, 0, 0, 1, 1, 1, 0, 0, 0, 0, 0, 0, 0, 0,\n",
       "       0, 0, 0, 0, 0, 0, 0, 0, 0, 1, 1, 0, 1, 1, 1, 1, 1, 1, 0, 1, 0, 1,\n",
       "       0, 0, 1, 0, 0, 0, 1, 1, 1, 1, 1, 0, 1, 1, 1, 1, 0, 1, 0, 1, 0, 1,\n",
       "       0, 1, 1, 0, 1, 1, 1, 1, 1, 1, 1, 1, 1, 1, 0, 0, 1, 0, 0, 1, 1, 1,\n",
       "       1, 0])"
      ]
     },
     "execution_count": 50,
     "metadata": {},
     "output_type": "execute_result"
    }
   ],
   "source": [
    "# Predict the outcome of all observations\n",
    "logisticRegr.predict(df[predictors])"
   ]
  },
  {
   "cell_type": "code",
   "execution_count": 90,
   "metadata": {
    "scrolled": true
   },
   "outputs": [
    {
     "name": "stdout",
     "output_type": "stream",
     "text": [
      "0 1 1 0 0 1 1 0 1 0 0 1 1 1 1 0 0 0 0 0 0 1 0 0 1 1 0 1 1 0 0 0 0 0 1 0 1 1 1 1 0 1 1 1 0 0 1 1 1 0 0 1 1 1 0 1 1 0 1 0 1 1 0 1 1 1 0 1 0 0 0 0 0 0 1 1 0 0 1 1 1 0 0 1 1 1 0 0 1 0 "
     ]
    }
   ],
   "source": [
    "# Check their real outcome\n",
    "for i in df[target]:\n",
    "    print(i, end=' ')"
   ]
  },
  {
   "cell_type": "markdown",
   "metadata": {},
   "source": [
    "Some of them coincide, while others not. With this we can determine the Training Accuracy, which we can formalize as:\n",
    "\n",
    "$$TrainingAccuracy = \\frac{nº of correct predictions}{nº of predictions}$$\n"
   ]
  },
  {
   "cell_type": "code",
   "execution_count": 52,
   "metadata": {},
   "outputs": [
    {
     "name": "stdout",
     "output_type": "stream",
     "text": [
      "Training accuracy = 0.6222222222222222\n"
     ]
    }
   ],
   "source": [
    "# The command logisticRegr.score(x_test, y_test) computes it for us\n",
    "acc_mean_E2 = logisticRegr.score(df[predictors], df[target])\n",
    "print('Training accuracy = {}'.format(acc_mean_E2))"
   ]
  },
  {
   "cell_type": "markdown",
   "metadata": {},
   "source": [
    "### E3. Logistic regression: Repeated K-fold cross validation"
   ]
  },
  {
   "cell_type": "markdown",
   "metadata": {},
   "source": [
    "As the name suggests, Repeated K-fold cross validation consists on applying K-fold cross validation but several times. In each time we shuffle the data randomly, so that we obtain unique folds for each cross validation. Finally, the accuracies and standard deviations calculated for each cross validation are averaged to give a final conclusive results. "
   ]
  },
  {
   "cell_type": "markdown",
   "metadata": {},
   "source": [
    "#### Build a function for Repeated K-fold cross validation"
   ]
  },
  {
   "cell_type": "code",
   "execution_count": 53,
   "metadata": {},
   "outputs": [],
   "source": [
    "# Function for REPEATED CROSS-VALIDATION\n",
    "\n",
    "def model_repeatedKfolds(predictors, target, K, n_repeats, model_type, result_type):\n",
    "    \"\"\"    \n",
    "    Parameters\n",
    "    ----------\n",
    "    predictors : array (n_observations, n_predictors)\n",
    "\n",
    "    target : array (n_observations)\n",
    "\n",
    "    K : int\n",
    "        number of folds of k-means cross validation\n",
    "\n",
    "    model_type : str\n",
    "        - logreg : logistic regression\n",
    "        - linear : linear discriminant analysis\n",
    "        - quadratic: quadratic discriminant analysis\n",
    "\n",
    "    result_type : str\n",
    "        Displays what kind of results to display\n",
    "        - on_trainset : displays mean accuracy and standard deviation calculated on the training set\n",
    "        - on_testset : displays mean test accuracy and standard deviation calculated on the training set\n",
    "    \"\"\"\n",
    "        \n",
    "    # split the data in all possible folds\n",
    "    kf = RepeatedKFold(n_splits=K, n_repeats=n_repeats, random_state=1)\n",
    "        \n",
    "    # define model\n",
    "    if model_type == 'linear':\n",
    "        model = LinearDiscriminantAnalysis()\n",
    "    elif model_type == 'quadratic':\n",
    "        model = QuadraticDiscriminantAnalysis()\n",
    "    elif model_type == 'logreg':\n",
    "        model = LogisticRegression()\n",
    "\n",
    "    # initialize lists to store results\n",
    "    train_acc = []\n",
    "    test_acc = []\n",
    "\n",
    "    # split the data\n",
    "    for train_index, test_index in kf.split(X=predictors,y=target):\n",
    "\n",
    "#       print('TRAIN:', train_index, 'TEST:', test_index)\n",
    "\n",
    "        if model_type == 'linear':\n",
    "            model = LinearDiscriminantAnalysis()\n",
    "        elif model_type == 'quadratic':\n",
    "            model = QuadraticDiscriminantAnalysis()\n",
    "        elif model_type == 'logreg':\n",
    "            model = LogisticRegression()\n",
    "            \n",
    "         # gather training set data\n",
    "        training_predictors = predictors.iloc[train_index]\n",
    "        training_targets = target.iloc[train_index]\n",
    "\n",
    "        # train the data\n",
    "        train_fit = model.fit(training_predictors,training_targets)\n",
    "\n",
    "        # score the model on the training data\n",
    "        train_acc.append(train_fit.score(training_predictors,training_targets))\n",
    "\n",
    "        # gather test set data\n",
    "        test_predictors = predictors.iloc[test_index]\n",
    "        test_targets = target.iloc[test_index]\n",
    "\n",
    "        # score the model on the test data\n",
    "        test_acc.append(model.score(test_predictors,test_targets))\n",
    "\n",
    "    # calculate mean and sd\n",
    "    mean_train = np.mean(train_acc)\n",
    "    sd_train = statistics.stdev(train_acc)\n",
    "    mean_test = np.mean(test_acc)\n",
    "    sd_test = statistics.stdev(test_acc)\n",
    "\n",
    "    if result_type == 'on_trainset':\n",
    "        print('Accuracy of k-means cross validation with {} folds on training data:'.format(K))\n",
    "        print('\\tmean = {}'.format(mean_train))\n",
    "        print('\\tstandard deviation = {}'.format(sd_train))\n",
    "    if result_type == 'on_testset':\n",
    "        print('{}: Accuracy of k-means cross validation with {} folds on test data:'.format(model_type, K))\n",
    "        print('\\tmean = {}'.format(mean_test))\n",
    "        print('\\tstandard deviation = {}'.format(sd_test))\n",
    "        \n",
    "    return mean_test, sd_test"
   ]
  },
  {
   "cell_type": "markdown",
   "metadata": {},
   "source": [
    "<p style=\"color:red\">You are re-fittig the same model again for every split. To make sure your results are valid, you have to reinitialize your model -1</p>"
   ]
  },
  {
   "cell_type": "markdown",
   "metadata": {},
   "source": [
    "#### Apply the function\n",
    "As we reduced the data to 90 observations, we decide to take K=9 instead of K=10 (as asked in the exercise). For some reason, we have seen that results are better when K=9, so when there are 10 observation per fold. Regarding the repeations, we decide that 10 is a good decision because doing more than 10 does not change the result significally."
   ]
  },
  {
   "cell_type": "code",
   "execution_count": 54,
   "metadata": {},
   "outputs": [
    {
     "name": "stdout",
     "output_type": "stream",
     "text": [
      "logreg: Accuracy of k-means cross validation with 10 folds on test data:\n",
      "\tmean = 0.5700000000000001\n",
      "\tstandard deviation = 0.15844282153736183\n"
     ]
    }
   ],
   "source": [
    "acc_mean_E3, acc_sd_E3 = model_repeatedKfolds(predictors=df[predictors], target=df[target], K=10, n_repeats=10, model_type='logreg', result_type='on_testset')"
   ]
  },
  {
   "cell_type": "markdown",
   "metadata": {},
   "source": [
    "In E2, we evaluated the accuracy of the model using the same observation that we used for training the model. Oppositely, in E3 we used repeated K-fold cross validation which gives a much more conclusive value for the accuracy because 1) the many iterations using different training sets and 2) the accuracy is being calculated from the test set, namely observations that were not used to train the model."
   ]
  },
  {
   "cell_type": "markdown",
   "metadata": {},
   "source": [
    "###  E4. Improve accuracy by dropping predictors"
   ]
  },
  {
   "cell_type": "markdown",
   "metadata": {},
   "source": [
    "To decide which predictor we could drop to improve the accuracy, we use the algorithm proposed in the presentation *Lecture3_IntroPredModeling, slide 17*."
   ]
  },
  {
   "cell_type": "markdown",
   "metadata": {},
   "source": [
    "#### 1. Calculate correlation matrix of all predictors"
   ]
  },
  {
   "cell_type": "code",
   "execution_count": 55,
   "metadata": {},
   "outputs": [
    {
     "data": {
      "text/plain": [
       "<matplotlib.axes._subplots.AxesSubplot at 0x265d0f33ef0>"
      ]
     },
     "execution_count": 55,
     "metadata": {},
     "output_type": "execute_result"
    },
    {
     "data": {
      "image/png": "[encoded data removed]",
      "text/plain": [
       "<Figure size 432x288 with 2 Axes>"
      ]
     },
     "metadata": {
      "needs_background": "light"
     },
     "output_type": "display_data"
    }
   ],
   "source": [
    "# Heat map\n",
    "sns.heatmap(df[predictors].corr()) #vmin=0, vmax=1)"
   ]
  },
  {
   "cell_type": "markdown",
   "metadata": {},
   "source": [
    "#### 2. Determine the most correlated predictors (call then A and B)\n",
    "#### 3. calculate the average correlation between A and all other predictors and same for B\n",
    "#### 4. remove the predictor with the largest average correlation\n",
    "#### 5. Repeat steps 2-4 until the most correlated predictors are below a threshold correlation"
   ]
  },
  {
   "cell_type": "markdown",
   "metadata": {},
   "source": [
    "Steps 2 to 5 are implemented in the next functions:\n",
    "\n",
    "<p style=\"color:red\">It would have been okay to choose predictors to remove b visual inspection. However this systematic approach is of course very nice.</p>"
   ]
  },
  {
   "cell_type": "code",
   "execution_count": 56,
   "metadata": {},
   "outputs": [],
   "source": [
    "def get_most_correlated_predictors(corr_matrix):\n",
    "    \n",
    "    predictor_A = ''\n",
    "    predictor_B = ''\n",
    "    most_correlation_value = 0\n",
    "    \n",
    "    for rowA in corr_matrix:\n",
    "        for i in range(len(corr_matrix[rowA])):       \n",
    "            if corr_matrix[rowA][i] > most_correlation_value and corr_matrix[rowA][i] != 1:\n",
    "                most_correlation_value = corr_matrix[rowA][i]\n",
    "                predictor_A = rowA\n",
    "                predictor_B = corr_matrix.columns[i]\n",
    "\n",
    "    return predictor_A, predictor_B, most_correlation_value\n",
    "\n",
    "def get_average_correlation_value(corr_matrix, predictor_A, predictor_B):  \n",
    "    \n",
    "    total_correlation_value_A = 0\n",
    "    total_correlation_value_B = 0\n",
    "    \n",
    "    for row in corr_matrix:\n",
    "        if predictor_A == row:\n",
    "            diff = 0\n",
    "            for i in range(len(corr_matrix[row])):                \n",
    "                diff = diff + corr_matrix[row][i]\n",
    "            total_correlation_value_A = total_correlation_value_A + diff/len(corr_matrix[row])\n",
    "\n",
    "        if predictor_B == row:\n",
    "            diff = 0\n",
    "            for i in range(len(corr_matrix[row])):                \n",
    "                diff = diff + corr_matrix[row][i]\n",
    "            total_correlation_value_B = total_correlation_value_B + diff/len(corr_matrix[row])\n",
    "\n",
    "    average_val_A = total_correlation_value_A\n",
    "    average_val_B = total_correlation_value_B\n",
    "    \n",
    "    return average_val_A, average_val_B\n",
    "\n",
    "def remove_correlated_predictors(corr_matrix):\n",
    "    \n",
    "    dropped_predictors = ''\n",
    "    left_predictors = ''\n",
    "    \n",
    "    predictor_A, predictor_B, most_correlation_value = get_most_correlated_predictors(corr_matrix)\n",
    "    \n",
    "    average_val_A, average_val_B = get_average_correlation_value(corr_matrix, predictor_A, predictor_B)\n",
    "    \n",
    "    print('\\nMost Correlated Predictors: {} - {}\\n'.format(predictor_A, predictor_B))\n",
    "    print('Most Correlated Predictors Value: {}\\n'.format(most_correlation_value))\n",
    "    print('Average Correlation Between Other Predictors for {}: {}\\n'.format(predictor_A, average_val_A))\n",
    "    print('Average Correlation Between Other Predictors for {}: {}\\n'.format(predictor_B, average_val_B))\n",
    "    \n",
    "    if average_val_A > average_val_B:    \n",
    "        dropped_predictors = predictor_A\n",
    "#         corr_matrix = corr_matrix.drop([5], axis=0)\n",
    "        corr_matrix = corr_matrix.drop([predictor_A], axis=1)\n",
    "        left_predictors = predictor_B\n",
    "    else:\n",
    "        dropped_predictors = predictor_B\n",
    "#         corr_matrix = corr_matrix.drop([5], axis=0)\n",
    "        corr_matrix = corr_matrix.drop([predictor_B], axis=1)\n",
    "        left_predictors = predictor_A\n",
    "    \n",
    "    print('Dropped Predictor: {}\\n'.format(dropped_predictors))\n",
    "    \n",
    "    \n",
    "    return left_predictors, dropped_predictors, most_correlation_value"
   ]
  },
  {
   "cell_type": "code",
   "execution_count": 57,
   "metadata": {},
   "outputs": [
    {
     "name": "stdout",
     "output_type": "stream",
     "text": [
      "\n",
      "Most Correlated Predictors: Theta - Alpha1\n",
      "\n",
      "Most Correlated Predictors Value: 0.9115573889473185\n",
      "\n",
      "Average Correlation Between Other Predictors for Theta: 0.6229573729222059\n",
      "\n",
      "Average Correlation Between Other Predictors for Alpha1: 0.6264410916499601\n",
      "\n",
      "Dropped Predictor: Alpha1\n",
      "\n",
      "\n",
      "Most Correlated Predictors: Delta - Theta\n",
      "\n",
      "Most Correlated Predictors Value: 0.8847176596087546\n",
      "\n",
      "Average Correlation Between Other Predictors for Delta: 0.5992693422900264\n",
      "\n",
      "Average Correlation Between Other Predictors for Theta: 0.5817287992043327\n",
      "\n",
      "Dropped Predictor: Delta\n",
      "\n",
      "Left predictors: Index(['Delta', 'Theta', 'Alpha2', 'Beta1', 'Beta2', 'Gamma1', 'Gamma2'], dtype='object')\n"
     ]
    }
   ],
   "source": [
    "sub_class = df[predictors]\n",
    "most_correlation_value = 1\n",
    "threshold = 0.90 # setting a threshold of correlations\n",
    "while True:    \n",
    "    corr_matrix =  sub_class.corr().abs()\n",
    "    left_predictors, dropped_predictors, most_correlation_value = remove_correlated_predictors(corr_matrix)\n",
    "    if most_correlation_value < threshold:\n",
    "        break\n",
    "    sub_class = sub_class.drop([dropped_predictors], axis=1)\n",
    "print('Left predictors: {}'.format(sub_class.columns))\n",
    "\n",
    "# Get the left predictors\n",
    "predictors_new = sub_class.columns"
   ]
  },
  {
   "cell_type": "markdown",
   "metadata": {},
   "source": [
    "Using that algorithm, the left predictors are: `['Delta', 'Theta', 'Alpha2', 'Beta1', 'Beta2', 'Gamma1', 'Gamma2']`"
   ]
  },
  {
   "cell_type": "code",
   "execution_count": 92,
   "metadata": {},
   "outputs": [
    {
     "name": "stdout",
     "output_type": "stream",
     "text": [
      "logreg: Accuracy of k-means cross validation with 9 folds on test data:\n",
      "\tmean = 0.5777777777777777\n",
      "\tstandard deviation = 0.12432087676452665\n"
     ]
    }
   ],
   "source": [
    "acc_mean_E4, acc_sd_E4 = model_repeatedKfolds(predictors=df[predictors_new], target=df[target], K=9, n_repeats=10, model_type='logreg', result_type='on_testset')"
   ]
  },
  {
   "cell_type": "markdown",
   "metadata": {},
   "source": [
    "<p style=\"color:red\">Comment on result missing -0.5</p>"
   ]
  },
  {
   "cell_type": "markdown",
   "metadata": {},
   "source": [
    "### E5. Does skewness correction of predictors improve accuracy?"
   ]
  },
  {
   "cell_type": "code",
   "execution_count": 59,
   "metadata": {},
   "outputs": [
    {
     "data": {
      "image/png": "[encoded data removed]",
      "text/plain": [
       "<Figure size 1080x864 with 8 Axes>"
      ]
     },
     "metadata": {
      "needs_background": "light"
     },
     "output_type": "display_data"
    }
   ],
   "source": [
    "# New DataFrame to save unskewed data\n",
    "df_unskewed = df.copy()\n",
    "\n",
    "# Box-Cox\n",
    "BC = np.zeros((90, len(predictors)))\n",
    "plt.figure(figsize=(15, 12))\n",
    "plt.suptitle('Skewness-corrected distributions', fontsize=16, y=1.02)\n",
    "for i in range(len(predictors)):\n",
    "    # Compute Box-Cox\n",
    "    predictor_i = df[predictors].columns[i]\n",
    "    lmbda_i = stats.boxcox_normmax(df[predictor_i])\n",
    "    BC[:,i] = boxcox1p(df[predictor_i], lmbda_i)\n",
    "    df_unskewed[predictor_i] = BC[:,i] \n",
    "    # skewness-corrected density distributions\n",
    "    plt.subplot(4,2,i+1)\n",
    "    sns.distplot(BC[:,i])\n",
    "    plt.title(df[predictors].columns[i])\n",
    "plt.subplots_adjust(top=0.97, bottom=0.08, left=0.10, right=0.95, hspace=0.7, wspace=0.35)"
   ]
  },
  {
   "cell_type": "markdown",
   "metadata": {},
   "source": [
    "All predictor distributions look properly unskewed."
   ]
  },
  {
   "cell_type": "code",
   "execution_count": 60,
   "metadata": {},
   "outputs": [
    {
     "name": "stdout",
     "output_type": "stream",
     "text": [
      "logreg: Accuracy of k-means cross validation with 9 folds on test data:\n",
      "\tmean = 0.6311111111111111\n",
      "\tstandard deviation = 0.1303792604694064\n"
     ]
    }
   ],
   "source": [
    "acc_mean_E5, acc_sd_E5 = model_repeatedKfolds(predictors=df_unskewed[predictors], target=df['ReportedConfusion'], K=9, n_repeats=10, model_type='logreg', result_type='on_testset')"
   ]
  },
  {
   "cell_type": "markdown",
   "metadata": {},
   "source": [
    "<p style=\"color:red\">Comment on result missing -0.5</p>"
   ]
  },
  {
   "cell_type": "markdown",
   "metadata": {},
   "source": [
    "## 2. Linear and quadratic discriminant analysis \n"
   ]
  },
  {
   "cell_type": "markdown",
   "metadata": {},
   "source": [
    "### E6. For skewed data"
   ]
  },
  {
   "cell_type": "code",
   "execution_count": 79,
   "metadata": {},
   "outputs": [
    {
     "name": "stdout",
     "output_type": "stream",
     "text": [
      "logreg: Accuracy of k-means cross validation with 9 folds on test data:\n",
      "\tmean = 0.5688888888888889\n",
      "\tstandard deviation = 0.13209159610965607\n",
      "linear: Accuracy of k-means cross validation with 9 folds on test data:\n",
      "\tmean = 0.6366666666666666\n",
      "\tstandard deviation = 0.13694089596889616\n",
      "quadratic: Accuracy of k-means cross validation with 9 folds on test data:\n",
      "\tmean = 0.5777777777777778\n",
      "\tstandard deviation = 0.14593963487933667\n"
     ]
    }
   ],
   "source": [
    "_, _ = model_repeatedKfolds(predictors=df[predictors], target=df[target], K=9, n_repeats=10, model_type='logreg', result_type='on_testset')\n",
    "acc_mean_E6_linear, acc_sd_E6_linear = model_repeatedKfolds(predictors=df[predictors], target=df[target], K=9, n_repeats=10, model_type='linear', result_type='on_testset')\n",
    "acc_mean_E6_quadratic, acc_sd_E6_quadratic = model_repeatedKfolds(predictors=df[predictors], target=df[target], K=9, n_repeats=10, model_type='quadratic', result_type='on_testset')"
   ]
  },
  {
   "cell_type": "markdown",
   "metadata": {},
   "source": [
    "Comparing the means, we conclude that LDA (Linear Discriminant Analysis) is giving the best accuracy. Next comes Logistic Regression. The last and worst with much difference is the QDA (Quadratic Discriminant Analysis).\n",
    "\n",
    "<p style=\"color:red\">Differences between LDA/QDA and LDA/LR? Which method would you prefer? -1</p>"
   ]
  },
  {
   "cell_type": "markdown",
   "metadata": {},
   "source": [
    "### E7. For unskewed data"
   ]
  },
  {
   "cell_type": "code",
   "execution_count": 81,
   "metadata": {},
   "outputs": [
    {
     "name": "stdout",
     "output_type": "stream",
     "text": [
      "logreg: Accuracy of k-means cross validation with 9 folds on test data:\n",
      "\tmean = 0.6311111111111111\n",
      "\tstandard deviation = 0.1303792604694064\n",
      "linear: Accuracy of k-means cross validation with 9 folds on test data:\n",
      "\tmean = 0.6844444444444444\n",
      "\tstandard deviation = 0.1331646873519893\n",
      "quadratic: Accuracy of k-means cross validation with 9 folds on test data:\n",
      "\tmean = 0.5233333333333333\n",
      "\tstandard deviation = 0.16628795925519813\n"
     ]
    }
   ],
   "source": [
    "_, _ = model_repeatedKfolds(predictors=df_unskewed[predictors], target=df[target], K=9, n_repeats=10, model_type='logreg', result_type='on_testset')\n",
    "acc_mean_E7_linear, acc_sd_E7_linear = model_repeatedKfolds(predictors=df_unskewed[predictors], target=df[target], K=9, n_repeats=10, model_type='linear', result_type='on_testset')\n",
    "acc_mean_E7_quadratic, acc_sd_E7_quadratic = model_repeatedKfolds(predictors=df_unskewed[predictors], target=df[target], K=9, n_repeats=10, model_type='quadratic', result_type='on_testset')"
   ]
  },
  {
   "cell_type": "markdown",
   "metadata": {},
   "source": [
    "Using the unskewed data to train our models improve the accuracy for the Logistic Regression and for LDA. Opposielly, the QDA accuracy gets worse."
   ]
  },
  {
   "cell_type": "markdown",
   "metadata": {},
   "source": [
    "## 3. Better preprocessing makes a better classifier"
   ]
  },
  {
   "cell_type": "markdown",
   "metadata": {},
   "source": [
    "### E8. Base-line correction"
   ]
  },
  {
   "cell_type": "code",
   "execution_count": 63,
   "metadata": {},
   "outputs": [
    {
     "name": "stderr",
     "output_type": "stream",
     "text": [
      "C:\\Users\\guill\\Anaconda3\\lib\\site-packages\\ipykernel_launcher.py:25: SettingWithCopyWarning: \n",
      "A value is trying to be set on a copy of a slice from a DataFrame.\n",
      "Try using .loc[row_indexer,col_indexer] = value instead\n",
      "\n",
      "See the caveats in the documentation: http://pandas.pydata.org/pandas-docs/stable/indexing.html#indexing-view-versus-copy\n"
     ]
    }
   ],
   "source": [
    "data_bc_raw = df.copy()\n",
    "data_bc = pd.DataFrame()\n",
    "\n",
    "predictors = ['Delta', 'Theta', 'Alpha1', 'Alpha2', 'Beta1', 'Beta2', 'Gamma1', 'Gamma2']\n",
    "# apply baseline correction\n",
    "for (SubjectID), subjectdata in data_bc_raw.groupby(('SubjectID')): # first by subject\n",
    "    for i in predictors:\n",
    "        mean = np.mean(subjectdata[i]) # then by predictor\n",
    "        subjectdata[i] = subjectdata[i] - mean\n",
    "    data_bc = pd.concat([data_bc,subjectdata],ignore_index=True)\n",
    "\n",
    "x_data_bc = data_bc[predictors]"
   ]
  },
  {
   "cell_type": "code",
   "execution_count": 75,
   "metadata": {},
   "outputs": [
    {
     "name": "stdout",
     "output_type": "stream",
     "text": [
      "Logistic regression on baseline corrected data\n",
      "logreg: Accuracy of k-means cross validation with 10 folds on test data:\n",
      "\tmean = 0.8555555555555556\n",
      "\tstandard deviation = 0.1238489842272695\n",
      "\n",
      "Linear discriminant analysis on baseline corrected data\n",
      "linear: Accuracy of k-means cross validation with 10 folds on test data:\n",
      "\tmean = 0.8588888888888887\n",
      "\tstandard deviation = 0.1158958556540107\n",
      "\n",
      "Quadratic discriminant analysis on baseline corrected data\n",
      "quadratic: Accuracy of k-means cross validation with 10 folds on test data:\n",
      "\tmean = 0.7888888888888889\n",
      "\tstandard deviation = 0.13070740029482608\n"
     ]
    }
   ],
   "source": [
    "print('Logistic regression on baseline corrected data')\n",
    "acc_mean_E8_logreg, acc_sd_E8_logreg = model_repeatedKfolds(predictors=x_data_bc, target=data['ReportedConfusion'], K=10, n_repeats=10, model_type='logreg', result_type='on_testset')\n",
    "print('\\nLinear discriminant analysis on baseline corrected data')\n",
    "acc_mean_E8_linear, acc_sd_E8_linear = model_repeatedKfolds(predictors=x_data_bc, target=data['ReportedConfusion'], K=10, n_repeats=10, model_type='linear', result_type='on_testset')\n",
    "print('\\nQuadratic discriminant analysis on baseline corrected data')\n",
    "acc_mean_E8_quadratic, acc_sd_E8_quadratic = model_repeatedKfolds(predictors=x_data_bc, target=data['ReportedConfusion'], K=10, n_repeats=10, model_type='quadratic', result_type='on_testset')"
   ]
  },
  {
   "cell_type": "markdown",
   "metadata": {},
   "source": [
    "Correcting the base-line improves the accuracy significantly."
   ]
  },
  {
   "cell_type": "markdown",
   "metadata": {},
   "source": [
    "### E9. Summary"
   ]
  },
  {
   "cell_type": "code",
   "execution_count": 97,
   "metadata": {},
   "outputs": [
    {
     "name": "stdout",
     "output_type": "stream",
     "text": [
      "\u001b[1m                                  Model                              Predictors   PredAcc   PredAccSD\u001b[0m\n",
      "------------------------------------------------------------------------------------------------------------------\n",
      "    1      Logistic regression training                   All 8 EEG power bands     0.622           -\n",
      "    2    Logistic regression 10-fold CV                   All 8 EEG power bands      0.57       0.158\n",
      "    3               Logistic regression                          Removed Alpha1     0.578       0.124\n",
      "    4    Logistic regression 10-fold CV          All 8 EEG power bands unskewed     0.631        0.13\n",
      "    5      Linear Discriminant Analysis                   All 8 EEG power bands     0.637       0.137\n",
      "    6   Quadratic Discriminant Analysis                   All 8 EEG power bands     0.578       0.146\n",
      "    7      Linear Discriminant Analysis          All 8 EEG power bands unskewed     0.684       0.133\n",
      "    8   Quadratic Discriminant Analysis          All 8 EEG power bands unskewed     0.523       0.166\n",
      "    9               Logistic regression   All 8 EEG power bands mean subtracted     0.856       0.124\n",
      "   10      Linear Discriminant Analysis   All 8 EEG power bands mean subtracted     0.859       0.116\n",
      "   11   Quadratic Discriminant Analysis   All 8 EEG power bands mean subtracted     0.789       0.131\n"
     ]
    }
   ],
   "source": [
    "class color:\n",
    "    BOLD = '\\033[1m'\n",
    "    END = '\\033[0m'\n",
    "\n",
    "table = [\n",
    "    [\"\", \"Model\", \"Predictors\", \"PredAcc\", \"PredAccSD\"],\n",
    "    [\"1\", 'Logistic regression training', 'All 8 EEG power bands', round(acc_mean_E2,3), '-'],\n",
    "    [\"2\", 'Logistic regression 10-fold CV', 'All 8 EEG power bands', round(acc_mean_E3,3), round(acc_sd_E3,3)],\n",
    "    [\"3\", 'Logistic regression', 'Removed Alpha1', round(acc_mean_E4,3),  round(acc_sd_E4,3)],\n",
    "    [\"4\", 'Logistic regression 10-fold CV', 'All 8 EEG power bands unskewed', round(acc_mean_E5,3),  round(acc_sd_E5,3)],\n",
    "    [\"5\", 'Linear Discriminant Analysis', 'All 8 EEG power bands', round(acc_mean_E6_linear,3),  round(acc_sd_E6_linear,3)],\n",
    "    [\"6\", 'Quadratic Discriminant Analysis', 'All 8 EEG power bands', round(acc_mean_E6_quadratic,3),  round(acc_sd_E6_quadratic,3)],\n",
    "    [\"7\", 'Linear Discriminant Analysis', 'All 8 EEG power bands unskewed', round(acc_mean_E7_linear,3),  round(acc_sd_E7_linear,3)],\n",
    "    [\"8\", 'Quadratic Discriminant Analysis', 'All 8 EEG power bands unskewed', round(acc_mean_E7_quadratic,3),  round(acc_sd_E7_quadratic,3)],\n",
    "    [\"9\", 'Logistic regression', 'All 8 EEG power bands mean subtracted', round(acc_mean_E8_logreg,3),  round(acc_sd_E8_logreg,3)],\n",
    "    [\"10\", 'Linear Discriminant Analysis', 'All 8 EEG power bands mean subtracted', round(acc_mean_E8_linear,3),  round(acc_sd_E8_linear,3)],\n",
    "    [\"11\", 'Quadratic Discriminant Analysis', 'All 8 EEG power bands mean subtracted', round(acc_mean_E8_quadratic,3),  round(acc_sd_E8_quadratic,3)],\n",
    "]\n",
    "def print_table(table):\n",
    "    longest_cols = [\n",
    "        (max([len(str(row[i])) for row in table]) + 3)\n",
    "        for i in range(len(table[0]))\n",
    "    ]\n",
    "    row_format = \"\".join([\"{:>\" + str(longest_col) + \"}\" for longest_col in longest_cols])\n",
    "    i = 0\n",
    "    for row in table:\n",
    "        if i == 0:\n",
    "            print(color.BOLD + row_format.format(*row) + color.END)\n",
    "            print('------------------------------------------------------------------------------------------------------------------')\n",
    "        else:\n",
    "            print(row_format.format(*row))\n",
    "        i = i +1\n",
    "    \n",
    "print_table(table)"
   ]
  },
  {
   "cell_type": "markdown",
   "metadata": {},
   "source": [
    "QUESTIONS:\n",
    "\n",
    "Is it really correct to compute accuracy using the training set? We are asked to do so in E2 because we use all the data for training and then we're not left with any data to test.\n",
    "\n",
    "<p style=\"color:red\">E2 was just to show that testing on your training set is not a good idea. When using k-fold cross validation training/test splits are done right</p>"
   ]
  },
  {
   "cell_type": "code",
   "execution_count": null,
   "metadata": {},
   "outputs": [],
   "source": []
  }
 ],
 "metadata": {
  "kernelspec": {
   "display_name": "Python 3",
   "language": "python",
   "name": "python3"
  },
  "language_info": {
   "codemirror_mode": {
    "name": "ipython",
    "version": 3
   },
   "file_extension": ".py",
   "mimetype": "text/x-python",
   "name": "python",
   "nbconvert_exporter": "python",
   "pygments_lexer": "ipython3",
   "version": "3.7.1"
  }
 },
 "nbformat": 4,
 "nbformat_minor": 2
}
