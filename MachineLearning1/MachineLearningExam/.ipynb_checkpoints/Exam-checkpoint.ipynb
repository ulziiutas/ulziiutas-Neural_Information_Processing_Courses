{
 "cells": [
  {
   "cell_type": "code",
   "execution_count": 141,
   "metadata": {},
   "outputs": [],
   "source": [
    "# SETUP\n",
    "import pandas as pd\n",
    "import numpy as np\n",
    "\n",
    "# Performance metrics\n",
    "from sklearn.metrics import cohen_kappa_score\n",
    "from sklearn import metrics\n",
    "from scipy import interp\n",
    "from scipy import stats\n",
    "from sklearn.metrics import roc_curve, auc\n",
    "\n",
    "# Clustering\n",
    "from sklearn.cluster import KMeans\n",
    "from sklearn.mixture import GaussianMixture\n",
    "\n",
    "# Visualization\n",
    "import matplotlib.pyplot as plt\n",
    "import seaborn as sns\n",
    "\n",
    "#time measurement\n",
    "import time\n",
    "import statistics\n",
    "import random\n",
    "\n",
    "import warnings\n",
    "warnings.filterwarnings(\"ignore\")"
   ]
  },
  {
   "cell_type": "code",
   "execution_count": 74,
   "metadata": {},
   "outputs": [],
   "source": [
    "# Function to plot tables\n",
    "class color:\n",
    "   BOLD = '\\033[1m'\n",
    "   END = '\\033[0m'\n",
    "  \n",
    "def print_table(table):\n",
    "    longest_cols = [\n",
    "        (max([len(str(row[i])) for row in table]) + 3)\n",
    "        for i in range(len(table[0]))\n",
    "    ]\n",
    "    row_format = \"\".join([\"{:>\" + str(longest_col) + \"}\" for longest_col in longest_cols])\n",
    "    i = 0\n",
    "    for row in table:\n",
    "        if i == 0:\n",
    "            print(color.BOLD + row_format.format(*row) + color.END)\n",
    "            print('------------------------------------------------------------------------------------------------------------------')\n",
    "        else:\n",
    "            print(row_format.format(*row))\n",
    "        i = i +1"
   ]
  },
  {
   "cell_type": "markdown",
   "metadata": {},
   "source": [
    "## KM1"
   ]
  },
  {
   "cell_type": "code",
   "execution_count": 75,
   "metadata": {
    "scrolled": true
   },
   "outputs": [
    {
     "name": "stdout",
     "output_type": "stream",
     "text": [
      "Number of confused cases:  46\n",
      "Number of not_confused cases:  14\n"
     ]
    }
   ],
   "source": [
    "df_raw = pd.read_csv('Narantsatsralt.csv')\n",
    "number_of_confused = len(df_raw[df_raw['ReportedConfusion'] == 'confused'])\n",
    "number_of_not_confused = len(df_raw[df_raw['ReportedConfusion'] == 'not_confused'])\n",
    "print('Number of confused cases: ', number_of_confused)\n",
    "print('Number of not_confused cases: ', number_of_not_confused)"
   ]
  },
  {
   "cell_type": "code",
   "execution_count": 76,
   "metadata": {},
   "outputs": [
    {
     "name": "stdout",
     "output_type": "stream",
     "text": [
      "   ReportedConfusion  LowFreqPower  HighFreqPower\n",
      "0           confused      0.112493       0.184738\n",
      "1           confused     -0.538920      -0.284823\n",
      "2           confused      1.308412       0.722058\n",
      "3           confused      0.657952      -1.801148\n",
      "4           confused      1.436306       0.017357\n",
      "5           confused     -0.194337      -0.203108\n",
      "6           confused      0.451434      -0.321535\n",
      "7           confused      2.519289       0.840834\n",
      "8           confused     -0.470356       0.033968\n",
      "9           confused     -0.315644      -0.477875\n",
      "10          confused     -0.273145       1.786406\n",
      "11          confused     -0.287039       0.476569\n",
      "12          confused     -0.297759       0.260180\n",
      "13          confused     -0.362227      -0.584355\n",
      "14          confused      1.080594       0.336746\n",
      "15          confused      0.544715      -0.296655\n",
      "16          confused      0.220891      -0.697793\n",
      "17          confused     -0.318983      -0.622566\n",
      "18          confused      1.460358       1.043715\n",
      "19          confused      0.083930       1.033991\n",
      "20          confused     -0.554498      -0.809350\n",
      "21          confused      0.380818       0.171202\n",
      "22          confused     -0.176907      -0.603084\n",
      "23          confused     -0.006603       0.350475\n",
      "24          confused     -0.154077       0.206271\n",
      "25          confused     -0.043621       0.184295\n",
      "26          confused      0.192724       0.491454\n",
      "27          confused      1.252024      -0.554037\n",
      "28          confused      0.150011       0.580620\n",
      "29          confused      1.004121       0.799111\n",
      "30          confused      0.757141      -0.378581\n",
      "31          confused     -0.321669       1.973605\n",
      "32          confused      1.205634      -1.372674\n",
      "33          confused      1.925778      -2.442393\n",
      "34          confused     -1.267915      -0.354619\n",
      "35          confused      1.833726      -0.477858\n",
      "36          confused     -0.381446       1.388493\n",
      "37          confused      0.724332      -0.223851\n",
      "38          confused      1.749701       0.885915\n",
      "39          confused      0.456102       1.368143\n",
      "40          confused      0.927163      -0.620563\n",
      "41          confused      0.249112      -0.240439\n",
      "42          confused     -0.373888       0.175412\n",
      "43          confused     -0.156036      -0.612316\n",
      "44          confused      0.267690       3.415931\n",
      "45          confused      0.395584       2.711229\n",
      "46      not_confused     -0.690669      -0.239671\n",
      "47      not_confused     -0.791465      -0.326182\n",
      "48      not_confused     -0.995250       0.112182\n",
      "49      not_confused     -1.558734       0.113106\n",
      "50      not_confused     -0.996841      -0.201283\n",
      "51      not_confused     -1.949019      -0.904894\n",
      "52      not_confused     -1.768346      -0.367612\n",
      "53      not_confused     -1.957040      -0.032420\n",
      "54      not_confused     -1.890230      -1.075355\n",
      "55      not_confused     -0.519276      -1.773745\n",
      "56      not_confused     -1.158715      -0.529737\n",
      "57      not_confused     -0.779809      -0.607232\n",
      "58      not_confused     -0.370238      -0.796429\n",
      "59      not_confused     -1.427330      -0.829827\n"
     ]
    }
   ],
   "source": [
    "print(df_raw)"
   ]
  },
  {
   "cell_type": "markdown",
   "metadata": {},
   "source": [
    "## KM2"
   ]
  },
  {
   "cell_type": "code",
   "execution_count": 77,
   "metadata": {},
   "outputs": [],
   "source": [
    "def dist(x1, x2, y1, y2):\n",
    "    return np.sqrt(np.power((x1 - x2), 2) + np.power((y1 - y2), 2))"
   ]
  },
  {
   "cell_type": "code",
   "execution_count": 107,
   "metadata": {},
   "outputs": [],
   "source": [
    "def k_means(LowFreqPower, HighFreqPower):\n",
    "    center_1 = random.randint(0,59)\n",
    "    center_2 = random.randint(0,59)\n",
    "\n",
    "    center_1_pos_low = LowFreqPower[center_1]\n",
    "    center_1_pos_high = HighFreqPower[center_1]\n",
    "\n",
    "    center_2_pos_low = LowFreqPower[center_2]\n",
    "    center_2_pos_high = HighFreqPower[center_2]\n",
    "\n",
    "    classification = np.zeros(60)\n",
    "\n",
    "    for i in range(60):\n",
    "        dist_1 = dist(LowFreqPower[i], center_1_pos_low, HighFreqPower[i], center_1_pos_high)\n",
    "        dist_2 = dist(LowFreqPower[i], center_2_pos_low, HighFreqPower[i], center_2_pos_high)\n",
    "\n",
    "        if dist_1 < dist_2:\n",
    "            classification[i] = 1\n",
    "        else:\n",
    "            classification[i] = 0\n",
    "    cost_new = 100\n",
    "    j = 0\n",
    "    while 0 != cost_new and j < 1000:\n",
    "\n",
    "        center_1_sum_low = 0\n",
    "        center_1_sum_high = 0\n",
    "\n",
    "        c1_len = 0\n",
    "\n",
    "        center_2_sum_low = 0\n",
    "        center_2_sum_high = 0\n",
    "\n",
    "        c2_len = 0\n",
    "\n",
    "        for i in range(60):\n",
    "\n",
    "            center_1_sum_low = center_1_sum_low + LowFreqPower[i] * classification[i]\n",
    "            center_1_sum_high = center_1_sum_high + HighFreqPower[i] * classification[i]\n",
    "\n",
    "\n",
    "            center_2_sum_low = center_2_sum_low + LowFreqPower[i] * (1 - classification[i])\n",
    "            center_2_sum_high = center_2_sum_high + HighFreqPower[i] * (1 - classification[i])\n",
    "\n",
    "            if classification[i] == 1:\n",
    "                c1_len = c1_len + 1\n",
    "            else:            \n",
    "                c2_len = c2_len + 1\n",
    "\n",
    "        center_1_pos_low = center_1_sum_low / c1_len\n",
    "        center_1_pos_high = center_1_sum_high / c1_len\n",
    "\n",
    "        center_2_pos_low = center_2_sum_low / c2_len\n",
    "        center_2_pos_high = center_2_sum_high / c2_len\n",
    "\n",
    "        error_val = 0\n",
    "\n",
    "        for i in range(60):\n",
    "            dist_1 = dist(LowFreqPower[i], center_1_pos_low, HighFreqPower[i], center_1_pos_high)\n",
    "            dist_2 = dist(LowFreqPower[i], center_2_pos_low, HighFreqPower[i], center_2_pos_high)\n",
    "\n",
    "            if dist_1 < dist_2:\n",
    "                if classification[i] != 1:\n",
    "                    error_val = error_val + 1\n",
    "                classification[i] = 1\n",
    "            else:\n",
    "                if classification[i] != 0:\n",
    "                    error_val = error_val + 1\n",
    "                classification[i] = 0\n",
    "        cost_new = error_val\n",
    "        j = j + 1\n",
    "        print('Error from the last iteration: ', error_val)\n",
    "        \n",
    "    return classification, center_1_pos_low, center_1_pos_high, center_2_pos_low, center_2_pos_high"
   ]
  },
  {
   "cell_type": "code",
   "execution_count": 120,
   "metadata": {},
   "outputs": [
    {
     "name": "stdout",
     "output_type": "stream",
     "text": [
      "Error from the last iteration:  5\n",
      "Error from the last iteration:  4\n",
      "Error from the last iteration:  1\n",
      "Error from the last iteration:  2\n",
      "Error from the last iteration:  2\n",
      "Error from the last iteration:  0\n"
     ]
    }
   ],
   "source": [
    "LowFreqPower = np.array(df_raw['LowFreqPower'])\n",
    "HighFreqPower = np.array(df_raw['HighFreqPower'])\n",
    "classification, center_1_pos_low, center_1_pos_high, center_2_pos_low, center_2_pos_high = k_means(LowFreqPower, HighFreqPower)"
   ]
  },
  {
   "cell_type": "code",
   "execution_count": 121,
   "metadata": {},
   "outputs": [
    {
     "data": {
      "image/png": "[encoded data removed]",
      "text/plain": [
       "<Figure size 1440x1152 with 2 Axes>"
      ]
     },
     "metadata": {
      "needs_background": "light"
     },
     "output_type": "display_data"
    }
   ],
   "source": [
    "classification_1_low = []\n",
    "classification_1_high = []\n",
    "\n",
    "classification_2_low = []\n",
    "classification_2_high = []\n",
    "\n",
    "for i in range(60):\n",
    "    if classification[i] == 0:\n",
    "        classification_1_low.append(LowFreqPower[i])\n",
    "        classification_1_high.append(HighFreqPower[i])\n",
    "    else:\n",
    "        classification_2_low.append(LowFreqPower[i])\n",
    "        classification_2_high.append(HighFreqPower[i])\n",
    "        \n",
    "reported_conf_1_low = []\n",
    "reported_conf_1_high = []\n",
    "\n",
    "reported_conf_2_low = []\n",
    "reported_conf_2_high = []\n",
    "\n",
    "for i in range(60):\n",
    "    if df_raw['ReportedConfusion'][i] == 'confused':\n",
    "        reported_conf_1_low.append(LowFreqPower[i])\n",
    "        reported_conf_1_high.append(HighFreqPower[i])\n",
    "        \n",
    "    else:\n",
    "        reported_conf_2_low.append(LowFreqPower[i])\n",
    "        reported_conf_2_high.append(HighFreqPower[i])\n",
    "\n",
    "plt.figure(figsize=(20, 16))\n",
    "plt.suptitle('Comparison of Reported Confusion and K-means clustering', fontsize=30)\n",
    "\n",
    "\n",
    "plt.subplot(2,2,1)\n",
    "    \n",
    "plt.scatter(reported_conf_1_low, reported_conf_1_high, label = 'Classification-confused')\n",
    "plt.scatter(reported_conf_2_low, reported_conf_2_high, label = 'Classification-not_confused')\n",
    "plt.title('Reported Confusion Classification (Ground Truth)', fontsize=20)\n",
    "plt.xlabel(r'LowFreqPower', fontsize=16)\n",
    "plt.ylabel(r'HighFreqPower', fontsize=16)\n",
    "plt.legend(loc='best')\n",
    "\n",
    "plt.subplot(2,2,2)\n",
    "plt.scatter(classification_1_low, classification_1_high, label = 'Classification-confused')\n",
    "plt.scatter(classification_2_low, classification_2_high, label = 'Classification-not_confused')\n",
    "plt.scatter([center_2_pos_low],[center_2_pos_high], label = 'Center of confused')\n",
    "plt.scatter([center_1_pos_low],[center_1_pos_high], label = 'Center of not_ confused')\n",
    "plt.title('K-means clustering', fontsize=20)\n",
    "plt.xlabel(r'LowFreqPower', fontsize=16)\n",
    "plt.ylabel(r'HighFreqPower', fontsize=16)\n",
    "plt.legend(loc='best')\n",
    "\n",
    "plt.subplots_adjust(top=0.89, bottom=0.08, left=0.05, right=0.95, hspace=0.40, wspace=0.35)\n",
    "plt.show()    "
   ]
  },
  {
   "cell_type": "markdown",
   "metadata": {},
   "source": [
    "## KM3"
   ]
  },
  {
   "cell_type": "code",
   "execution_count": 122,
   "metadata": {},
   "outputs": [],
   "source": [
    "km_tp = 0\n",
    "km_fp = 0\n",
    "km_fn = 0\n",
    "km_tn = 0\n",
    "\n",
    "for i in range(60):\n",
    "    if classification[i] == 0:\n",
    "        if 'confused' == df_raw['ReportedConfusion'][i]:\n",
    "            km_tp = km_tp + 1\n",
    "        else:\n",
    "            km_fp = km_fp + 1\n",
    "    else:\n",
    "        if 'not_confused' == df_raw['ReportedConfusion'][i]:\n",
    "            km_tn = km_tn + 1\n",
    "        else:\n",
    "            km_fn = km_fn + 1"
   ]
  },
  {
   "cell_type": "code",
   "execution_count": 123,
   "metadata": {},
   "outputs": [
    {
     "name": "stdout",
     "output_type": "stream",
     "text": [
      "\u001b[1m                             DATA CONFUSED   DATA NOT_CONFUSED\u001b[0m\n",
      "------------------------------------------------------------------------------------------------------------------\n",
      "       PREDICTION CONFUSED              17                   0\n",
      "   PREDICTION NOT_CONFUSED              29                  14\n"
     ]
    }
   ],
   "source": [
    "table = [\n",
    "    [\"\", \"DATA CONFUSED\", \"DATA NOT_CONFUSED\"],\n",
    "    [\"PREDICTION CONFUSED\", km_tp, km_fp],\n",
    "    [\"PREDICTION NOT_CONFUSED\", km_fn, km_tn]\n",
    "]\n",
    "print_table(table)"
   ]
  },
  {
   "cell_type": "markdown",
   "metadata": {},
   "source": [
    "## KM4"
   ]
  },
  {
   "cell_type": "code",
   "execution_count": 124,
   "metadata": {},
   "outputs": [],
   "source": [
    "KM3_accuracy = (km_tp + km_tn)/(km_tp + km_fn + km_fp + km_tn)"
   ]
  },
  {
   "cell_type": "code",
   "execution_count": 125,
   "metadata": {},
   "outputs": [],
   "source": [
    "classification_cn = []\n",
    "for i in range (len(classification)):\n",
    "    if classification[i] == 0:\n",
    "        classification_cn.append('confused')\n",
    "    else:\n",
    "        classification_cn.append('not_confused')"
   ]
  },
  {
   "cell_type": "code",
   "execution_count": 126,
   "metadata": {},
   "outputs": [
    {
     "name": "stdout",
     "output_type": "stream",
     "text": [
      "\n",
      "Accuracy FOR K-means clustering:  0.5166666666666667\n",
      "\n",
      "Cohen Kappa FOR K-means clustering:  0.21480144404332135\n",
      "\n",
      "Sensitivity FOR K-means clustering(Confused clustered accuracy):  0.3695652173913043\n",
      "\n",
      "Specifity FOR K-means clustering (Not_Confused clustered accuracy):  1.0\n"
     ]
    }
   ],
   "source": [
    "km_cohen_kappa = cohen_kappa_score(df_raw['ReportedConfusion'], classification_cn)\n",
    "\n",
    "\n",
    "print('\\nAccuracy FOR K-means clustering: ', KM3_accuracy)\n",
    "print('\\nCohen Kappa FOR K-means clustering: ', km_cohen_kappa)\n",
    "\n",
    "KM3_sensitivity = km_tp / (km_tp + km_fn)\n",
    "\n",
    "KM3_specifity = km_tn / (km_tn + km_fp)\n",
    "\n",
    "print('\\nSensitivity FOR K-means clustering(Confused clustered accuracy): ', KM3_sensitivity)\n",
    "print('\\nSpecifity FOR K-means clustering (Not_Confused clustered accuracy): ', KM3_specifity)\n",
    "\n"
   ]
  },
  {
   "cell_type": "markdown",
   "metadata": {},
   "source": [
    "As, we can see the Not_Confused has clustered wit h100 percent accuracy but confused has been classified with 69 percent wich is low because almost half has been clustered with the not_confused. Even though, we have good clustering of not_confused, we have low accuracy because of many wrongly clustered confused data points."
   ]
  },
  {
   "cell_type": "markdown",
   "metadata": {},
   "source": [
    "## GMM1"
   ]
  },
  {
   "cell_type": "code",
   "execution_count": 127,
   "metadata": {},
   "outputs": [],
   "source": [
    "gmm = GaussianMixture(n_components=2).fit(df_raw[['LowFreqPower', 'HighFreqPower']])\n",
    "labels = gmm.predict(df_raw[['LowFreqPower', 'HighFreqPower']])\n",
    "\n",
    "clustering_confused_low = []\n",
    "clustering_confused_high = []\n",
    "      \n",
    "      \n",
    "clustering_notconfused_low = []\n",
    "clustering_notconfused_high = []\n",
    "\n",
    "for i in range(60):\n",
    "    if labels[i] == 0:\n",
    "        clustering_confused_low.append(df_raw['LowFreqPower'][i])\n",
    "        clustering_confused_high.append(df_raw['HighFreqPower'][i])\n",
    "    if labels[i] == 1:\n",
    "        clustering_notconfused_low.append(df_raw['LowFreqPower'][i])\n",
    "        clustering_notconfused_high.append(df_raw['HighFreqPower'][i])\n",
    "      \n",
    "center_confused_low = sum(clustering_confused_low) / len(clustering_confused_low)\n",
    "center_confused_high = sum(clustering_confused_high) / len(clustering_confused_high)\n",
    "      \n",
    "center_notconfused_low = sum(clustering_notconfused_low) / len(clustering_notconfused_low)\n",
    "center_notconfused_high = sum(clustering_notconfused_high) / len(clustering_notconfused_high)"
   ]
  },
  {
   "cell_type": "code",
   "execution_count": 128,
   "metadata": {},
   "outputs": [
    {
     "data": {
      "image/png": "[encoded data removed]",
      "text/plain": [
       "<Figure size 1440x1152 with 2 Axes>"
      ]
     },
     "metadata": {
      "needs_background": "light"
     },
     "output_type": "display_data"
    }
   ],
   "source": [
    "\n",
    "plt.figure(figsize=(20, 16))\n",
    "plt.suptitle('Comparison of Reported Confusion and K-means clustering', fontsize=30)\n",
    "\n",
    "\n",
    "plt.subplot(2,2,1)\n",
    "    \n",
    "plt.scatter(reported_conf_1_low, reported_conf_1_high, label = 'Classification-confused')\n",
    "plt.scatter(reported_conf_2_low, reported_conf_2_high, label = 'Classification-not_confused')\n",
    "plt.title('Reported Confusion Classification (Ground Truth)', fontsize=20)\n",
    "plt.xlabel(r'LowFreqPower', fontsize=16)\n",
    "plt.ylabel(r'HighFreqPower', fontsize=16)\n",
    "plt.legend(loc='best')\n",
    "\n",
    "plt.subplot(2,2,2)\n",
    "plt.scatter(clustering_confused_low, clustering_confused_high, label = 'Classification-confused')\n",
    "plt.scatter(clustering_notconfused_low, clustering_notconfused_high, label = 'Classification-not_confused')\n",
    "plt.scatter([center_confused_low],[center_confused_high], label = 'Center of confused')\n",
    "plt.scatter([center_notconfused_low],[center_notconfused_high], label = 'Center of not_confused')\n",
    "plt.title('GMM clustering', fontsize=20)\n",
    "plt.xlabel(r'LowFreqPower', fontsize=16)\n",
    "plt.ylabel(r'HighFreqPower', fontsize=16)\n",
    "plt.legend(loc='best')\n",
    "\n",
    "plt.subplots_adjust(top=0.89, bottom=0.08, left=0.05, right=0.95, hspace=0.40, wspace=0.35)\n",
    "plt.show()    "
   ]
  },
  {
   "cell_type": "markdown",
   "metadata": {},
   "source": [
    "## GMM2"
   ]
  },
  {
   "cell_type": "code",
   "execution_count": 129,
   "metadata": {},
   "outputs": [],
   "source": [
    "gmm_tp = 0\n",
    "gmm_fp = 0\n",
    "gmm_fn = 0\n",
    "gmm_tn = 0\n",
    "\n",
    "for i in range(60):\n",
    "    if labels[i] == 0:\n",
    "        if 'confused' == df_raw['ReportedConfusion'][i]:\n",
    "            gmm_tp = gmm_tp + 1\n",
    "        else:\n",
    "            gmm_fp = gmm_fp + 1\n",
    "    else:\n",
    "        if 'not_confused' == df_raw['ReportedConfusion'][i]:\n",
    "            gmm_tn = gmm_tn + 1\n",
    "        else:\n",
    "            gmm_fn = gmm_fn + 1"
   ]
  },
  {
   "cell_type": "code",
   "execution_count": 130,
   "metadata": {},
   "outputs": [
    {
     "name": "stdout",
     "output_type": "stream",
     "text": [
      "\u001b[1m                             DATA CONFUSED   DATA NOT_CONFUSED\u001b[0m\n",
      "------------------------------------------------------------------------------------------------------------------\n",
      "       PREDICTION CONFUSED              23                   1\n",
      "   PREDICTION NOT_CONFUSED              23                  13\n"
     ]
    }
   ],
   "source": [
    "table = [\n",
    "    [\"\", \"DATA CONFUSED\", \"DATA NOT_CONFUSED\"],\n",
    "    [\"PREDICTION CONFUSED\", gmm_tp, gmm_fp],\n",
    "    [\"PREDICTION NOT_CONFUSED\", gmm_fn, gmm_tn]\n",
    "]\n",
    "print_table(table)"
   ]
  },
  {
   "cell_type": "code",
   "execution_count": 131,
   "metadata": {},
   "outputs": [],
   "source": [
    "GMM_accuracy = (gmm_tp + gmm_tn)/(gmm_tp + gmm_fn + gmm_fp + gmm_tn)"
   ]
  },
  {
   "cell_type": "code",
   "execution_count": 132,
   "metadata": {},
   "outputs": [],
   "source": [
    "clustering_gmm_cn = []\n",
    "for i in range (len(labels)):\n",
    "    if labels[i] == 0:\n",
    "        clustering_gmm_cn.append('confused')\n",
    "    else:\n",
    "        clustering_gmm_cn.append('not_confused')"
   ]
  },
  {
   "cell_type": "code",
   "execution_count": 134,
   "metadata": {},
   "outputs": [
    {
     "name": "stdout",
     "output_type": "stream",
     "text": [
      "\n",
      "Accuracy FOR GMM clustering:  0.6\n",
      "\n",
      "Cohen Kappa FOR GMM clustering:  0.2771084337349399\n",
      "\n",
      "Sensitivity FOR GMM clustering(Confused clustered accuracy):  0.5\n",
      "\n",
      "Specifity FOR GMM clustering (Not_Confused clustered accuracy):  0.9285714285714286\n"
     ]
    }
   ],
   "source": [
    "gmm_cohen_kappa = cohen_kappa_score(df_raw['ReportedConfusion'], clustering_gmm_cn)\n",
    "\n",
    "print('\\nAccuracy FOR GMM clustering: ', GMM_accuracy)\n",
    "print('\\nCohen Kappa FOR GMM clustering: ', gmm_cohen_kappa)\n",
    "\n",
    "GMM_sensitivity = gmm_tp / (gmm_tp + gmm_fn)\n",
    "\n",
    "GMM_specifity = gmm_tn / (gmm_tn + gmm_fp)\n",
    "\n",
    "print('\\nSensitivity FOR GMM clustering(Confused clustered accuracy): ', GMM_sensitivity)\n",
    "print('\\nSpecifity FOR GMM clustering (Not_Confused clustered accuracy): ', GMM_specifity)\n",
    "\n"
   ]
  },
  {
   "cell_type": "markdown",
   "metadata": {},
   "source": [
    "Because not_confused got clusetered in the middle it has forsaken the most down point, which caused the slight drop in Specifity. However, it didnt choose top and bottom of the cluster, so the Sensitivity has improved slightly. However, my assumption is that based on the choosing the centroid for K-Means, Accuracy of K-means could improve (Improvement in Sensitivity) but it will not choose the most down point of the Not_confused as Confused so Specifity has dropped here. "
   ]
  },
  {
   "cell_type": "markdown",
   "metadata": {},
   "source": [
    "## GMM3"
   ]
  },
  {
   "cell_type": "code",
   "execution_count": 138,
   "metadata": {},
   "outputs": [],
   "source": [
    "reportedConfusion_int = []\n",
    "for i in range(60):    \n",
    "    if df_raw['ReportedConfusion'][i] == 'not_confused':\n",
    "        reportedConfusion_int.append(1)\n",
    "    else:\n",
    "        reportedConfusion_int.append(0)"
   ]
  },
  {
   "cell_type": "code",
   "execution_count": 139,
   "metadata": {},
   "outputs": [],
   "source": [
    "gmm_predict_prob = gmm.predict_proba(df_raw[['LowFreqPower', 'HighFreqPower']])[:,1]"
   ]
  },
  {
   "cell_type": "code",
   "execution_count": 146,
   "metadata": {},
   "outputs": [
    {
     "data": {
      "image/png": "[encoded data removed]",
      "text/plain": [
       "<Figure size 720x720 with 1 Axes>"
      ]
     },
     "metadata": {
      "needs_background": "light"
     },
     "output_type": "display_data"
    }
   ],
   "source": [
    "fpr, tpr, _ = roc_curve(reportedConfusion_int, gmm_predict_prob, pos_label=1)\n",
    "\n",
    "gmm_auc = auc(fpr, tpr)\n",
    "    \n",
    "plt.figure(figsize=(10, 10))\n",
    "lw = 2     \n",
    "plt.plot(fpr, tpr, 'red', label='mean ROC curve (area = %0.2f)' % gmm_auc)\n",
    "\n",
    "plt.plot([0, 1], [0, 1], color='navy', lw=lw, linestyle='--')\n",
    "plt.xlim([0.0, 1.0])\n",
    "plt.ylim([0.0, 1.05])\n",
    "plt.xlabel('False Positive Rate')\n",
    "plt.ylabel('True Positive Rate')\n",
    "plt.title('ROC curve for logistic regression')\n",
    "plt.legend(loc=\"lower right\")\n",
    "plt.show()"
   ]
  },
  {
   "cell_type": "markdown",
   "metadata": {},
   "source": [
    "## IL1"
   ]
  },
  {
   "cell_type": "code",
   "execution_count": 147,
   "metadata": {},
   "outputs": [],
   "source": [
    "gmm_il = GaussianMixture(n_components=2).fit(df_raw[['LowFreqPower', 'HighFreqPower']])\n",
    "labels_il = gmm_il.predict(df_raw[['LowFreqPower', 'HighFreqPower']])\n",
    "\n",
    "threshold = np.mean(gmm_il.means_)\n"
   ]
  },
  {
   "cell_type": "code",
   "execution_count": 155,
   "metadata": {},
   "outputs": [
    {
     "name": "stdout",
     "output_type": "stream",
     "text": [
      "[[1.18041832e-01 8.81958168e-01]\n",
      " [1.63297390e-02 9.83670261e-01]\n",
      " [8.13425571e-01 1.86574429e-01]\n",
      " [9.29343677e-01 7.06563230e-02]\n",
      " [9.49864462e-01 5.01355377e-02]\n",
      " [5.46838821e-02 9.45316118e-01]\n",
      " [4.25648875e-01 5.74351125e-01]\n",
      " [9.94400862e-01 5.59913843e-03]\n",
      " [1.81153234e-02 9.81884677e-01]\n",
      " [4.18885143e-02 9.58111486e-01]\n",
      " [2.07425066e-02 9.79257493e-01]\n",
      " [2.78817855e-02 9.72118215e-01]\n",
      " [2.96302929e-02 9.70369707e-01]\n",
      " [3.76147207e-02 9.62385279e-01]\n",
      " [7.70875354e-01 2.29124646e-01]\n",
      " [5.07486310e-01 4.92513690e-01]\n",
      " [3.08517248e-01 6.91482752e-01]\n",
      " [4.54839296e-02 9.54516070e-01]\n",
      " [8.20955990e-01 1.79044010e-01]\n",
      " [6.67309945e-02 9.33269006e-01]\n",
      " [2.03830324e-02 9.79616968e-01]\n",
      " [2.58606264e-01 7.41393736e-01]\n",
      " [7.64116860e-02 9.23588314e-01]\n",
      " [7.31912093e-02 9.26808791e-01]\n",
      " [4.92434253e-02 9.50756575e-01]\n",
      " [7.17758594e-02 9.28224141e-01]\n",
      " [1.23368383e-01 8.76631617e-01]\n",
      " [9.59096245e-01 4.09037552e-02]\n",
      " [1.03032464e-01 8.96967536e-01]\n",
      " [5.98949184e-01 4.01050816e-01]\n",
      " [7.20636011e-01 2.79363989e-01]\n",
      " [1.82491617e-02 9.81750838e-01]\n",
      " [9.87506750e-01 1.24932496e-02]\n",
      " [9.99962009e-01 3.79905612e-05]\n",
      " [1.07036546e-03 9.98929635e-01]\n",
      " [9.95228381e-01 4.77161860e-03]\n",
      " [1.63412331e-02 9.83658767e-01]\n",
      " [6.51911457e-01 3.48088543e-01]\n",
      " [9.33904712e-01 6.60952878e-02]\n",
      " [1.48587503e-01 8.51412497e-01]\n",
      " [8.75647563e-01 1.24352437e-01]\n",
      " [2.40053922e-01 7.59946078e-01]\n",
      " [2.37981339e-02 9.76201866e-01]\n",
      " [8.30472483e-02 9.16952752e-01]\n",
      " [5.71178151e-02 9.42882185e-01]\n",
      " [7.64901677e-02 9.23509832e-01]\n",
      " [9.11645815e-03 9.90883542e-01]\n",
      " [6.44984396e-03 9.93550156e-01]\n",
      " [2.78680739e-03 9.97213193e-01]\n",
      " [3.86190969e-04 9.99613809e-01]\n",
      " [2.89844542e-03 9.97101555e-01]\n",
      " [7.01887110e-05 9.99929811e-01]\n",
      " [1.60781058e-04 9.99839219e-01]\n",
      " [8.98900335e-05 9.99910110e-01]\n",
      " [8.71705859e-05 9.99912829e-01]\n",
      " [4.76954794e-02 9.52304521e-01]\n",
      " [1.66258471e-03 9.98337415e-01]\n",
      " [7.50585778e-03 9.92494142e-01]\n",
      " [4.20024740e-02 9.57997526e-01]\n",
      " [5.93645515e-04 9.99406354e-01]]\n",
      "[1 1 0 0 0 1 1 0 1 1 1 1 1 1 0 0 1 1 0 1 1 1 1 1 1 1 1 0 1 0 0 1 0 0 1 0 1\n",
      " 0 0 1 0 1 1 1 1 1 1 1 1 1 1 1 1 1 1 1 1 1 1 1]\n"
     ]
    },
    {
     "ename": "AttributeError",
     "evalue": "'GaussianMixture' object has no attribute 'probability'",
     "output_type": "error",
     "traceback": [
      "\u001b[1;31m---------------------------------------------------------------------------\u001b[0m",
      "\u001b[1;31mAttributeError\u001b[0m                            Traceback (most recent call last)",
      "\u001b[1;32m<ipython-input-155-174b7fc5b5ce>\u001b[0m in \u001b[0;36m<module>\u001b[1;34m\u001b[0m\n\u001b[0;32m      1\u001b[0m \u001b[0mprint\u001b[0m\u001b[1;33m(\u001b[0m\u001b[0mgmm_il\u001b[0m\u001b[1;33m.\u001b[0m\u001b[0mpredict_proba\u001b[0m\u001b[1;33m(\u001b[0m\u001b[0mdf_raw\u001b[0m\u001b[1;33m[\u001b[0m\u001b[1;33m[\u001b[0m\u001b[1;34m'LowFreqPower'\u001b[0m\u001b[1;33m,\u001b[0m \u001b[1;34m'HighFreqPower'\u001b[0m\u001b[1;33m]\u001b[0m\u001b[1;33m]\u001b[0m\u001b[1;33m)\u001b[0m\u001b[1;33m)\u001b[0m\u001b[1;33m\u001b[0m\u001b[1;33m\u001b[0m\u001b[0m\n\u001b[0;32m      2\u001b[0m \u001b[0mprint\u001b[0m\u001b[1;33m(\u001b[0m\u001b[0mlabels_il\u001b[0m\u001b[1;33m)\u001b[0m\u001b[1;33m\u001b[0m\u001b[1;33m\u001b[0m\u001b[0m\n\u001b[1;32m----> 3\u001b[1;33m \u001b[0mprint\u001b[0m\u001b[1;33m(\u001b[0m\u001b[0mgmm_il\u001b[0m\u001b[1;33m.\u001b[0m\u001b[0mprobability\u001b[0m\u001b[1;33m(\u001b[0m\u001b[0mdf_raw\u001b[0m\u001b[1;33m[\u001b[0m\u001b[1;33m[\u001b[0m\u001b[1;34m'LowFreqPower'\u001b[0m\u001b[1;33m,\u001b[0m \u001b[1;34m'HighFreqPower'\u001b[0m\u001b[1;33m]\u001b[0m\u001b[1;33m]\u001b[0m\u001b[1;33m)\u001b[0m\u001b[1;33m)\u001b[0m\u001b[1;33m\u001b[0m\u001b[1;33m\u001b[0m\u001b[0m\n\u001b[0m",
      "\u001b[1;31mAttributeError\u001b[0m: 'GaussianMixture' object has no attribute 'probability'"
     ]
    }
   ],
   "source": [
    "print(gmm_il.predict_proba(df_raw[['LowFreqPower', 'HighFreqPower']]))\n",
    "print(labels_il)\n",
    "print(gmm_il.probability(df_raw[['LowFreqPower', 'HighFreqPower']]))"
   ]
  },
  {
   "cell_type": "code",
   "execution_count": 148,
   "metadata": {},
   "outputs": [
    {
     "name": "stdout",
     "output_type": "stream",
     "text": [
      "0.14289099448073214\n"
     ]
    }
   ],
   "source": [
    "print(threshold)"
   ]
  },
  {
   "cell_type": "code",
   "execution_count": null,
   "metadata": {},
   "outputs": [],
   "source": [
    "\n",
    "clustering_confused_low_il = []\n",
    "clustering_confused_high_il = []\n",
    "      \n",
    "      \n",
    "clustering_notconfused_low_il = []\n",
    "clustering_notconfused_high_il = []\n",
    "\n",
    "for i in range(60):\n",
    "    if labels_il[i] == 0:\n",
    "        clustering_confused_low_il.append(df_raw['LowFreqPower'][i])\n",
    "        clustering_confused_high_il.append(df_raw['HighFreqPower'][i])\n",
    "    if labels_il[i] == 1:\n",
    "        clustering_notconfused_low_il.append(df_raw['LowFreqPower'][i])\n",
    "        clustering_notconfused_high_il.append(df_raw['HighFreqPower'][i])\n",
    "      \n",
    "center_confused_low_il = sum(clustering_confused_low_il) / len(clustering_confused_low_il)\n",
    "center_confused_high_il = sum(clustering_confused_high_il) / len(clustering_confused_high_il)\n",
    "      \n",
    "center_notconfused_low_il = sum(clustering_notconfused_low_il) / len(clustering_notconfused_low_il)\n",
    "center_notconfused_high_il = sum(clustering_notconfused_high_il) / len(clustering_notconfused_high_il)"
   ]
  },
  {
   "cell_type": "markdown",
   "metadata": {},
   "source": [
    "## IL2"
   ]
  },
  {
   "cell_type": "code",
   "execution_count": 175,
   "metadata": {},
   "outputs": [
    {
     "name": "stdout",
     "output_type": "stream",
     "text": [
      "16\n",
      "[[0.103193520486704, 0.7269880863856204, 0.8951844377778564, -0.07377629272796528, -0.22974785882022666, 0.49079104666369205, 0.3584375624388639, -0.0978547800247964, 0.027719696449481968, 0.44742310219560577, 0.7923491004752476, 0.520021798636609, 0.6545314623926032, 0.8893740787395604, -0.059133027160274576, 0.38951725157787737, -0.6906686679791921, -0.7914647490139815, -0.9952501513173796, -1.5587344646718466, -0.9968407317695444, -1.9490194748089749, -1.7683462042566287, -1.9570395218682228, -1.890230447436845, -0.5192757007026587, -1.1587148673954464, -0.7798092571869437, -0.370237725404745, -1.4273304507529092], [0.2120851893607481, -0.4468443448445466, -0.14847451377090096, 0.6319837903811816, 0.2188349164679918, -0.2863807326990348, 0.09478179419991745, 0.1536714646199798, -0.1407455587328219, 0.4507745710345615, 0.24131674607680884, -0.932668520515401, 0.1706158911346705, 0.6315316017515472, -0.17747853066151725, 2.7078111191518976, -0.2396705655741902, -0.3261817548474455, 0.11218216778078163, 0.11310591257673025, -0.2012826081856743, -0.9048940409942338, -0.3676119855160312, -0.03241984692391394, -1.075355378579522, -1.7737451641582889, -0.5297374943139279, -0.6072324918662493, -0.7964287014508029, -0.8298273306600048]]\n"
     ]
    }
   ],
   "source": [
    "from scipy import signal\n",
    "\n",
    "confused_data = df_raw[df_raw['ReportedConfusion'] == 'confused']\n",
    "not_confused_data = df_raw[df_raw['ReportedConfusion'] == 'not_confused']\n",
    "\n",
    "low_down = signal.decimate(confused_data['LowFreqPower'], 3)\n",
    "high_down = signal.decimate(confused_data['HighFreqPower'], 3)\n",
    "\n",
    "print(len(low_down))\n",
    "\n",
    "low_down = [*low_down, *not_confused_data['LowFreqPower']]\n",
    "high_down = [*high_down, *not_confused_data['HighFreqPower']]\n",
    "\n",
    "print([low_down,high_down])"
   ]
  },
  {
   "cell_type": "code",
   "execution_count": 174,
   "metadata": {},
   "outputs": [
    {
     "name": "stdout",
     "output_type": "stream",
     "text": [
      "[0 1]\n"
     ]
    },
    {
     "ename": "IndexError",
     "evalue": "index 2 is out of bounds for axis 0 with size 2",
     "output_type": "error",
     "traceback": [
      "\u001b[1;31m---------------------------------------------------------------------------\u001b[0m",
      "\u001b[1;31mIndexError\u001b[0m                                Traceback (most recent call last)",
      "\u001b[1;32m<ipython-input-174-4b522192be19>\u001b[0m in \u001b[0;36m<module>\u001b[1;34m\u001b[0m\n\u001b[0;32m     12\u001b[0m \u001b[1;33m\u001b[0m\u001b[0m\n\u001b[0;32m     13\u001b[0m \u001b[1;32mfor\u001b[0m \u001b[0mi\u001b[0m \u001b[1;32min\u001b[0m \u001b[0mrange\u001b[0m\u001b[1;33m(\u001b[0m\u001b[1;36m30\u001b[0m\u001b[1;33m)\u001b[0m\u001b[1;33m:\u001b[0m\u001b[1;33m\u001b[0m\u001b[1;33m\u001b[0m\u001b[0m\n\u001b[1;32m---> 14\u001b[1;33m     \u001b[1;32mif\u001b[0m \u001b[0mlabels\u001b[0m\u001b[1;33m[\u001b[0m\u001b[0mi\u001b[0m\u001b[1;33m]\u001b[0m \u001b[1;33m==\u001b[0m \u001b[1;36m0\u001b[0m\u001b[1;33m:\u001b[0m\u001b[1;33m\u001b[0m\u001b[1;33m\u001b[0m\u001b[0m\n\u001b[0m\u001b[0;32m     15\u001b[0m         \u001b[0mclustering_confused_low\u001b[0m\u001b[1;33m.\u001b[0m\u001b[0mappend\u001b[0m\u001b[1;33m(\u001b[0m\u001b[0mdf_raw\u001b[0m\u001b[1;33m[\u001b[0m\u001b[1;34m'LowFreqPower'\u001b[0m\u001b[1;33m]\u001b[0m\u001b[1;33m[\u001b[0m\u001b[0mi\u001b[0m\u001b[1;33m]\u001b[0m\u001b[1;33m)\u001b[0m\u001b[1;33m\u001b[0m\u001b[1;33m\u001b[0m\u001b[0m\n\u001b[0;32m     16\u001b[0m         \u001b[0mclustering_confused_high\u001b[0m\u001b[1;33m.\u001b[0m\u001b[0mappend\u001b[0m\u001b[1;33m(\u001b[0m\u001b[0mdf_raw\u001b[0m\u001b[1;33m[\u001b[0m\u001b[1;34m'HighFreqPower'\u001b[0m\u001b[1;33m]\u001b[0m\u001b[1;33m[\u001b[0m\u001b[0mi\u001b[0m\u001b[1;33m]\u001b[0m\u001b[1;33m)\u001b[0m\u001b[1;33m\u001b[0m\u001b[1;33m\u001b[0m\u001b[0m\n",
      "\u001b[1;31mIndexError\u001b[0m: index 2 is out of bounds for axis 0 with size 2"
     ]
    }
   ],
   "source": [
    "gmm = GaussianMixture(n_components=2).fit([low_down,high_down])\n",
    "labels = gmm.predict([low_down,high_down])\n",
    "\n",
    "print(labels)\n",
    "\n",
    "clustering_confused_low = []\n",
    "clustering_confused_high = []\n",
    "      \n",
    "      \n",
    "clustering_notconfused_low = []\n",
    "clustering_notconfused_high = []\n",
    "\n",
    "for i in range(30):\n",
    "    if labels[i] == 0:\n",
    "        clustering_confused_low.append(df_raw['LowFreqPower'][i])\n",
    "        clustering_confused_high.append(df_raw['HighFreqPower'][i])\n",
    "    if labels[i] == 1:\n",
    "        clustering_notconfused_low.append(df_raw['LowFreqPower'][i])\n",
    "        clustering_notconfused_high.append(df_raw['HighFreqPower'][i])\n",
    "      \n",
    "center_confused_low = sum(clustering_confused_low) / len(clustering_confused_low)\n",
    "center_confused_high = sum(clustering_confused_high) / len(clustering_confused_high)\n",
    "      \n",
    "center_notconfused_low = sum(clustering_notconfused_low) / len(clustering_notconfused_low)\n",
    "center_notconfused_high = sum(clustering_notconfused_high) / len(clustering_notconfused_high)"
   ]
  },
  {
   "cell_type": "code",
   "execution_count": null,
   "metadata": {},
   "outputs": [],
   "source": []
  }
 ],
 "metadata": {
  "kernelspec": {
   "display_name": "Python 3",
   "language": "python",
   "name": "python3"
  },
  "language_info": {
   "codemirror_mode": {
    "name": "ipython",
    "version": 3
   },
   "file_extension": ".py",
   "mimetype": "text/x-python",
   "name": "python",
   "nbconvert_exporter": "python",
   "pygments_lexer": "ipython3",
   "version": "3.7.1"
  }
 },
 "nbformat": 4,
 "nbformat_minor": 2
}
