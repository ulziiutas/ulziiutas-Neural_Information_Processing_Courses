{
 "cells": [
  {
   "cell_type": "code",
   "execution_count": 3,
   "metadata": {},
   "outputs": [],
   "source": [
    "from IPython.display import display, Math, Latex\n",
    "\n",
    "# Libraries you might need \n",
    "from matplotlib import pyplot as plt\n",
    "%matplotlib inline\n",
    "from scipy.stats import bernoulli\n",
    "\n",
    "import numpy as np\n",
    "import statistics\n",
    "import time\n",
    "import math"
   ]
  },
  {
   "cell_type": "code",
   "execution_count": 17,
   "metadata": {},
   "outputs": [
    {
     "name": "stdout",
     "output_type": "stream",
     "text": [
      "1   0.03368973499542734\n",
      "2   0.08422433748856833\n",
      "3   0.14037389581428056\n",
      "4   0.1754673697678507\n",
      "5   0.1754673697678507\n",
      "6   0.1462228081398756\n",
      "7   0.104444862957054\n",
      "8   0.06527803934815875\n",
      "9   0.03626557741564375\n",
      "10   0.01813278870782187\n"
     ]
    }
   ],
   "source": [
    "lam = 0.5;\n",
    "delt = 10;\n",
    "mu = lam * delt;\n",
    "k = np.arange(1, 11);\n",
    "\n",
    "for i in range(10):\n",
    "    p = ((mu ** k[i]) * np.exp(-mu)) /  math.factorial(k[i]);\n",
    "    print(k[i],\" \", p);"
   ]
  }
 ],
 "metadata": {
  "kernelspec": {
   "display_name": "Python 3",
   "language": "python",
   "name": "python3"
  },
  "language_info": {
   "codemirror_mode": {
    "name": "ipython",
    "version": 3
   },
   "file_extension": ".py",
   "mimetype": "text/x-python",
   "name": "python",
   "nbconvert_exporter": "python",
   "pygments_lexer": "ipython3",
   "version": "3.7.1"
  }
 },
 "nbformat": 4,
 "nbformat_minor": 2
}
